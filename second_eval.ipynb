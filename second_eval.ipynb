{
 "cells": [
  {
   "cell_type": "code",
   "id": "initial_id",
   "metadata": {
    "collapsed": true
   },
   "source": [
    "import torch\n",
    "import os\n",
    "\n",
    "from sentence_transformers import CrossEncoder\n",
    "from src.chain_initialisation import init_chain\n",
    "from src.embedding_management import init_embeddings, add_embeddings_from_files\n",
    "from src.model_initialisation import init_model\n",
    "from src.pipeline_initialisation import init_pipeline\n",
    "from src.retriever_initialisation import init_retriever\n",
    "from src.dynamic_doc_retrieval import download_documents, initialise_keyword_model, generate_query_from_question"
   ],
   "outputs": [],
   "execution_count": null
  },
  {
   "metadata": {},
   "cell_type": "code",
   "source": [
    "cuda_available = torch.cuda.is_available()\n",
    "print(f\"Initializing model... CUDA available: {cuda_available}\")\n",
    "model, model_name = init_model(cuda_available)\n",
    "pipeline = init_pipeline(model=model, model_name=model_name)\n",
    "vectorstore = init_embeddings(cuda_available)"
   ],
   "id": "5035df5a98408822",
   "outputs": [],
   "execution_count": null
  },
  {
   "metadata": {
    "ExecuteTime": {
     "end_time": "2025-05-28T12:23:04.930338Z",
     "start_time": "2025-05-28T12:23:04.922189Z"
    }
   },
   "cell_type": "code",
   "source": [
    "BASE_DIR = os.curdir\n",
    "DATA_DIR = os.path.join(BASE_DIR, \"data\")\n",
    "DYNAMIC_DATA_DIR = os.path.join(DATA_DIR, \"dynamic\")\n",
    "print(f\"dynamic data dir: {DYNAMIC_DATA_DIR}\")\n",
    "\n",
    "def ask_question(question, online=True, top_k=3, min_score=0.5):\n",
    "    query = \"\"\n",
    "    downloaded_files = []\n",
    "    if online:\n",
    "        print(\"Obtaining data from scholar...\")\n",
    "        query = generate_query_from_question(keyword_model, question)\n",
    "        num_docs: int = int(os.getenv(\"num_docs\"))\n",
    "        max_tries: int = int(os.getenv(\"max_tries\"))\n",
    "        downloaded_files = download_documents(query, DYNAMIC_DATA_DIR, num_docs, max_tries)\n",
    "        add_embeddings_from_files(vectorstore, downloaded_files)\n",
    "\n",
    "    response = chain.invoke({\n",
    "        \"question\": question,\n",
    "        \"chat_history\": []\n",
    "    })\n",
    "    answer = response[\"answer\"].split(\"### Answer:\")[-1].strip()\n",
    "    source_documents = response[\"source_documents\"]\n",
    "    filtered_docs = rerank_documents(question, source_documents, top_k=top_k, min_score=min_score)\n",
    "    return {\n",
    "        \"question\": question,\n",
    "        \"answer\": answer,\n",
    "        \"source_documents\": source_documents,\n",
    "        \"filtered_docs\": filtered_docs,\n",
    "        \"query\": query,\n",
    "        \"downloaded_files\": downloaded_files,\n",
    "        \"online\": online,\n",
    "        \"rerank_top_k\": top_k,\n",
    "        \"min_rerank_score\": min_score\n",
    "    }\n",
    "\n",
    "\n",
    "def rerank_documents(query: str, documents: list, top_k: int = 3, min_score = 0.5) -> list:\n",
    "    if not documents:\n",
    "        return []\n",
    "\n",
    "    pairs = [(query, doc.page_content) for doc in documents]\n",
    "    scores = reranker.predict(pairs)\n",
    "    ranked = sorted(zip(documents, scores), key=lambda x: x[1], reverse=True)\n",
    "\n",
    "    return [doc for doc, score in ranked[:top_k] if score > min_score]"
   ],
   "id": "1d6b0adca929f4b7",
   "outputs": [
    {
     "name": "stdout",
     "output_type": "stream",
     "text": [
      "dynamic data dir: .\\data\\dynamic\n"
     ]
    }
   ],
   "execution_count": 3
  },
  {
   "metadata": {},
   "cell_type": "code",
   "outputs": [],
   "execution_count": null,
   "source": [
    "import json\n",
    "\n",
    "results_file = \"results.jsonl\"\n",
    "\n",
    "configs = [\n",
    "    {\"k\": 3, \"th\": 0.7},\n",
    "    {\"k\": 3, \"th\": 0.9},\n",
    "    {\"k\": 5, \"th\": 0.7},\n",
    "    {\"k\": 5, \"th\": 0.85},\n",
    "    {\"k\": 10, \"th\": 0.7},\n",
    "    {\"k\": 10, \"th\": 0.9},\n",
    "]\n",
    "\n",
    "rerank_configs = [\n",
    "    {\"top_k\": 2, \"min_score\": 0.3},\n",
    "    {\"top_k\": 3, \"min_score\": 0.5},\n",
    "    {\"top_k\": 5, \"min_score\": 0.6},\n",
    "]\n",
    "\n",
    "questions = [\n",
    "    \"What are the long-term effects of microplastic ingestion in marine life?\",\n",
    "    \"How does transformer architecture differ from traditional RNNs in NLP tasks?\",\n",
    "    \"What are the advantages of using vector databases for semantic search?\",\n",
    "    \"How can FAISS be optimized for large-scale document retrieval?\",\n",
    "    \"Tell me how retroviruses are able to cross species barriers and known cases of such situations\",\n",
    "    \"What are the latest advancements in quantum computing and their potential applications?\",\n",
    "    \"What are the risks and benefits of intermittent fasting in elderly patients with type 2 diabetes and mild cognitive impairment?\",\n",
    "    \"What are the mechanisms by which chronic psychological stress increases the risk of cardiovascular disease?\",\n",
    "    \"How does gut microbiota influence the efficacy of checkpoint inhibitor therapy in metastatic melanoma?\",\n",
    "    \"What are the potential applications of CRISPR technology in treating genetic disorders?\",\n",
    "    \"How did Alan Turing's 1936 paper on computable numbers influence the development of modern algorithms?\",\n",
    "    \"What is the historical significance of the Treaty of Tordesillas in shaping modern colonial boundaries?\",\n",
    "    \"How did the discovery of the double helix structure of DNA in 1953 by Watson and Crick revolutionize our understanding of genetics?\",\n",
    "    \"What are the key differences between classical and quantum cryptography, and how do they impact data security?\",\n",
    "    \"What are the implications of the discovery of the Higgs boson for our understanding of particle physics?\",\n",
    "    \"How does the process of photosynthesis in plants contribute to the carbon cycle and climate regulation?\",\n",
    "    \"What are the main limitations of quantum annealing for solving combinatorial optimization problems?\",\n",
    "    \"How did the use of concrete evolve in Roman versus Byzantine architecture?\",\n",
    "    \"Make comparison of different chips and graphic cards regarding their efficiency and scalability for AI applications on AWS\",\n",
    "    \"What are the results for presidential elections in Poland in 2025?\",\n",
    "]\n",
    "\n",
    "for config in configs:\n",
    "    retriever = init_retriever(vectorstore, k=config[\"k\"], th=config[\"th\"])\n",
    "    reranker = CrossEncoder(\"cross-encoder/ms-marco-MiniLM-L-6-v2\")\n",
    "    chain = init_chain(pipeline=pipeline, retriever=retriever)\n",
    "    keyword_model = initialise_keyword_model()\n",
    "    print(\"Start-up complete.\")\n",
    "    for online in [False, True]:\n",
    "        for q in questions:\n",
    "            for rerank_conf in rerank_configs:\n",
    "                result = ask_question(\n",
    "                    q,\n",
    "                    online=online,\n",
    "                    top_k=rerank_conf[\"top_k\"],\n",
    "                    min_score=rerank_conf[\"min_score\"]\n",
    "                )\n",
    "\n",
    "                result.update({\n",
    "                    \"retriever_k\": config[\"k\"],\n",
    "                    \"retriever_th\": config[\"th\"]\n",
    "                })\n",
    "\n",
    "                with open(results_file, \"a\", encoding=\"utf-8\") as f:\n",
    "                    json.dump(result, f)\n",
    "                    f.write(\"\\n\")\n",
    "\n"
   ],
   "id": "a1d22acf17e7a464"
  }
 ],
 "metadata": {
  "kernelspec": {
   "display_name": "Python 3",
   "language": "python",
   "name": "python3"
  },
  "language_info": {
   "codemirror_mode": {
    "name": "ipython",
    "version": 2
   },
   "file_extension": ".py",
   "mimetype": "text/x-python",
   "name": "python",
   "nbconvert_exporter": "python",
   "pygments_lexer": "ipython2",
   "version": "2.7.6"
  }
 },
 "nbformat": 4,
 "nbformat_minor": 5
}
