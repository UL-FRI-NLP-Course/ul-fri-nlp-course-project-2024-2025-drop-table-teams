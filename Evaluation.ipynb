{
 "cells": [
  {
   "cell_type": "code",
   "execution_count": 1,
   "id": "ce818788",
   "metadata": {},
   "outputs": [
    {
     "data": {
      "text/html": [
       "<div>\n",
       "<style scoped>\n",
       "    .dataframe tbody tr th:only-of-type {\n",
       "        vertical-align: middle;\n",
       "    }\n",
       "\n",
       "    .dataframe tbody tr th {\n",
       "        vertical-align: top;\n",
       "    }\n",
       "\n",
       "    .dataframe thead th {\n",
       "        text-align: right;\n",
       "    }\n",
       "</style>\n",
       "<table border=\"1\" class=\"dataframe\">\n",
       "  <thead>\n",
       "    <tr style=\"text-align: right;\">\n",
       "      <th></th>\n",
       "      <th>question</th>\n",
       "      <th>distractor3</th>\n",
       "      <th>distractor1</th>\n",
       "      <th>distractor2</th>\n",
       "      <th>correct_answer</th>\n",
       "      <th>support</th>\n",
       "    </tr>\n",
       "  </thead>\n",
       "  <tbody>\n",
       "    <tr>\n",
       "      <th>0</th>\n",
       "      <td>What type of organism is commonly used in prep...</td>\n",
       "      <td>viruses</td>\n",
       "      <td>protozoa</td>\n",
       "      <td>gymnosperms</td>\n",
       "      <td>mesophilic organisms</td>\n",
       "      <td>Mesophiles grow best in moderate temperature, ...</td>\n",
       "    </tr>\n",
       "    <tr>\n",
       "      <th>1</th>\n",
       "      <td>What phenomenon makes global winds blow northe...</td>\n",
       "      <td>tropical effect</td>\n",
       "      <td>muon effect</td>\n",
       "      <td>centrifugal effect</td>\n",
       "      <td>coriolis effect</td>\n",
       "      <td>Without Coriolis Effect the global winds would...</td>\n",
       "    </tr>\n",
       "    <tr>\n",
       "      <th>2</th>\n",
       "      <td>Changes from a less-ordered state to a more-or...</td>\n",
       "      <td>endothermic</td>\n",
       "      <td>unbalanced</td>\n",
       "      <td>reactive</td>\n",
       "      <td>exothermic</td>\n",
       "      <td>Summary Changes of state are examples of phase...</td>\n",
       "    </tr>\n",
       "    <tr>\n",
       "      <th>3</th>\n",
       "      <td>What is the least dangerous radioactive decay?</td>\n",
       "      <td>zeta decay</td>\n",
       "      <td>beta decay</td>\n",
       "      <td>gamma decay</td>\n",
       "      <td>alpha decay</td>\n",
       "      <td>All radioactive decay is dangerous to living t...</td>\n",
       "    </tr>\n",
       "    <tr>\n",
       "      <th>4</th>\n",
       "      <td>Kilauea in hawaii is the world’s most continuo...</td>\n",
       "      <td>magma</td>\n",
       "      <td>greenhouse gases</td>\n",
       "      <td>carbon and smog</td>\n",
       "      <td>smoke and ash</td>\n",
       "      <td>Example 3.5 Calculating Projectile Motion: Hot...</td>\n",
       "    </tr>\n",
       "    <tr>\n",
       "      <th>...</th>\n",
       "      <td>...</td>\n",
       "      <td>...</td>\n",
       "      <td>...</td>\n",
       "      <td>...</td>\n",
       "      <td>...</td>\n",
       "      <td>...</td>\n",
       "    </tr>\n",
       "    <tr>\n",
       "      <th>11674</th>\n",
       "      <td>The enzyme pepsin plays an important role in t...</td>\n",
       "      <td>lipids</td>\n",
       "      <td>protons</td>\n",
       "      <td>proteins</td>\n",
       "      <td>peptides</td>\n",
       "      <td>Protein A large part of protein digestion take...</td>\n",
       "    </tr>\n",
       "    <tr>\n",
       "      <th>11675</th>\n",
       "      <td>What remains a constant of radioactive substan...</td>\n",
       "      <td>acidity</td>\n",
       "      <td>temperature</td>\n",
       "      <td>volatility</td>\n",
       "      <td>rate of decay</td>\n",
       "      <td>The rate of decay of a radioactive substance i...</td>\n",
       "    </tr>\n",
       "    <tr>\n",
       "      <th>11676</th>\n",
       "      <td>Terrestrial ecosystems, also known for their d...</td>\n",
       "      <td>substrates</td>\n",
       "      <td>bisomes</td>\n",
       "      <td>monomes</td>\n",
       "      <td>biomes</td>\n",
       "      <td>Terrestrial ecosystems, also known for their d...</td>\n",
       "    </tr>\n",
       "    <tr>\n",
       "      <th>11677</th>\n",
       "      <td>High explosives create shock waves that exceed...</td>\n",
       "      <td>turbulence</td>\n",
       "      <td>light speed</td>\n",
       "      <td>ion speed</td>\n",
       "      <td>supersonic</td>\n",
       "      <td>The modern day formulation of gun powder is ca...</td>\n",
       "    </tr>\n",
       "    <tr>\n",
       "      <th>11678</th>\n",
       "      <td>What do you call a structure composed of two o...</td>\n",
       "      <td>system</td>\n",
       "      <td>cell</td>\n",
       "      <td>marrow</td>\n",
       "      <td>organ</td>\n",
       "      <td>An organ is a structure composed of two or mor...</td>\n",
       "    </tr>\n",
       "  </tbody>\n",
       "</table>\n",
       "<p>11679 rows × 6 columns</p>\n",
       "</div>"
      ],
      "text/plain": [
       "                                                question      distractor3  \\\n",
       "0      What type of organism is commonly used in prep...          viruses   \n",
       "1      What phenomenon makes global winds blow northe...  tropical effect   \n",
       "2      Changes from a less-ordered state to a more-or...      endothermic   \n",
       "3         What is the least dangerous radioactive decay?       zeta decay   \n",
       "4      Kilauea in hawaii is the world’s most continuo...            magma   \n",
       "...                                                  ...              ...   \n",
       "11674  The enzyme pepsin plays an important role in t...           lipids   \n",
       "11675  What remains a constant of radioactive substan...          acidity   \n",
       "11676  Terrestrial ecosystems, also known for their d...       substrates   \n",
       "11677  High explosives create shock waves that exceed...       turbulence   \n",
       "11678  What do you call a structure composed of two o...           system   \n",
       "\n",
       "            distractor1         distractor2        correct_answer  \\\n",
       "0              protozoa         gymnosperms  mesophilic organisms   \n",
       "1           muon effect  centrifugal effect       coriolis effect   \n",
       "2            unbalanced            reactive            exothermic   \n",
       "3            beta decay         gamma decay           alpha decay   \n",
       "4      greenhouse gases     carbon and smog         smoke and ash   \n",
       "...                 ...                 ...                   ...   \n",
       "11674           protons            proteins              peptides   \n",
       "11675       temperature          volatility         rate of decay   \n",
       "11676           bisomes             monomes                biomes   \n",
       "11677       light speed           ion speed            supersonic   \n",
       "11678              cell              marrow                 organ   \n",
       "\n",
       "                                                 support  \n",
       "0      Mesophiles grow best in moderate temperature, ...  \n",
       "1      Without Coriolis Effect the global winds would...  \n",
       "2      Summary Changes of state are examples of phase...  \n",
       "3      All radioactive decay is dangerous to living t...  \n",
       "4      Example 3.5 Calculating Projectile Motion: Hot...  \n",
       "...                                                  ...  \n",
       "11674  Protein A large part of protein digestion take...  \n",
       "11675  The rate of decay of a radioactive substance i...  \n",
       "11676  Terrestrial ecosystems, also known for their d...  \n",
       "11677  The modern day formulation of gun powder is ca...  \n",
       "11678  An organ is a structure composed of two or mor...  \n",
       "\n",
       "[11679 rows x 6 columns]"
      ]
     },
     "execution_count": 1,
     "metadata": {},
     "output_type": "execute_result"
    }
   ],
   "source": [
    "import pandas as pd\n",
    "\n",
    "splits = {'train': 'data/train-00000-of-00001.parquet', 'validation': 'data/validation-00000-of-00001.parquet', 'test': 'data/test-00000-of-00001.parquet'}\n",
    "df = pd.read_parquet(\"hf://datasets/allenai/sciq/\" + splits[\"train\"])\n",
    "df"
   ]
  },
  {
   "cell_type": "code",
   "execution_count": 2,
   "id": "10dbcb53",
   "metadata": {},
   "outputs": [
    {
     "data": {
      "text/plain": [
       "question          What type of organism is commonly used in prep...\n",
       "distractor3                                                 viruses\n",
       "distractor1                                                protozoa\n",
       "distractor2                                             gymnosperms\n",
       "correct_answer                                 mesophilic organisms\n",
       "support           Mesophiles grow best in moderate temperature, ...\n",
       "Name: 0, dtype: object"
      ]
     },
     "execution_count": 2,
     "metadata": {},
     "output_type": "execute_result"
    }
   ],
   "source": [
    "df.loc[0]"
   ]
  },
  {
   "cell_type": "code",
   "execution_count": 3,
   "id": "4b03d309",
   "metadata": {},
   "outputs": [
    {
     "name": "stderr",
     "output_type": "stream",
     "text": [
      "2025-05-28 14:20:32.188255: E external/local_xla/xla/stream_executor/cuda/cuda_fft.cc:467] Unable to register cuFFT factory: Attempting to register factory for plugin cuFFT when one has already been registered\n",
      "WARNING: All log messages before absl::InitializeLog() is called are written to STDERR\n",
      "E0000 00:00:1748434832.594573   33617 cuda_dnn.cc:8579] Unable to register cuDNN factory: Attempting to register factory for plugin cuDNN when one has already been registered\n",
      "E0000 00:00:1748434832.634021   33617 cuda_blas.cc:1407] Unable to register cuBLAS factory: Attempting to register factory for plugin cuBLAS when one has already been registered\n",
      "W0000 00:00:1748434832.751645   33617 computation_placer.cc:177] computation placer already registered. Please check linkage and avoid linking the same target more than once.\n",
      "W0000 00:00:1748434832.751715   33617 computation_placer.cc:177] computation placer already registered. Please check linkage and avoid linking the same target more than once.\n",
      "W0000 00:00:1748434832.751724   33617 computation_placer.cc:177] computation placer already registered. Please check linkage and avoid linking the same target more than once.\n",
      "W0000 00:00:1748434832.751731   33617 computation_placer.cc:177] computation placer already registered. Please check linkage and avoid linking the same target more than once.\n",
      "2025-05-28 14:20:32.778564: I tensorflow/core/platform/cpu_feature_guard.cc:210] This TensorFlow binary is optimized to use available CPU instructions in performance-critical operations.\n",
      "To enable the following instructions: AVX2 FMA, in other operations, rebuild TensorFlow with the appropriate compiler flags.\n"
     ]
    }
   ],
   "source": [
    "import torch\n",
    "import os\n",
    "\n",
    "from sentence_transformers import CrossEncoder\n",
    "from src.chain_initialisation import init_chain\n",
    "from src.embedding_management import init_embeddings, add_embeddings_from_files\n",
    "from src.model_initialisation import init_model\n",
    "from src.pipeline_initialisation import init_pipeline\n",
    "from src.retriever_initialisation import init_retriever\n",
    "from src.dynamic_doc_retrieval import download_documents, initialise_keyword_model, generate_query_from_question"
   ]
  },
  {
   "cell_type": "code",
   "execution_count": 5,
   "id": "1636c10f",
   "metadata": {},
   "outputs": [
    {
     "name": "stdout",
     "output_type": "stream",
     "text": [
      "dynamic data dir: ./data/dynamic\n"
     ]
    }
   ],
   "source": [
    "BASE_DIR = os.curdir\n",
    "DATA_DIR = os.path.join(BASE_DIR, \"data\")\n",
    "DYNAMIC_DATA_DIR = os.path.join(DATA_DIR, \"dynamic\")\n",
    "print(f\"dynamic data dir: {DYNAMIC_DATA_DIR}\")\n",
    "\n",
    "\n",
    "def rerank_documents(reranker, query: str, documents: list, top_k: int = 3) -> list:\n",
    "    if not documents:\n",
    "        return []\n",
    "\n",
    "    pairs = [(query, doc.page_content) for doc in documents]\n",
    "    scores = reranker.predict(pairs)\n",
    "    ranked = sorted(zip(documents, scores), key=lambda x: x[1], reverse=True)\n",
    "\n",
    "    return [doc for doc, score in ranked[:top_k] if score > 0.5]\n",
    "\n",
    "def ask_question(model_chain, reranker, keyword_model, vectorstore, question, num_docs, max_tries, online, rerank_top_k):\n",
    "    if online:\n",
    "        print(\"Obtaining data from scholar...\")\n",
    "        query = generate_query_from_question(keyword_model, question)\n",
    "        downloaded_files = download_documents(query, DYNAMIC_DATA_DIR, num_docs, max_tries)\n",
    "        add_embeddings_from_files(vectorstore, downloaded_files)\n",
    "\n",
    "    response = model_chain.invoke({\n",
    "        \"question\": question,\n",
    "        \"chat_history\": []\n",
    "    })\n",
    "    answer = response[\"answer\"].split(\"### Answer:\")[-1].strip()\n",
    "    source_documents = response[\"source_documents\"]\n",
    "    filtered_docs = rerank_documents(reranker, question, source_documents, top_k=rerank_top_k)\n",
    "    return answer, source_documents, filtered_docs"
   ]
  },
  {
   "cell_type": "code",
   "execution_count": 4,
   "id": "4d9122fe",
   "metadata": {},
   "outputs": [
    {
     "name": "stdout",
     "output_type": "stream",
     "text": [
      "Initializing model... CUDA available: False\n"
     ]
    },
    {
     "name": "stderr",
     "output_type": "stream",
     "text": [
      "Device set to use cpu\n",
      "/home/henri/ul-fri-nlp-course-project-2024-2025-drop-table-teams/src/embedding_management.py:17: LangChainDeprecationWarning: The class `HuggingFaceEmbeddings` was deprecated in LangChain 0.2.2 and will be removed in 1.0. An updated version of the class exists in the :class:`~langchain-huggingface package and should be used instead. To use it run `pip install -U :class:`~langchain-huggingface` and import as `from :class:`~langchain_huggingface import HuggingFaceEmbeddings``.\n",
      "  embedding = HuggingFaceEmbeddings(\n"
     ]
    },
    {
     "name": "stdout",
     "output_type": "stream",
     "text": [
      "Loading FAISS from file - skipping embedding build.\n",
      "Vectorstore loaded successfully.\n",
      "Retriever initialized with k=2 and similarity threshold=0.8\n"
     ]
    },
    {
     "name": "stderr",
     "output_type": "stream",
     "text": [
      "/home/henri/ul-fri-nlp-course-project-2024-2025-drop-table-teams/src/chain_initialisation.py:7: LangChainDeprecationWarning: The class `HuggingFacePipeline` was deprecated in LangChain 0.0.37 and will be removed in 1.0. An updated version of the class exists in the :class:`~langchain-huggingface package and should be used instead. To use it run `pip install -U :class:`~langchain-huggingface` and import as `from :class:`~langchain_huggingface import HuggingFacePipeline``.\n",
      "  llm = HuggingFacePipeline(pipeline=pipeline)\n"
     ]
    },
    {
     "name": "stdout",
     "output_type": "stream",
     "text": [
      "LLM model chain created.\n",
      "Start-up complete.\n"
     ]
    }
   ],
   "source": [
    "cuda_available = torch.cuda.is_available()\n",
    "print(f\"Initializing model... CUDA available: {cuda_available}\")\n",
    "model, model_name = init_model(cuda_available)\n",
    "pipeline = init_pipeline(model=model, model_name=model_name)\n",
    "vectorstore = init_embeddings(cuda_available)\n",
    "retriever = init_retriever(vectorstore)\n",
    "reranker = CrossEncoder(\"cross-encoder/ms-marco-MiniLM-L-6-v2\")\n",
    "chain = init_chain(pipeline=pipeline, retriever=retriever)\n",
    "keyword_model = initialise_keyword_model()\n",
    "print(\"Start-up complete.\")"
   ]
  },
  {
   "cell_type": "code",
   "execution_count": 13,
   "id": "21104b50",
   "metadata": {},
   "outputs": [
    {
     "name": "stderr",
     "output_type": "stream",
     "text": [
      "/home/henri/.local/lib/python3.10/site-packages/langchain_core/vectorstores/base.py:1082: UserWarning: Relevance scores must be between 0 and 1, got [(Document(id='7e08dabe-c118-4506-8c9e-d911c1835182', metadata={'source': '/home/henri/ul-fri-nlp-course-project-2024-2025-drop-table-teams/data/fao780/fao780/docsutf8/t5816e.txt'}, page_content='A list of species produced in the region is given in Table 5.\\n2.3 Production systems and practices in the region\\nA diversity of species is cultured throughout the region in relatively small volumes. Consequently a wide variety of aquaculture practices are used, ranging from intensive and semi-intensive systems for producing salmonids and marine shrimp, to extensive systems for the culture of fish, giant clams, seaweed, and pearl oysters.'), np.float32(-24.619614)), (Document(id='2ee5e358-a0ea-4f13-b6d0-56c34630a209', metadata={'source': '/home/henri/ul-fri-nlp-course-project-2024-2025-drop-table-teams/data/fao780/fao780/docsutf8/x0209e.txt'}, page_content='Picture 5 shows a multiple use kit containing a series of materials for fruit processing. This kit is used for training courses, but it contains all of the elements which, on a larger scale may constitute the basis for the home processing of various fruits and vegetables.\\nPicture 6 shows a cooking system easily installed in sites characterized by more precarious conditions. Some of these systems may be installed indoors using the chimney system shown in picture 7.'), np.float32(-24.849998))]\n",
      "  self.vectorstore.similarity_search_with_relevance_scores(\n",
      "No relevant docs were retrieved using the relevance score threshold 0.19999999999999996\n"
     ]
    },
    {
     "data": {
      "text/plain": [
       "\"The following two animals-- fish (from which milk may also come) and other fishes--- include an invertebrate named Megaptera klassensis although its genus does not exist at present there.(Tasmanian Sea Turtles.) These species live around 70 percent of the ocean basins covering about 65 percent water(Suez Formation Water Source). Aquamarine waters typically contain less than five feet between three degrees south latitude=0 deg C..ocean surface temperature< 30 °C > below sea level range on both ends of the main boundary line during estuaries up to 4° s(-1 ) above 100 yz...[p]atoll ice thickness < 0.5 mm−2; maximum energy needed per unit volume ~ 20 Mg((m*r+8)/4 ); most bodies form into four'submersible' submaploidic marine mounds 2 km² apart including cetaceans plus halos.[i]The vast majority rely upon saltwater derived material after several thousand years [and more significantly provide dietary nutrients]. In some instances their diets consist primarily comprised sugar based meals containing food products called monounsaturated fatty acids rather then refined vegetable juices using bioactive sugars because many polysaccharides retain fat instead. Thus macronutrients generally decrease immediately afterward so this doesn�t prevent them making contributions towards higher nutrient needs later until very late life stages where they could support all important vitamins via glycation enzymes i.'statinase activators.''. This requires only minor changes before those amino-acid chains open along pathways linked directly to substrate biosynthesis normally occurring either naturally among plants, bacteria, osmotic reactions resulting mainly through fermentation due induction by brominated hydrocarbons etc[/k] Or consider how much carbon dioxide can build dams off land thus allowing arable habitat development while producing abundant fresh meat,[ii],[iii]] Anecdotal reports estimate human activities ranging from harvesting produce outside farming areas just 11% & 10%, 1 hr 6 day trips without moving was considered excessive under best assumption here assuming adequate use case scenario #A = 1200 days hovered since summer 2004 Hanahq@gmailusercontent.」\""
      ]
     },
     "execution_count": 13,
     "metadata": {},
     "output_type": "execute_result"
    }
   ],
   "source": [
    "question = df.loc[0][\"question\"]\n",
    "answer, source_docs = ask_question(question, online=False)\n",
    "answer"
   ]
  },
  {
   "cell_type": "code",
   "execution_count": 6,
   "id": "8396cb18",
   "metadata": {},
   "outputs": [],
   "source": [
    "from sentence_transformers import SentenceTransformer, util\n",
    "from fuzzywuzzy import fuzz\n",
    "\n",
    "# Initialize embedding model\n",
    "evaluation_model = SentenceTransformer('all-MiniLM-L6-v2')"
   ]
  },
  {
   "cell_type": "code",
   "execution_count": 14,
   "id": "c9ad4904",
   "metadata": {},
   "outputs": [],
   "source": [
    "def evaluate_answer(row):\n",
    "    question = row['question']\n",
    "    correct_answer = row['correct_answer']\n",
    "    support = row['support']\n",
    "    distractors = [row['distractor1'], row['distractor2'], row['distractor3']]\n",
    "\n",
    "    # Chatbot answer\n",
    "    response, source_docs, filtered_docs = ask_question(chain, reranker, keyword_model, vectorstore, question, 2, 5, True, 5)\n",
    "    response = response.lower()\n",
    "\n",
    "    # Exact match\n",
    "    exact = int(correct_answer.lower() in response)\n",
    "\n",
    "    # Fuzzy match\n",
    "    fuzzy_score = fuzz.partial_ratio(correct_answer.lower(), response)\n",
    "\n",
    "    # Embedding similarity to correct answer\n",
    "    emb_correct = evaluation_model.encode(correct_answer, convert_to_tensor=True)\n",
    "    emb_response = evaluation_model.encode(response, convert_to_tensor=True)\n",
    "    sim_correct = util.cos_sim(emb_correct, emb_response).item()\n",
    "\n",
    "    # Embedding similarity to support passage\n",
    "    emb_support = evaluation_model.encode(support, convert_to_tensor=True)\n",
    "    sim_support = util.cos_sim(emb_support, emb_response).item()\n",
    "\n",
    "    # Compare similarity to distractors\n",
    "    sim_distractors = []\n",
    "    for d in distractors:\n",
    "        emb_distractor = evaluation_model.encode(d, convert_to_tensor=True)\n",
    "        sim_distractors.append(util.cos_sim(emb_distractor, emb_response).item())\n",
    "    \n",
    "    # Is chatbot closer to correct than to all distractors?\n",
    "    correct_beats_distractors = int(sim_correct > max(sim_distractors))\n",
    "\n",
    "    return {\n",
    "        \"question\": question,\n",
    "        \"chatbot_response\": response,\n",
    "        \"exact_match\": exact,\n",
    "        \"fuzzy_score\": fuzzy_score,\n",
    "        \"sim_to_correct\": round(sim_correct, 3),\n",
    "        \"sim_to_support\": round(sim_support, 3),\n",
    "        \"correct_beats_distractors\": correct_beats_distractors,\n",
    "        \"source_docs\": source_docs,\n",
    "        \"filtered_docs\": filtered_docs\n",
    "    }\n"
   ]
  },
  {
   "cell_type": "code",
   "execution_count": 15,
   "id": "feeebed1",
   "metadata": {},
   "outputs": [
    {
     "data": {
      "text/html": [
       "<div>\n",
       "<style scoped>\n",
       "    .dataframe tbody tr th:only-of-type {\n",
       "        vertical-align: middle;\n",
       "    }\n",
       "\n",
       "    .dataframe tbody tr th {\n",
       "        vertical-align: top;\n",
       "    }\n",
       "\n",
       "    .dataframe thead th {\n",
       "        text-align: right;\n",
       "    }\n",
       "</style>\n",
       "<table border=\"1\" class=\"dataframe\">\n",
       "  <thead>\n",
       "    <tr style=\"text-align: right;\">\n",
       "      <th></th>\n",
       "      <th>question</th>\n",
       "      <th>distractor3</th>\n",
       "      <th>distractor1</th>\n",
       "      <th>distractor2</th>\n",
       "      <th>correct_answer</th>\n",
       "      <th>support</th>\n",
       "    </tr>\n",
       "  </thead>\n",
       "  <tbody>\n",
       "    <tr>\n",
       "      <th>0</th>\n",
       "      <td>What type of organism is commonly used in prep...</td>\n",
       "      <td>viruses</td>\n",
       "      <td>protozoa</td>\n",
       "      <td>gymnosperms</td>\n",
       "      <td>mesophilic organisms</td>\n",
       "      <td>Mesophiles grow best in moderate temperature, ...</td>\n",
       "    </tr>\n",
       "    <tr>\n",
       "      <th>1</th>\n",
       "      <td>What phenomenon makes global winds blow northe...</td>\n",
       "      <td>tropical effect</td>\n",
       "      <td>muon effect</td>\n",
       "      <td>centrifugal effect</td>\n",
       "      <td>coriolis effect</td>\n",
       "      <td>Without Coriolis Effect the global winds would...</td>\n",
       "    </tr>\n",
       "    <tr>\n",
       "      <th>2</th>\n",
       "      <td>Changes from a less-ordered state to a more-or...</td>\n",
       "      <td>endothermic</td>\n",
       "      <td>unbalanced</td>\n",
       "      <td>reactive</td>\n",
       "      <td>exothermic</td>\n",
       "      <td>Summary Changes of state are examples of phase...</td>\n",
       "    </tr>\n",
       "    <tr>\n",
       "      <th>3</th>\n",
       "      <td>What is the least dangerous radioactive decay?</td>\n",
       "      <td>zeta decay</td>\n",
       "      <td>beta decay</td>\n",
       "      <td>gamma decay</td>\n",
       "      <td>alpha decay</td>\n",
       "      <td>All radioactive decay is dangerous to living t...</td>\n",
       "    </tr>\n",
       "  </tbody>\n",
       "</table>\n",
       "</div>"
      ],
      "text/plain": [
       "                                            question      distractor3  \\\n",
       "0  What type of organism is commonly used in prep...          viruses   \n",
       "1  What phenomenon makes global winds blow northe...  tropical effect   \n",
       "2  Changes from a less-ordered state to a more-or...      endothermic   \n",
       "3     What is the least dangerous radioactive decay?       zeta decay   \n",
       "\n",
       "   distractor1         distractor2        correct_answer  \\\n",
       "0     protozoa         gymnosperms  mesophilic organisms   \n",
       "1  muon effect  centrifugal effect       coriolis effect   \n",
       "2   unbalanced            reactive            exothermic   \n",
       "3   beta decay         gamma decay           alpha decay   \n",
       "\n",
       "                                             support  \n",
       "0  Mesophiles grow best in moderate temperature, ...  \n",
       "1  Without Coriolis Effect the global winds would...  \n",
       "2  Summary Changes of state are examples of phase...  \n",
       "3  All radioactive decay is dangerous to living t...  "
      ]
     },
     "execution_count": 15,
     "metadata": {},
     "output_type": "execute_result"
    }
   ],
   "source": [
    "df.loc[:3]"
   ]
  },
  {
   "cell_type": "code",
   "execution_count": null,
   "id": "fc7feb03",
   "metadata": {},
   "outputs": [
    {
     "name": "stdout",
     "output_type": "stream",
     "text": [
      "Obtaining data from scholar...\n",
      "Querying Google Scholar for: yogurt foods cheese organism preparation\n"
     ]
    },
    {
     "name": "stderr",
     "output_type": "stream",
     "text": [
      "/usr/lib/python3/dist-packages/urllib3/connectionpool.py:1020: InsecureRequestWarning: Unverified HTTPS request is being made to host 'analyticalsciencejournals.onlinelibrary.wiley.com'. Adding certificate verification is strongly advised. See: https://urllib3.readthedocs.io/en/latest/advanced-usage.html#ssl-warnings\n",
      "  warnings.warn(\n",
      "\u001b[1m[INFO]\u001b[0m | \u001b[32m2025/05/28 14:56:08\u001b[0m | \u001b[1mChoose scihub url [0]: https://sci-hub.se\u001b[0m\n",
      "\u001b[1m[INFO]\u001b[0m | \u001b[32m2025/05/28 14:56:09\u001b[0m | \u001b[1m<- Request: scihub_url=https://sci-hub.se, source=DoiSource[type=doi, id=analyticalsciencejournals.onlinelibrary.wiley.com/doi/abs/10.1002/elsc.201100122], proxies={'http': 'socks5://127.0.0.1:7890'}\u001b[0m\n"
     ]
    },
    {
     "name": "stdout",
     "output_type": "stream",
     "text": [
      "\n",
      "Result 1: Potential effects of probiotics in cheese and yogurt production: A review\n",
      "Publication URL: https://analyticalsciencejournals.onlinelibrary.wiley.com/doi/abs/10.1002/elsc.201100122\n",
      "Trying to download PDF from: https://analyticalsciencejournals.onlinelibrary.wiley.com/doi/full/10.1002/elsc.201100122\n",
      "The eprint URL is not a direct link to a PDF.\n",
      "Downloading Potential effects of probiotics in cheese and yogurt production: A review from Sci Hub: https://analyticalsciencejournals.onlinelibrary.wiley.com/doi/abs/10.1002/elsc.201100122\n"
     ]
    },
    {
     "name": "stderr",
     "output_type": "stream",
     "text": [
      "\u001b[1m[INFO]\u001b[0m | \u001b[32m2025/05/28 14:56:09\u001b[0m | \u001b[1m-> Response: status_code=200, content_length=8599\u001b[0m\n",
      "\u001b[1m[INFO]\u001b[0m | \u001b[32m2025/05/28 14:56:09\u001b[0m | \u001b[1m* Extracted information: {'url': 'https://moscow.sci-hub.se/1161/d6aca80dff6715aa87a433761e628492/plessas2012.pdf', 'title': 'Potential effects of probiotics in cheese and yogurt production  A review. Engineering in Life Sciences, 12(4), 433–440'}\u001b[0m\n",
      "\u001b[1m[INFO]\u001b[0m | \u001b[32m2025/05/28 14:56:10\u001b[0m | \u001b[1m↓ Successfully download the url to: ./data/dynamic/Potential_effects_of_probiotics_in_cheese_and_yogurt_production_A_review.pdf\u001b[0m\n",
      "/usr/lib/python3/dist-packages/urllib3/connectionpool.py:1020: InsecureRequestWarning: Unverified HTTPS request is being made to host 'www.sciencedirect.com'. Adding certificate verification is strongly advised. See: https://urllib3.readthedocs.io/en/latest/advanced-usage.html#ssl-warnings\n",
      "  warnings.warn(\n"
     ]
    },
    {
     "name": "stdout",
     "output_type": "stream",
     "text": [
      "Successfully downloaded to ./data/dynamic/Potential_effects_of_probiotics_in_cheese_and_yogurt_production_A_review.pdf\n",
      "\n",
      "Result 2: Inhibitory effects of Microgard™ on yogurt and cottage cheese spoilage organisms\n",
      "Publication URL: https://www.sciencedirect.com/science/article/pii/S0022030290787449\n",
      "Trying to download PDF from: https://www.sciencedirect.com/science/article/pii/S0022030290787449/pdf?md5=271e01ddf92d493dc06ad431140c96c9&pid=1-s2.0-S0022030290787449-main.pdf\n",
      "The eprint URL is not a direct link to a PDF.\n",
      "Downloading Inhibitory effects of Microgard™ on yogurt and cottage cheese spoilage organisms from Sci Hub: https://www.sciencedirect.com/science/article/pii/S0022030290787449\n"
     ]
    },
    {
     "name": "stderr",
     "output_type": "stream",
     "text": [
      "\u001b[1m[INFO]\u001b[0m | \u001b[32m2025/05/28 14:56:10\u001b[0m | \u001b[1mChoose scihub url [0]: https://sci-hub.se\u001b[0m\n",
      "\u001b[1m[INFO]\u001b[0m | \u001b[32m2025/05/28 14:56:10\u001b[0m | \u001b[1m<- Request: scihub_url=https://sci-hub.se, source=DoiSource[type=doi, id=www.sciencedirect.com/science/article/pii/S0022030290787449], proxies={'http': 'socks5://127.0.0.1:7890'}\u001b[0m\n",
      "\u001b[1m[INFO]\u001b[0m | \u001b[32m2025/05/28 14:56:11\u001b[0m | \u001b[1m-> Response: status_code=200, content_length=8618\u001b[0m\n",
      "\u001b[1m[INFO]\u001b[0m | \u001b[32m2025/05/28 14:56:11\u001b[0m | \u001b[1m* Extracted information: {'url': 'https://moscow.sci-hub.se/2361/426d37caede6625a46e53ae624bf227e/salih1990.pdf', 'title': 'Inhibitory Effects of Microgard™ on Yogurt and Cottage Cheese Spoilage Organisms. Journal of Dairy Science, 73(4), 887–893'}\u001b[0m\n"
     ]
    },
    {
     "name": "stdout",
     "output_type": "stream",
     "text": [
      "106% [=====================================================] 674289/635678\n"
     ]
    },
    {
     "name": "stderr",
     "output_type": "stream",
     "text": [
      "\u001b[1m[INFO]\u001b[0m | \u001b[32m2025/05/28 14:56:12\u001b[0m | \u001b[1m↓ Successfully download the url to: ./data/dynamic/Inhibitory_effects_of_Microgard_on_yogurt_and_cottage_cheese_spoilage_organisms.pdf\u001b[0m\n"
     ]
    },
    {
     "name": "stdout",
     "output_type": "stream",
     "text": [
      "Successfully downloaded to ./data/dynamic/Inhibitory_effects_of_Microgard_on_yogurt_and_cottage_cheese_spoilage_organisms.pdf\n"
     ]
    },
    {
     "name": "stderr",
     "output_type": "stream",
     "text": [
      "/home/henri/.local/lib/python3.10/site-packages/langchain_core/vectorstores/base.py:1082: UserWarning: Relevance scores must be between 0 and 1, got [(Document(id='8f444c83-58e6-4f42-a652-38cac1d27915', metadata={'source': './data/dynamic/Yogurt_as_probiotic_carrier_food.pdf'}, page_content='sugar, fruit, ﬂavours, colouring, emulsiﬁers, stabilisers,\\nand\\nspeciﬁc\\npure\\ncultures\\nof\\nlactic\\nacid\\nbacteria\\nA. Lourens-Hattingh, B.C. Viljoen / International Dairy Journal 11 (2001) 1–17\\n7\\n(S. thermophilus and L. bulgaricus) to conduct the\\nfermentation process. The basic process of yogurt\\nproduction is outlined in Fig. 3.\\nS. thermophilus and L. bulgaricus exhibit a symbiotic\\nrelationship during the processing of yogurt, with the\\nratio between the species changing constantly (Radke-'), np.float32(-18.569504)), (Document(id='4a79e568-c772-47aa-aa72-df82ef8f3dc0', metadata={'source': './data/dynamic/Yogurt_as_probiotic_carrier_food.pdf'}, page_content='sugar, fruit, ﬂavours, colouring, emulsiﬁers, stabilisers,\\nand\\nspeciﬁc\\npure\\ncultures\\nof\\nlactic\\nacid\\nbacteria\\nA. Lourens-Hattingh, B.C. Viljoen / International Dairy Journal 11 (2001) 1–17\\n7\\n(S. thermophilus and L. bulgaricus) to conduct the\\nfermentation process. The basic process of yogurt\\nproduction is outlined in Fig. 3.\\nS. thermophilus and L. bulgaricus exhibit a symbiotic\\nrelationship during the processing of yogurt, with the\\nratio between the species changing constantly (Radke-'), np.float32(-18.569504))]\n",
      "  self.vectorstore.similarity_search_with_relevance_scores(\n",
      "No relevant docs were retrieved using the relevance score threshold 0.19999999999999996\n"
     ]
    },
    {
     "name": "stdout",
     "output_type": "stream",
     "text": [
      "Vectorstore updated with 151 document splits.\n",
      "Obtaining data from scholar...\n",
      "Querying Google Scholar for: winds hemisphere northern northeast southeast\n",
      "\n",
      "Result 1: A climatology of high‐wind events for the eastern United States\n",
      "Publication URL: http://www.wkuweather.com/publications/Gilliland%20et%20al.%20%5B2019%5D%20A%20climatology%20of%20high-wind%20events%20for%20the%20eastern%20United%20States.pdf\n",
      "Trying to download PDF from: http://www.wkuweather.com/publications/Gilliland%20et%20al.%20%5B2019%5D%20A%20climatology%20of%20high-wind%20events%20for%20the%20eastern%20United%20States.pdf\n"
     ]
    },
    {
     "name": "stderr",
     "output_type": "stream",
     "text": [
      "/usr/lib/python3/dist-packages/urllib3/connectionpool.py:1020: InsecureRequestWarning: Unverified HTTPS request is being made to host 'journals.ametsoc.org'. Adding certificate verification is strongly advised. See: https://urllib3.readthedocs.io/en/latest/advanced-usage.html#ssl-warnings\n",
      "  warnings.warn(\n",
      "\u001b[1m[INFO]\u001b[0m | \u001b[32m2025/05/28 14:57:29\u001b[0m | \u001b[1mChoose scihub url [0]: https://sci-hub.se\u001b[0m\n",
      "\u001b[1m[INFO]\u001b[0m | \u001b[32m2025/05/28 14:57:29\u001b[0m | \u001b[1m<- Request: scihub_url=https://sci-hub.se, source=DoiSource[type=doi, id=journals.ametsoc.org/view/journals/wefo/14/5/1520-0434_1999_014_0758_swadot_2_0_co_2.xml], proxies={'http': 'socks5://127.0.0.1:7890'}\u001b[0m\n"
     ]
    },
    {
     "name": "stdout",
     "output_type": "stream",
     "text": [
      "PDF saved as ./data/dynamic/A_climatology_of_highwind_events_for_the_eastern_United_States.pdf\n",
      "\n",
      "Result 2: Surface winds and development of thunderstorms along southwest–northeast oriented mountain chains\n",
      "Publication URL: https://journals.ametsoc.org/view/journals/wefo/14/5/1520-0434_1999_014_0758_swadot_2_0_co_2.xml\n",
      "Trying to download PDF from: https://journals.ametsoc.org/view/journals/wefo/14/5/1520-0434_1999_014_0758_swadot_2_0_co_2.xml\n",
      "The eprint URL is not a direct link to a PDF.\n",
      "Downloading Surface winds and development of thunderstorms along southwest–northeast oriented mountain chains from Sci Hub: https://journals.ametsoc.org/view/journals/wefo/14/5/1520-0434_1999_014_0758_swadot_2_0_co_2.xml\n"
     ]
    },
    {
     "name": "stderr",
     "output_type": "stream",
     "text": [
      "\u001b[1m[INFO]\u001b[0m | \u001b[32m2025/05/28 14:57:30\u001b[0m | \u001b[1m-> Response: status_code=200, content_length=6278\u001b[0m\n",
      "\u001b[33m\u001b[1m[WARNING]\u001b[0m | \u001b[32m2025/05/28 14:57:30\u001b[0m | \u001b[33m\u001b[1mError occurs, task status: extracting_failed, error: No pdf tag was found in the given content with the selector: #pdf\u001b[0m\n",
      "\u001b[1m[INFO]\u001b[0m | \u001b[32m2025/05/28 14:57:30\u001b[0m | \u001b[1mChoose scihub url [1]: https://sci-hub.ru\u001b[0m\n",
      "\u001b[1m[INFO]\u001b[0m | \u001b[32m2025/05/28 14:57:30\u001b[0m | \u001b[1m<- Request: scihub_url=https://sci-hub.ru, source=DoiSource[type=doi, id=journals.ametsoc.org/view/journals/wefo/14/5/1520-0434_1999_014_0758_swadot_2_0_co_2.xml], proxies={'http': 'socks5://127.0.0.1:7890'}\u001b[0m\n",
      "\u001b[1m[INFO]\u001b[0m | \u001b[32m2025/05/28 14:57:30\u001b[0m | \u001b[1m-> Response: status_code=403, content_length=898\u001b[0m\n",
      "\u001b[33m\u001b[1m[WARNING]\u001b[0m | \u001b[32m2025/05/28 14:57:30\u001b[0m | \u001b[33m\u001b[1mError occurs, task status: crawling_failed, error: Error occurs when crawling source: DoiSource[type=doi, id=journals.ametsoc.org/view/journals/wefo/14/5/1520-0434_1999_014_0758_swadot_2_0_co_2.xml]\u001b[0m\n",
      "\u001b[1m[INFO]\u001b[0m | \u001b[32m2025/05/28 14:57:30\u001b[0m | \u001b[1mChoose scihub url [2]: https://sci-hub.in\u001b[0m\n",
      "\u001b[1m[INFO]\u001b[0m | \u001b[32m2025/05/28 14:57:30\u001b[0m | \u001b[1m<- Request: scihub_url=https://sci-hub.in, source=DoiSource[type=doi, id=journals.ametsoc.org/view/journals/wefo/14/5/1520-0434_1999_014_0758_swadot_2_0_co_2.xml], proxies={'http': 'socks5://127.0.0.1:7890'}\u001b[0m\n",
      "\u001b[1m[INFO]\u001b[0m | \u001b[32m2025/05/28 14:57:31\u001b[0m | \u001b[1m-> Response: status_code=403, content_length=3460\u001b[0m\n",
      "\u001b[33m\u001b[1m[WARNING]\u001b[0m | \u001b[32m2025/05/28 14:57:31\u001b[0m | \u001b[33m\u001b[1mError occurs, task status: crawling_failed, error: Error occurs when crawling source: DoiSource[type=doi, id=journals.ametsoc.org/view/journals/wefo/14/5/1520-0434_1999_014_0758_swadot_2_0_co_2.xml]\u001b[0m\n",
      "\u001b[1m[INFO]\u001b[0m | \u001b[32m2025/05/28 14:57:31\u001b[0m | \u001b[1mChoose scihub url [3]: https://sci-hub.st\u001b[0m\n",
      "\u001b[1m[INFO]\u001b[0m | \u001b[32m2025/05/28 14:57:31\u001b[0m | \u001b[1m<- Request: scihub_url=https://sci-hub.st, source=DoiSource[type=doi, id=journals.ametsoc.org/view/journals/wefo/14/5/1520-0434_1999_014_0758_swadot_2_0_co_2.xml], proxies={'http': 'socks5://127.0.0.1:7890'}\u001b[0m\n",
      "\u001b[1m[INFO]\u001b[0m | \u001b[32m2025/05/28 14:57:31\u001b[0m | \u001b[1m-> Response: status_code=403, content_length=898\u001b[0m\n",
      "\u001b[33m\u001b[1m[WARNING]\u001b[0m | \u001b[32m2025/05/28 14:57:31\u001b[0m | \u001b[33m\u001b[1mError occurs, task status: crawling_failed, error: Error occurs when crawling source: DoiSource[type=doi, id=journals.ametsoc.org/view/journals/wefo/14/5/1520-0434_1999_014_0758_swadot_2_0_co_2.xml]\u001b[0m\n",
      "\u001b[1m[INFO]\u001b[0m | \u001b[32m2025/05/28 14:57:31\u001b[0m | \u001b[1mChoose scihub url [4]: http://sci-hub.st\u001b[0m\n",
      "\u001b[1m[INFO]\u001b[0m | \u001b[32m2025/05/28 14:57:32\u001b[0m | \u001b[1m<- Request: scihub_url=http://sci-hub.st, source=DoiSource[type=doi, id=journals.ametsoc.org/view/journals/wefo/14/5/1520-0434_1999_014_0758_swadot_2_0_co_2.xml], proxies={'http': 'socks5://127.0.0.1:7890'}\u001b[0m\n",
      "\u001b[33m\u001b[1m[WARNING]\u001b[0m | \u001b[32m2025/05/28 14:57:32\u001b[0m | \u001b[33m\u001b[1mError occurs, task status: crawling_failed, error: SOCKSHTTPConnectionPool(host='sci-hub.st', port=80): Max retries exceeded with url: / (Caused by NewConnectionError('<urllib3.contrib.socks.SOCKSConnection object at 0x7f7cc1fd3850>: Failed to establish a new connection: [Errno 111] Connection refused'))\u001b[0m\n",
      "\u001b[1m[INFO]\u001b[0m | \u001b[32m2025/05/28 14:57:32\u001b[0m | \u001b[1mChoose scihub url [5]: http://sci-hub.se\u001b[0m\n",
      "\u001b[1m[INFO]\u001b[0m | \u001b[32m2025/05/28 14:57:32\u001b[0m | \u001b[1m<- Request: scihub_url=http://sci-hub.se, source=DoiSource[type=doi, id=journals.ametsoc.org/view/journals/wefo/14/5/1520-0434_1999_014_0758_swadot_2_0_co_2.xml], proxies={'http': 'socks5://127.0.0.1:7890'}\u001b[0m\n",
      "\u001b[33m\u001b[1m[WARNING]\u001b[0m | \u001b[32m2025/05/28 14:57:32\u001b[0m | \u001b[33m\u001b[1mError occurs, task status: crawling_failed, error: SOCKSHTTPConnectionPool(host='sci-hub.se', port=80): Max retries exceeded with url: / (Caused by NewConnectionError('<urllib3.contrib.socks.SOCKSConnection object at 0x7f7cc1fd2e60>: Failed to establish a new connection: [Errno 111] Connection refused'))\u001b[0m\n",
      "\u001b[1m[INFO]\u001b[0m | \u001b[32m2025/05/28 14:57:32\u001b[0m | \u001b[1mChoose scihub url [6]: http://sci-hub.in\u001b[0m\n",
      "\u001b[1m[INFO]\u001b[0m | \u001b[32m2025/05/28 14:57:32\u001b[0m | \u001b[1m<- Request: scihub_url=http://sci-hub.in, source=DoiSource[type=doi, id=journals.ametsoc.org/view/journals/wefo/14/5/1520-0434_1999_014_0758_swadot_2_0_co_2.xml], proxies={'http': 'socks5://127.0.0.1:7890'}\u001b[0m\n",
      "\u001b[33m\u001b[1m[WARNING]\u001b[0m | \u001b[32m2025/05/28 14:57:32\u001b[0m | \u001b[33m\u001b[1mError occurs, task status: crawling_failed, error: SOCKSHTTPConnectionPool(host='sci-hub.in', port=80): Max retries exceeded with url: / (Caused by NewConnectionError('<urllib3.contrib.socks.SOCKSConnection object at 0x7f7cc20709d0>: Failed to establish a new connection: [Errno 111] Connection refused'))\u001b[0m\n",
      "\u001b[1m[INFO]\u001b[0m | \u001b[32m2025/05/28 14:57:32\u001b[0m | \u001b[1mChoose scihub url [7]: http://sci-hub.ru\u001b[0m\n",
      "\u001b[1m[INFO]\u001b[0m | \u001b[32m2025/05/28 14:57:32\u001b[0m | \u001b[1m<- Request: scihub_url=http://sci-hub.ru, source=DoiSource[type=doi, id=journals.ametsoc.org/view/journals/wefo/14/5/1520-0434_1999_014_0758_swadot_2_0_co_2.xml], proxies={'http': 'socks5://127.0.0.1:7890'}\u001b[0m\n",
      "\u001b[33m\u001b[1m[WARNING]\u001b[0m | \u001b[32m2025/05/28 14:57:32\u001b[0m | \u001b[33m\u001b[1mError occurs, task status: crawling_failed, error: SOCKSHTTPConnectionPool(host='sci-hub.ru', port=80): Max retries exceeded with url: / (Caused by NewConnectionError('<urllib3.contrib.socks.SOCKSConnection object at 0x7f7cc20704c0>: Failed to establish a new connection: [Errno 111] Connection refused'))\u001b[0m\n",
      "\u001b[31m\u001b[1m[ERROR]\u001b[0m | \u001b[32m2025/05/28 14:57:32\u001b[0m | \u001b[31m\u001b[1mFailed to download the paper: https://journals.ametsoc.org/view/journals/wefo/14/5/1520-0434_1999_014_0758_swadot_2_0_co_2.xml. Please try again.\u001b[0m\n",
      "/usr/lib/python3/dist-packages/urllib3/connectionpool.py:1020: InsecureRequestWarning: Unverified HTTPS request is being made to host 'journals.ametsoc.org'. Adding certificate verification is strongly advised. See: https://urllib3.readthedocs.io/en/latest/advanced-usage.html#ssl-warnings\n",
      "  warnings.warn(\n",
      "\u001b[1m[INFO]\u001b[0m | \u001b[32m2025/05/28 14:57:32\u001b[0m | \u001b[1mChoose scihub url [0]: https://sci-hub.se\u001b[0m\n",
      "\u001b[1m[INFO]\u001b[0m | \u001b[32m2025/05/28 14:57:32\u001b[0m | \u001b[1m<- Request: scihub_url=https://sci-hub.se, source=DoiSource[type=doi, id=journals.ametsoc.org/view/journals/mwre/109/2/1520-0493_1981_109_0255_nhar_2_0_co_2.xml], proxies={'http': 'socks5://127.0.0.1:7890'}\u001b[0m\n"
     ]
    },
    {
     "name": "stdout",
     "output_type": "stream",
     "text": [
      "Failed to download Surface winds and development of thunderstorms along southwest–northeast oriented mountain chains via Sci-Hub.\n",
      "\n",
      "Result 3: Northern Hemisphere airstream regions\n",
      "Publication URL: https://journals.ametsoc.org/view/journals/mwre/109/2/1520-0493_1981_109_0255_nhar_2_0_co_2.xml\n",
      "Trying to download PDF from: https://journals.ametsoc.org/view/journals/mwre/109/2/1520-0493_1981_109_0255_nhar_2_0_co_2.pdf\n",
      "The eprint URL is not a direct link to a PDF.\n",
      "Downloading Northern Hemisphere airstream regions from Sci Hub: https://journals.ametsoc.org/view/journals/mwre/109/2/1520-0493_1981_109_0255_nhar_2_0_co_2.xml\n"
     ]
    },
    {
     "name": "stderr",
     "output_type": "stream",
     "text": [
      "\u001b[1m[INFO]\u001b[0m | \u001b[32m2025/05/28 14:57:32\u001b[0m | \u001b[1m-> Response: status_code=200, content_length=6277\u001b[0m\n",
      "\u001b[33m\u001b[1m[WARNING]\u001b[0m | \u001b[32m2025/05/28 14:57:32\u001b[0m | \u001b[33m\u001b[1mError occurs, task status: extracting_failed, error: No pdf tag was found in the given content with the selector: #pdf\u001b[0m\n",
      "\u001b[1m[INFO]\u001b[0m | \u001b[32m2025/05/28 14:57:32\u001b[0m | \u001b[1mChoose scihub url [1]: https://sci-hub.ru\u001b[0m\n",
      "\u001b[1m[INFO]\u001b[0m | \u001b[32m2025/05/28 14:57:32\u001b[0m | \u001b[1m<- Request: scihub_url=https://sci-hub.ru, source=DoiSource[type=doi, id=journals.ametsoc.org/view/journals/mwre/109/2/1520-0493_1981_109_0255_nhar_2_0_co_2.xml], proxies={'http': 'socks5://127.0.0.1:7890'}\u001b[0m\n",
      "\u001b[1m[INFO]\u001b[0m | \u001b[32m2025/05/28 14:57:33\u001b[0m | \u001b[1m-> Response: status_code=403, content_length=898\u001b[0m\n",
      "\u001b[33m\u001b[1m[WARNING]\u001b[0m | \u001b[32m2025/05/28 14:57:33\u001b[0m | \u001b[33m\u001b[1mError occurs, task status: crawling_failed, error: Error occurs when crawling source: DoiSource[type=doi, id=journals.ametsoc.org/view/journals/mwre/109/2/1520-0493_1981_109_0255_nhar_2_0_co_2.xml]\u001b[0m\n",
      "\u001b[1m[INFO]\u001b[0m | \u001b[32m2025/05/28 14:57:33\u001b[0m | \u001b[1mChoose scihub url [2]: https://sci-hub.in\u001b[0m\n",
      "\u001b[1m[INFO]\u001b[0m | \u001b[32m2025/05/28 14:57:33\u001b[0m | \u001b[1m<- Request: scihub_url=https://sci-hub.in, source=DoiSource[type=doi, id=journals.ametsoc.org/view/journals/mwre/109/2/1520-0493_1981_109_0255_nhar_2_0_co_2.xml], proxies={'http': 'socks5://127.0.0.1:7890'}\u001b[0m\n",
      "\u001b[1m[INFO]\u001b[0m | \u001b[32m2025/05/28 14:57:34\u001b[0m | \u001b[1m-> Response: status_code=403, content_length=3460\u001b[0m\n",
      "\u001b[33m\u001b[1m[WARNING]\u001b[0m | \u001b[32m2025/05/28 14:57:34\u001b[0m | \u001b[33m\u001b[1mError occurs, task status: crawling_failed, error: Error occurs when crawling source: DoiSource[type=doi, id=journals.ametsoc.org/view/journals/mwre/109/2/1520-0493_1981_109_0255_nhar_2_0_co_2.xml]\u001b[0m\n",
      "\u001b[1m[INFO]\u001b[0m | \u001b[32m2025/05/28 14:57:34\u001b[0m | \u001b[1mChoose scihub url [3]: https://sci-hub.st\u001b[0m\n",
      "\u001b[1m[INFO]\u001b[0m | \u001b[32m2025/05/28 14:57:34\u001b[0m | \u001b[1m<- Request: scihub_url=https://sci-hub.st, source=DoiSource[type=doi, id=journals.ametsoc.org/view/journals/mwre/109/2/1520-0493_1981_109_0255_nhar_2_0_co_2.xml], proxies={'http': 'socks5://127.0.0.1:7890'}\u001b[0m\n",
      "\u001b[1m[INFO]\u001b[0m | \u001b[32m2025/05/28 14:57:34\u001b[0m | \u001b[1m-> Response: status_code=403, content_length=898\u001b[0m\n",
      "\u001b[33m\u001b[1m[WARNING]\u001b[0m | \u001b[32m2025/05/28 14:57:34\u001b[0m | \u001b[33m\u001b[1mError occurs, task status: crawling_failed, error: Error occurs when crawling source: DoiSource[type=doi, id=journals.ametsoc.org/view/journals/mwre/109/2/1520-0493_1981_109_0255_nhar_2_0_co_2.xml]\u001b[0m\n",
      "\u001b[1m[INFO]\u001b[0m | \u001b[32m2025/05/28 14:57:34\u001b[0m | \u001b[1mChoose scihub url [4]: http://sci-hub.st\u001b[0m\n",
      "\u001b[1m[INFO]\u001b[0m | \u001b[32m2025/05/28 14:57:34\u001b[0m | \u001b[1m<- Request: scihub_url=http://sci-hub.st, source=DoiSource[type=doi, id=journals.ametsoc.org/view/journals/mwre/109/2/1520-0493_1981_109_0255_nhar_2_0_co_2.xml], proxies={'http': 'socks5://127.0.0.1:7890'}\u001b[0m\n",
      "\u001b[33m\u001b[1m[WARNING]\u001b[0m | \u001b[32m2025/05/28 14:57:34\u001b[0m | \u001b[33m\u001b[1mError occurs, task status: crawling_failed, error: SOCKSHTTPConnectionPool(host='sci-hub.st', port=80): Max retries exceeded with url: / (Caused by NewConnectionError('<urllib3.contrib.socks.SOCKSConnection object at 0x7f7cc201cc70>: Failed to establish a new connection: [Errno 111] Connection refused'))\u001b[0m\n",
      "\u001b[1m[INFO]\u001b[0m | \u001b[32m2025/05/28 14:57:34\u001b[0m | \u001b[1mChoose scihub url [5]: http://sci-hub.se\u001b[0m\n",
      "\u001b[1m[INFO]\u001b[0m | \u001b[32m2025/05/28 14:57:34\u001b[0m | \u001b[1m<- Request: scihub_url=http://sci-hub.se, source=DoiSource[type=doi, id=journals.ametsoc.org/view/journals/mwre/109/2/1520-0493_1981_109_0255_nhar_2_0_co_2.xml], proxies={'http': 'socks5://127.0.0.1:7890'}\u001b[0m\n",
      "\u001b[33m\u001b[1m[WARNING]\u001b[0m | \u001b[32m2025/05/28 14:57:35\u001b[0m | \u001b[33m\u001b[1mError occurs, task status: crawling_failed, error: SOCKSHTTPConnectionPool(host='sci-hub.se', port=80): Max retries exceeded with url: / (Caused by NewConnectionError('<urllib3.contrib.socks.SOCKSConnection object at 0x7f7cc201f1f0>: Failed to establish a new connection: [Errno 111] Connection refused'))\u001b[0m\n",
      "\u001b[1m[INFO]\u001b[0m | \u001b[32m2025/05/28 14:57:35\u001b[0m | \u001b[1mChoose scihub url [6]: http://sci-hub.in\u001b[0m\n",
      "\u001b[1m[INFO]\u001b[0m | \u001b[32m2025/05/28 14:57:35\u001b[0m | \u001b[1m<- Request: scihub_url=http://sci-hub.in, source=DoiSource[type=doi, id=journals.ametsoc.org/view/journals/mwre/109/2/1520-0493_1981_109_0255_nhar_2_0_co_2.xml], proxies={'http': 'socks5://127.0.0.1:7890'}\u001b[0m\n",
      "\u001b[33m\u001b[1m[WARNING]\u001b[0m | \u001b[32m2025/05/28 14:57:35\u001b[0m | \u001b[33m\u001b[1mError occurs, task status: crawling_failed, error: SOCKSHTTPConnectionPool(host='sci-hub.in', port=80): Max retries exceeded with url: / (Caused by NewConnectionError('<urllib3.contrib.socks.SOCKSConnection object at 0x7f7cc1fa4250>: Failed to establish a new connection: [Errno 111] Connection refused'))\u001b[0m\n",
      "\u001b[1m[INFO]\u001b[0m | \u001b[32m2025/05/28 14:57:35\u001b[0m | \u001b[1mChoose scihub url [7]: http://sci-hub.ru\u001b[0m\n",
      "\u001b[1m[INFO]\u001b[0m | \u001b[32m2025/05/28 14:57:35\u001b[0m | \u001b[1m<- Request: scihub_url=http://sci-hub.ru, source=DoiSource[type=doi, id=journals.ametsoc.org/view/journals/mwre/109/2/1520-0493_1981_109_0255_nhar_2_0_co_2.xml], proxies={'http': 'socks5://127.0.0.1:7890'}\u001b[0m\n",
      "\u001b[33m\u001b[1m[WARNING]\u001b[0m | \u001b[32m2025/05/28 14:57:35\u001b[0m | \u001b[33m\u001b[1mError occurs, task status: crawling_failed, error: SOCKSHTTPConnectionPool(host='sci-hub.ru', port=80): Max retries exceeded with url: / (Caused by NewConnectionError('<urllib3.contrib.socks.SOCKSConnection object at 0x7f7cc1fa48b0>: Failed to establish a new connection: [Errno 111] Connection refused'))\u001b[0m\n",
      "\u001b[31m\u001b[1m[ERROR]\u001b[0m | \u001b[32m2025/05/28 14:57:35\u001b[0m | \u001b[31m\u001b[1mFailed to download the paper: https://journals.ametsoc.org/view/journals/mwre/109/2/1520-0493_1981_109_0255_nhar_2_0_co_2.xml. Please try again.\u001b[0m\n",
      "/usr/lib/python3/dist-packages/urllib3/connectionpool.py:1020: InsecureRequestWarning: Unverified HTTPS request is being made to host 'www.sciencedirect.com'. Adding certificate verification is strongly advised. See: https://urllib3.readthedocs.io/en/latest/advanced-usage.html#ssl-warnings\n",
      "  warnings.warn(\n",
      "\u001b[1m[INFO]\u001b[0m | \u001b[32m2025/05/28 14:57:35\u001b[0m | \u001b[1mChoose scihub url [0]: https://sci-hub.se\u001b[0m\n",
      "\u001b[1m[INFO]\u001b[0m | \u001b[32m2025/05/28 14:57:35\u001b[0m | \u001b[1m<- Request: scihub_url=https://sci-hub.se, source=DoiSource[type=doi, id=www.sciencedirect.com/science/article/pii/S1674927822001125], proxies={'http': 'socks5://127.0.0.1:7890'}\u001b[0m\n"
     ]
    },
    {
     "name": "stdout",
     "output_type": "stream",
     "text": [
      "Failed to download Northern Hemisphere airstream regions via Sci-Hub.\n",
      "\n",
      "Result 4: Effects of Northern Hemisphere Annular Mode on terrestrial near-surface wind speed over eastern China from 1979 to 2017\n",
      "Publication URL: https://www.sciencedirect.com/science/article/pii/S1674927822001125\n",
      "Trying to download PDF from: https://www.sciencedirect.com/science/article/pii/S1674927822001125\n",
      "The eprint URL is not a direct link to a PDF.\n",
      "Downloading Effects of Northern Hemisphere Annular Mode on terrestrial near-surface wind speed over eastern China from 1979 to 2017 from Sci Hub: https://www.sciencedirect.com/science/article/pii/S1674927822001125\n"
     ]
    },
    {
     "name": "stderr",
     "output_type": "stream",
     "text": [
      "\u001b[1m[INFO]\u001b[0m | \u001b[32m2025/05/28 14:57:35\u001b[0m | \u001b[1m-> Response: status_code=200, content_length=6210\u001b[0m\n",
      "\u001b[33m\u001b[1m[WARNING]\u001b[0m | \u001b[32m2025/05/28 14:57:36\u001b[0m | \u001b[33m\u001b[1mError occurs, task status: extracting_failed, error: No pdf tag was found in the given content with the selector: #pdf\u001b[0m\n",
      "\u001b[1m[INFO]\u001b[0m | \u001b[32m2025/05/28 14:57:36\u001b[0m | \u001b[1mChoose scihub url [1]: https://sci-hub.ru\u001b[0m\n",
      "\u001b[1m[INFO]\u001b[0m | \u001b[32m2025/05/28 14:57:36\u001b[0m | \u001b[1m<- Request: scihub_url=https://sci-hub.ru, source=DoiSource[type=doi, id=www.sciencedirect.com/science/article/pii/S1674927822001125], proxies={'http': 'socks5://127.0.0.1:7890'}\u001b[0m\n",
      "\u001b[1m[INFO]\u001b[0m | \u001b[32m2025/05/28 14:57:36\u001b[0m | \u001b[1m-> Response: status_code=403, content_length=898\u001b[0m\n",
      "\u001b[33m\u001b[1m[WARNING]\u001b[0m | \u001b[32m2025/05/28 14:57:36\u001b[0m | \u001b[33m\u001b[1mError occurs, task status: crawling_failed, error: Error occurs when crawling source: DoiSource[type=doi, id=www.sciencedirect.com/science/article/pii/S1674927822001125]\u001b[0m\n",
      "\u001b[1m[INFO]\u001b[0m | \u001b[32m2025/05/28 14:57:36\u001b[0m | \u001b[1mChoose scihub url [2]: https://sci-hub.in\u001b[0m\n",
      "\u001b[1m[INFO]\u001b[0m | \u001b[32m2025/05/28 14:57:36\u001b[0m | \u001b[1m<- Request: scihub_url=https://sci-hub.in, source=DoiSource[type=doi, id=www.sciencedirect.com/science/article/pii/S1674927822001125], proxies={'http': 'socks5://127.0.0.1:7890'}\u001b[0m\n",
      "\u001b[1m[INFO]\u001b[0m | \u001b[32m2025/05/28 14:57:37\u001b[0m | \u001b[1m-> Response: status_code=403, content_length=3460\u001b[0m\n",
      "\u001b[33m\u001b[1m[WARNING]\u001b[0m | \u001b[32m2025/05/28 14:57:37\u001b[0m | \u001b[33m\u001b[1mError occurs, task status: crawling_failed, error: Error occurs when crawling source: DoiSource[type=doi, id=www.sciencedirect.com/science/article/pii/S1674927822001125]\u001b[0m\n",
      "\u001b[1m[INFO]\u001b[0m | \u001b[32m2025/05/28 14:57:37\u001b[0m | \u001b[1mChoose scihub url [3]: https://sci-hub.st\u001b[0m\n",
      "\u001b[1m[INFO]\u001b[0m | \u001b[32m2025/05/28 14:57:37\u001b[0m | \u001b[1m<- Request: scihub_url=https://sci-hub.st, source=DoiSource[type=doi, id=www.sciencedirect.com/science/article/pii/S1674927822001125], proxies={'http': 'socks5://127.0.0.1:7890'}\u001b[0m\n",
      "\u001b[1m[INFO]\u001b[0m | \u001b[32m2025/05/28 14:57:37\u001b[0m | \u001b[1m-> Response: status_code=403, content_length=898\u001b[0m\n",
      "\u001b[33m\u001b[1m[WARNING]\u001b[0m | \u001b[32m2025/05/28 14:57:37\u001b[0m | \u001b[33m\u001b[1mError occurs, task status: crawling_failed, error: Error occurs when crawling source: DoiSource[type=doi, id=www.sciencedirect.com/science/article/pii/S1674927822001125]\u001b[0m\n",
      "\u001b[1m[INFO]\u001b[0m | \u001b[32m2025/05/28 14:57:37\u001b[0m | \u001b[1mChoose scihub url [4]: http://sci-hub.st\u001b[0m\n",
      "\u001b[1m[INFO]\u001b[0m | \u001b[32m2025/05/28 14:57:37\u001b[0m | \u001b[1m<- Request: scihub_url=http://sci-hub.st, source=DoiSource[type=doi, id=www.sciencedirect.com/science/article/pii/S1674927822001125], proxies={'http': 'socks5://127.0.0.1:7890'}\u001b[0m\n",
      "\u001b[33m\u001b[1m[WARNING]\u001b[0m | \u001b[32m2025/05/28 14:57:37\u001b[0m | \u001b[33m\u001b[1mError occurs, task status: crawling_failed, error: SOCKSHTTPConnectionPool(host='sci-hub.st', port=80): Max retries exceeded with url: / (Caused by NewConnectionError('<urllib3.contrib.socks.SOCKSConnection object at 0x7f7cc201fa00>: Failed to establish a new connection: [Errno 111] Connection refused'))\u001b[0m\n",
      "\u001b[1m[INFO]\u001b[0m | \u001b[32m2025/05/28 14:57:37\u001b[0m | \u001b[1mChoose scihub url [5]: http://sci-hub.se\u001b[0m\n",
      "\u001b[1m[INFO]\u001b[0m | \u001b[32m2025/05/28 14:57:37\u001b[0m | \u001b[1m<- Request: scihub_url=http://sci-hub.se, source=DoiSource[type=doi, id=www.sciencedirect.com/science/article/pii/S1674927822001125], proxies={'http': 'socks5://127.0.0.1:7890'}\u001b[0m\n",
      "\u001b[33m\u001b[1m[WARNING]\u001b[0m | \u001b[32m2025/05/28 14:57:37\u001b[0m | \u001b[33m\u001b[1mError occurs, task status: crawling_failed, error: SOCKSHTTPConnectionPool(host='sci-hub.se', port=80): Max retries exceeded with url: / (Caused by NewConnectionError('<urllib3.contrib.socks.SOCKSConnection object at 0x7f7cc201d990>: Failed to establish a new connection: [Errno 111] Connection refused'))\u001b[0m\n",
      "\u001b[1m[INFO]\u001b[0m | \u001b[32m2025/05/28 14:57:37\u001b[0m | \u001b[1mChoose scihub url [6]: http://sci-hub.in\u001b[0m\n",
      "\u001b[1m[INFO]\u001b[0m | \u001b[32m2025/05/28 14:57:37\u001b[0m | \u001b[1m<- Request: scihub_url=http://sci-hub.in, source=DoiSource[type=doi, id=www.sciencedirect.com/science/article/pii/S1674927822001125], proxies={'http': 'socks5://127.0.0.1:7890'}\u001b[0m\n",
      "\u001b[33m\u001b[1m[WARNING]\u001b[0m | \u001b[32m2025/05/28 14:57:38\u001b[0m | \u001b[33m\u001b[1mError occurs, task status: crawling_failed, error: SOCKSHTTPConnectionPool(host='sci-hub.in', port=80): Max retries exceeded with url: / (Caused by NewConnectionError('<urllib3.contrib.socks.SOCKSConnection object at 0x7f7cc201e830>: Failed to establish a new connection: [Errno 111] Connection refused'))\u001b[0m\n",
      "\u001b[1m[INFO]\u001b[0m | \u001b[32m2025/05/28 14:57:38\u001b[0m | \u001b[1mChoose scihub url [7]: http://sci-hub.ru\u001b[0m\n",
      "\u001b[1m[INFO]\u001b[0m | \u001b[32m2025/05/28 14:57:38\u001b[0m | \u001b[1m<- Request: scihub_url=http://sci-hub.ru, source=DoiSource[type=doi, id=www.sciencedirect.com/science/article/pii/S1674927822001125], proxies={'http': 'socks5://127.0.0.1:7890'}\u001b[0m\n",
      "\u001b[33m\u001b[1m[WARNING]\u001b[0m | \u001b[32m2025/05/28 14:57:38\u001b[0m | \u001b[33m\u001b[1mError occurs, task status: crawling_failed, error: SOCKSHTTPConnectionPool(host='sci-hub.ru', port=80): Max retries exceeded with url: / (Caused by NewConnectionError('<urllib3.contrib.socks.SOCKSConnection object at 0x7f7cc201c0a0>: Failed to establish a new connection: [Errno 111] Connection refused'))\u001b[0m\n",
      "\u001b[31m\u001b[1m[ERROR]\u001b[0m | \u001b[32m2025/05/28 14:57:38\u001b[0m | \u001b[31m\u001b[1mFailed to download the paper: https://www.sciencedirect.com/science/article/pii/S1674927822001125. Please try again.\u001b[0m\n",
      "/usr/lib/python3/dist-packages/urllib3/connectionpool.py:1020: InsecureRequestWarning: Unverified HTTPS request is being made to host 'journals.ametsoc.org'. Adding certificate verification is strongly advised. See: https://urllib3.readthedocs.io/en/latest/advanced-usage.html#ssl-warnings\n",
      "  warnings.warn(\n",
      "\u001b[1m[INFO]\u001b[0m | \u001b[32m2025/05/28 14:57:38\u001b[0m | \u001b[1mChoose scihub url [0]: https://sci-hub.se\u001b[0m\n",
      "\u001b[1m[INFO]\u001b[0m | \u001b[32m2025/05/28 14:57:38\u001b[0m | \u001b[1m<- Request: scihub_url=https://sci-hub.se, source=DoiSource[type=doi, id=journals.ametsoc.org/view/journals/mwre/130/9/1520-0493_2002_130_2188_ecdits_2.0.co_2.xml], proxies={'http': 'socks5://127.0.0.1:7890'}\u001b[0m\n"
     ]
    },
    {
     "name": "stdout",
     "output_type": "stream",
     "text": [
      "Failed to download Effects of Northern Hemisphere Annular Mode on terrestrial near-surface wind speed over eastern China from 1979 to 2017 via Sci-Hub.\n",
      "\n",
      "Result 5: Explosive cyclone development in the Southern Hemisphere and a comparison with Northern Hemisphere events\n",
      "Publication URL: https://journals.ametsoc.org/view/journals/mwre/130/9/1520-0493_2002_130_2188_ecdits_2.0.co_2.xml\n",
      "Trying to download PDF from: https://journals.ametsoc.org/view/journals/mwre/130/9/1520-0493_2002_130_2188_ecdits_2.0.co_2.xml\n",
      "The eprint URL is not a direct link to a PDF.\n",
      "Downloading Explosive cyclone development in the Southern Hemisphere and a comparison with Northern Hemisphere events from Sci Hub: https://journals.ametsoc.org/view/journals/mwre/130/9/1520-0493_2002_130_2188_ecdits_2.0.co_2.xml\n"
     ]
    },
    {
     "name": "stderr",
     "output_type": "stream",
     "text": [
      "\u001b[1m[INFO]\u001b[0m | \u001b[32m2025/05/28 14:57:38\u001b[0m | \u001b[1m-> Response: status_code=200, content_length=6279\u001b[0m\n",
      "\u001b[33m\u001b[1m[WARNING]\u001b[0m | \u001b[32m2025/05/28 14:57:39\u001b[0m | \u001b[33m\u001b[1mError occurs, task status: extracting_failed, error: No pdf tag was found in the given content with the selector: #pdf\u001b[0m\n",
      "\u001b[1m[INFO]\u001b[0m | \u001b[32m2025/05/28 14:57:39\u001b[0m | \u001b[1mChoose scihub url [1]: https://sci-hub.ru\u001b[0m\n",
      "\u001b[1m[INFO]\u001b[0m | \u001b[32m2025/05/28 14:57:39\u001b[0m | \u001b[1m<- Request: scihub_url=https://sci-hub.ru, source=DoiSource[type=doi, id=journals.ametsoc.org/view/journals/mwre/130/9/1520-0493_2002_130_2188_ecdits_2.0.co_2.xml], proxies={'http': 'socks5://127.0.0.1:7890'}\u001b[0m\n",
      "\u001b[1m[INFO]\u001b[0m | \u001b[32m2025/05/28 14:57:39\u001b[0m | \u001b[1m-> Response: status_code=403, content_length=898\u001b[0m\n",
      "\u001b[33m\u001b[1m[WARNING]\u001b[0m | \u001b[32m2025/05/28 14:57:39\u001b[0m | \u001b[33m\u001b[1mError occurs, task status: crawling_failed, error: Error occurs when crawling source: DoiSource[type=doi, id=journals.ametsoc.org/view/journals/mwre/130/9/1520-0493_2002_130_2188_ecdits_2.0.co_2.xml]\u001b[0m\n",
      "\u001b[1m[INFO]\u001b[0m | \u001b[32m2025/05/28 14:57:39\u001b[0m | \u001b[1mChoose scihub url [2]: https://sci-hub.in\u001b[0m\n",
      "\u001b[1m[INFO]\u001b[0m | \u001b[32m2025/05/28 14:57:39\u001b[0m | \u001b[1m<- Request: scihub_url=https://sci-hub.in, source=DoiSource[type=doi, id=journals.ametsoc.org/view/journals/mwre/130/9/1520-0493_2002_130_2188_ecdits_2.0.co_2.xml], proxies={'http': 'socks5://127.0.0.1:7890'}\u001b[0m\n",
      "\u001b[1m[INFO]\u001b[0m | \u001b[32m2025/05/28 14:57:40\u001b[0m | \u001b[1m-> Response: status_code=403, content_length=3460\u001b[0m\n",
      "\u001b[33m\u001b[1m[WARNING]\u001b[0m | \u001b[32m2025/05/28 14:57:40\u001b[0m | \u001b[33m\u001b[1mError occurs, task status: crawling_failed, error: Error occurs when crawling source: DoiSource[type=doi, id=journals.ametsoc.org/view/journals/mwre/130/9/1520-0493_2002_130_2188_ecdits_2.0.co_2.xml]\u001b[0m\n",
      "\u001b[1m[INFO]\u001b[0m | \u001b[32m2025/05/28 14:57:40\u001b[0m | \u001b[1mChoose scihub url [3]: https://sci-hub.st\u001b[0m\n",
      "\u001b[1m[INFO]\u001b[0m | \u001b[32m2025/05/28 14:57:40\u001b[0m | \u001b[1m<- Request: scihub_url=https://sci-hub.st, source=DoiSource[type=doi, id=journals.ametsoc.org/view/journals/mwre/130/9/1520-0493_2002_130_2188_ecdits_2.0.co_2.xml], proxies={'http': 'socks5://127.0.0.1:7890'}\u001b[0m\n",
      "\u001b[1m[INFO]\u001b[0m | \u001b[32m2025/05/28 14:57:40\u001b[0m | \u001b[1m-> Response: status_code=403, content_length=898\u001b[0m\n",
      "\u001b[33m\u001b[1m[WARNING]\u001b[0m | \u001b[32m2025/05/28 14:57:40\u001b[0m | \u001b[33m\u001b[1mError occurs, task status: crawling_failed, error: Error occurs when crawling source: DoiSource[type=doi, id=journals.ametsoc.org/view/journals/mwre/130/9/1520-0493_2002_130_2188_ecdits_2.0.co_2.xml]\u001b[0m\n",
      "\u001b[1m[INFO]\u001b[0m | \u001b[32m2025/05/28 14:57:40\u001b[0m | \u001b[1mChoose scihub url [4]: http://sci-hub.st\u001b[0m\n",
      "\u001b[1m[INFO]\u001b[0m | \u001b[32m2025/05/28 14:57:40\u001b[0m | \u001b[1m<- Request: scihub_url=http://sci-hub.st, source=DoiSource[type=doi, id=journals.ametsoc.org/view/journals/mwre/130/9/1520-0493_2002_130_2188_ecdits_2.0.co_2.xml], proxies={'http': 'socks5://127.0.0.1:7890'}\u001b[0m\n",
      "\u001b[33m\u001b[1m[WARNING]\u001b[0m | \u001b[32m2025/05/28 14:57:40\u001b[0m | \u001b[33m\u001b[1mError occurs, task status: crawling_failed, error: SOCKSHTTPConnectionPool(host='sci-hub.st', port=80): Max retries exceeded with url: / (Caused by NewConnectionError('<urllib3.contrib.socks.SOCKSConnection object at 0x7f7cc1f2c5e0>: Failed to establish a new connection: [Errno 111] Connection refused'))\u001b[0m\n",
      "\u001b[1m[INFO]\u001b[0m | \u001b[32m2025/05/28 14:57:40\u001b[0m | \u001b[1mChoose scihub url [5]: http://sci-hub.se\u001b[0m\n",
      "\u001b[1m[INFO]\u001b[0m | \u001b[32m2025/05/28 14:57:40\u001b[0m | \u001b[1m<- Request: scihub_url=http://sci-hub.se, source=DoiSource[type=doi, id=journals.ametsoc.org/view/journals/mwre/130/9/1520-0493_2002_130_2188_ecdits_2.0.co_2.xml], proxies={'http': 'socks5://127.0.0.1:7890'}\u001b[0m\n",
      "\u001b[33m\u001b[1m[WARNING]\u001b[0m | \u001b[32m2025/05/28 14:57:40\u001b[0m | \u001b[33m\u001b[1mError occurs, task status: crawling_failed, error: SOCKSHTTPConnectionPool(host='sci-hub.se', port=80): Max retries exceeded with url: / (Caused by NewConnectionError('<urllib3.contrib.socks.SOCKSConnection object at 0x7f7cc1f2d1b0>: Failed to establish a new connection: [Errno 111] Connection refused'))\u001b[0m\n",
      "\u001b[1m[INFO]\u001b[0m | \u001b[32m2025/05/28 14:57:40\u001b[0m | \u001b[1mChoose scihub url [6]: http://sci-hub.in\u001b[0m\n",
      "\u001b[1m[INFO]\u001b[0m | \u001b[32m2025/05/28 14:57:40\u001b[0m | \u001b[1m<- Request: scihub_url=http://sci-hub.in, source=DoiSource[type=doi, id=journals.ametsoc.org/view/journals/mwre/130/9/1520-0493_2002_130_2188_ecdits_2.0.co_2.xml], proxies={'http': 'socks5://127.0.0.1:7890'}\u001b[0m\n",
      "\u001b[33m\u001b[1m[WARNING]\u001b[0m | \u001b[32m2025/05/28 14:57:40\u001b[0m | \u001b[33m\u001b[1mError occurs, task status: crawling_failed, error: SOCKSHTTPConnectionPool(host='sci-hub.in', port=80): Max retries exceeded with url: / (Caused by NewConnectionError('<urllib3.contrib.socks.SOCKSConnection object at 0x7f7cc1f2d780>: Failed to establish a new connection: [Errno 111] Connection refused'))\u001b[0m\n",
      "\u001b[1m[INFO]\u001b[0m | \u001b[32m2025/05/28 14:57:40\u001b[0m | \u001b[1mChoose scihub url [7]: http://sci-hub.ru\u001b[0m\n",
      "\u001b[1m[INFO]\u001b[0m | \u001b[32m2025/05/28 14:57:40\u001b[0m | \u001b[1m<- Request: scihub_url=http://sci-hub.ru, source=DoiSource[type=doi, id=journals.ametsoc.org/view/journals/mwre/130/9/1520-0493_2002_130_2188_ecdits_2.0.co_2.xml], proxies={'http': 'socks5://127.0.0.1:7890'}\u001b[0m\n",
      "\u001b[33m\u001b[1m[WARNING]\u001b[0m | \u001b[32m2025/05/28 14:57:40\u001b[0m | \u001b[33m\u001b[1mError occurs, task status: crawling_failed, error: SOCKSHTTPConnectionPool(host='sci-hub.ru', port=80): Max retries exceeded with url: / (Caused by NewConnectionError('<urllib3.contrib.socks.SOCKSConnection object at 0x7f7cc1f2ea70>: Failed to establish a new connection: [Errno 111] Connection refused'))\u001b[0m\n",
      "\u001b[31m\u001b[1m[ERROR]\u001b[0m | \u001b[32m2025/05/28 14:57:40\u001b[0m | \u001b[31m\u001b[1mFailed to download the paper: https://journals.ametsoc.org/view/journals/mwre/130/9/1520-0493_2002_130_2188_ecdits_2.0.co_2.xml. Please try again.\u001b[0m\n"
     ]
    },
    {
     "name": "stdout",
     "output_type": "stream",
     "text": [
      "Failed to download Explosive cyclone development in the Southern Hemisphere and a comparison with Northern Hemisphere events via Sci-Hub.\n"
     ]
    },
    {
     "name": "stderr",
     "output_type": "stream",
     "text": [
      "/home/henri/.local/lib/python3.10/site-packages/langchain_core/vectorstores/base.py:1082: UserWarning: Relevance scores must be between 0 and 1, got [(Document(id='ccc0043b-a6c7-4282-ab6f-b42412ddc6d1', metadata={'source': './data/dynamic/A_climatology_of_highwind_events_for_the_eastern_United_States.pdf'}, page_content='the study region (Figure 12). This directional trend of\\nsustained (gust) winds was still noted when TC-HWEs were\\nexcluded from the analysis, a non-significant (significant)\\nshift in the wind direction towards the south (north) dur-\\ning the 43-year study period. Ulbrich et al. (2009) summa-\\nrized that the track of mid-latitude cyclones under future\\nclimate scenarios was expected to change in the Northern\\nHemisphere. Their analysis identified a decrease in the'), np.float32(-12.303334)), (Document(id='9971ee78-57bb-4d39-99ca-f4ff009eab1f', metadata={'source': './data/dynamic/A_climatology_of_highwind_events_for_the_eastern_United_States.pdf'}, page_content='the study region (Figure 12). This directional trend of\\nsustained (gust) winds was still noted when TC-HWEs were\\nexcluded from the analysis, a non-significant (significant)\\nshift in the wind direction towards the south (north) dur-\\ning the 43-year study period. Ulbrich et al. (2009) summa-\\nrized that the track of mid-latitude cyclones under future\\nclimate scenarios was expected to change in the Northern\\nHemisphere. Their analysis identified a decrease in the'), np.float32(-12.303334))]\n",
      "  self.vectorstore.similarity_search_with_relevance_scores(\n",
      "No relevant docs were retrieved using the relevance score threshold 0.19999999999999996\n"
     ]
    },
    {
     "name": "stdout",
     "output_type": "stream",
     "text": [
      "Vectorstore updated with 137 document splits.\n",
      "Obtaining data from scholar...\n",
      "Querying Google Scholar for: liquid solid ordered changes state\n"
     ]
    },
    {
     "name": "stderr",
     "output_type": "stream",
     "text": [
      "\u001b[1m[INFO]\u001b[0m | \u001b[32m2025/05/28 14:58:23\u001b[0m | \u001b[1mChoose scihub url [0]: https://sci-hub.se\u001b[0m\n",
      "\u001b[1m[INFO]\u001b[0m | \u001b[32m2025/05/28 14:58:23\u001b[0m | \u001b[1m<- Request: scihub_url=https://sci-hub.se, source=DoiSource[type=doi, id=www.tandfonline.com/doi/pdf/10.1080/14786448108627066], proxies={'http': 'socks5://127.0.0.1:7890'}\u001b[0m\n"
     ]
    },
    {
     "name": "stdout",
     "output_type": "stream",
     "text": [
      "\n",
      "Result 1: V. Change of state: Solid-liquid\n",
      "Publication URL: https://www.tandfonline.com/doi/pdf/10.1080/14786448108627066\n",
      "Downloading V. Change of state: Solid-liquid from Sci Hub: https://www.tandfonline.com/doi/pdf/10.1080/14786448108627066\n"
     ]
    },
    {
     "name": "stderr",
     "output_type": "stream",
     "text": [
      "\u001b[1m[INFO]\u001b[0m | \u001b[32m2025/05/28 14:58:23\u001b[0m | \u001b[1m-> Response: status_code=200, content_length=8579\u001b[0m\n",
      "\u001b[1m[INFO]\u001b[0m | \u001b[32m2025/05/28 14:58:23\u001b[0m | \u001b[1m* Extracted information: {'url': 'https://2024.sci-hub.se/2147/31d0b856dbcc85eba1a30404752fbf8b/poynting1881.pdf', 'title': 'V. Change of state  Solid-liquid. The London, Edinburgh, and Dublin Philosophical Magazine and Journal of Science, 12(72), 32–48'}\u001b[0m\n",
      "\u001b[1m[INFO]\u001b[0m | \u001b[32m2025/05/28 14:58:24\u001b[0m | \u001b[1m↓ Successfully download the url to: ./data/dynamic/V._Change_of_state_Solid-liquid.pdf\u001b[0m\n",
      "/usr/lib/python3/dist-packages/urllib3/connectionpool.py:1020: InsecureRequestWarning: Unverified HTTPS request is being made to host 'www.academia.edu'. Adding certificate verification is strongly advised. See: https://urllib3.readthedocs.io/en/latest/advanced-usage.html#ssl-warnings\n",
      "  warnings.warn(\n"
     ]
    },
    {
     "name": "stdout",
     "output_type": "stream",
     "text": [
      "Successfully downloaded to ./data/dynamic/V._Change_of_state_Solid-liquid.pdf\n",
      "\n",
      "Result 2: Characteristic ordering in liquid phase-change materials\n",
      "Publication URL: https://www.academia.edu/download/91373956/adma.20070001620220922-1-1rr5bwt.pdf\n",
      "Trying to download PDF from: https://www.academia.edu/download/91373956/adma.20070001620220922-1-1rr5bwt.pdf\n"
     ]
    },
    {
     "name": "stderr",
     "output_type": "stream",
     "text": [
      "/usr/lib/python3/dist-packages/urllib3/connectionpool.py:1020: InsecureRequestWarning: Unverified HTTPS request is being made to host 'www.academia.edu'. Adding certificate verification is strongly advised. See: https://urllib3.readthedocs.io/en/latest/advanced-usage.html#ssl-warnings\n",
      "  warnings.warn(\n"
     ]
    },
    {
     "name": "stdout",
     "output_type": "stream",
     "text": [
      "PDF saved as ./data/dynamic/Characteristic_ordering_in_liquid_phase-change_materials.pdf\n",
      "Error Failed to open file './data/dynamic/Characteristic_ordering_in_liquid_phase-change_materials.pdf'.\n",
      "Vectorstore updated with 94 document splits.\n"
     ]
    },
    {
     "name": "stderr",
     "output_type": "stream",
     "text": [
      "/home/henri/.local/lib/python3.10/site-packages/langchain_core/vectorstores/base.py:1082: UserWarning: Relevance scores must be between 0 and 1, got [(Document(id='22eaf7f6-7ef9-4393-90de-8bfed8b0a329', metadata={'source': './data/dynamic/V._Change_of_state_Solid-liquid.pdf'}, page_content='between the two states. \\nOn the ibrmer supposition we should \\ncertainly not have the ordinary change of state, though some- \\nthing of the sort may:occur in the case of Dr. Carnelley\\'s \"hot \\nice ;\" and in the latter we should have the sealing-wax typ% \\nand no signs of this have been observed. \\nSince, then~ change of state is a surface phenomenon, we are \\nled at once to connect it with the escape of molecules which we \\nknow to be always taking place from the surfac% as indicated'), np.float32(-9.167529)), (Document(id='9fa5d84d-e509-4cbe-9979-ba7a5d38187e', metadata={'source': './data/dynamic/V._Change_of_state_Solid-liquid.pdf'}, page_content='between the two states. \\nOn the ibrmer supposition we should \\ncertainly not have the ordinary change of state, though some- \\nthing of the sort may:occur in the case of Dr. Carnelley\\'s \"hot \\nice ;\" and in the latter we should have the sealing-wax typ% \\nand no signs of this have been observed. \\nSince, then~ change of state is a surface phenomenon, we are \\nled at once to connect it with the escape of molecules which we \\nknow to be always taking place from the surfac% as indicated'), np.float32(-9.167529))]\n",
      "  self.vectorstore.similarity_search_with_relevance_scores(\n",
      "No relevant docs were retrieved using the relevance score threshold 0.19999999999999996\n"
     ]
    },
    {
     "name": "stdout",
     "output_type": "stream",
     "text": [
      "Obtaining data from scholar...\n",
      "Querying Google Scholar for: radioactive decay dangerous\n"
     ]
    },
    {
     "name": "stderr",
     "output_type": "stream",
     "text": [
      "/usr/lib/python3/dist-packages/urllib3/connectionpool.py:1020: InsecureRequestWarning: Unverified HTTPS request is being made to host 'www.sciencedirect.com'. Adding certificate verification is strongly advised. See: https://urllib3.readthedocs.io/en/latest/advanced-usage.html#ssl-warnings\n",
      "  warnings.warn(\n",
      "\u001b[1m[INFO]\u001b[0m | \u001b[32m2025/05/28 14:58:59\u001b[0m | \u001b[1mChoose scihub url [0]: https://sci-hub.se\u001b[0m\n",
      "\u001b[1m[INFO]\u001b[0m | \u001b[32m2025/05/28 14:58:59\u001b[0m | \u001b[1m<- Request: scihub_url=https://sci-hub.se, source=DoiSource[type=doi, id=www.sciencedirect.com/science/article/pii/S1877042811006252], proxies={'http': 'socks5://127.0.0.1:7890'}\u001b[0m\n"
     ]
    },
    {
     "name": "stdout",
     "output_type": "stream",
     "text": [
      "\n",
      "Result 1: Modeling radioactive decay\n",
      "Publication URL: https://www.sciencedirect.com/science/article/pii/S1877042811006252\n",
      "Trying to download PDF from: https://www.sciencedirect.com/science/article/pii/S1877042811006252/pdf?md5=e8dd83318b570489fb7368bdebd1d06d&pid=1-s2.0-S1877042811006252-main.pdf&_valck=1\n",
      "The eprint URL is not a direct link to a PDF.\n",
      "Downloading Modeling radioactive decay from Sci Hub: https://www.sciencedirect.com/science/article/pii/S1877042811006252\n"
     ]
    },
    {
     "name": "stderr",
     "output_type": "stream",
     "text": [
      "\u001b[1m[INFO]\u001b[0m | \u001b[32m2025/05/28 14:58:59\u001b[0m | \u001b[1m-> Response: status_code=403, content_length=898\u001b[0m\n",
      "\u001b[33m\u001b[1m[WARNING]\u001b[0m | \u001b[32m2025/05/28 14:58:59\u001b[0m | \u001b[33m\u001b[1mError occurs, task status: crawling_failed, error: Error occurs when crawling source: DoiSource[type=doi, id=www.sciencedirect.com/science/article/pii/S1877042811006252]\u001b[0m\n",
      "\u001b[1m[INFO]\u001b[0m | \u001b[32m2025/05/28 14:58:59\u001b[0m | \u001b[1mChoose scihub url [1]: https://sci-hub.ru\u001b[0m\n",
      "\u001b[1m[INFO]\u001b[0m | \u001b[32m2025/05/28 14:58:59\u001b[0m | \u001b[1m<- Request: scihub_url=https://sci-hub.ru, source=DoiSource[type=doi, id=www.sciencedirect.com/science/article/pii/S1877042811006252], proxies={'http': 'socks5://127.0.0.1:7890'}\u001b[0m\n",
      "\u001b[1m[INFO]\u001b[0m | \u001b[32m2025/05/28 14:58:59\u001b[0m | \u001b[1m-> Response: status_code=403, content_length=898\u001b[0m\n",
      "\u001b[33m\u001b[1m[WARNING]\u001b[0m | \u001b[32m2025/05/28 14:58:59\u001b[0m | \u001b[33m\u001b[1mError occurs, task status: crawling_failed, error: Error occurs when crawling source: DoiSource[type=doi, id=www.sciencedirect.com/science/article/pii/S1877042811006252]\u001b[0m\n",
      "\u001b[1m[INFO]\u001b[0m | \u001b[32m2025/05/28 14:58:59\u001b[0m | \u001b[1mChoose scihub url [2]: https://sci-hub.in\u001b[0m\n",
      "\u001b[1m[INFO]\u001b[0m | \u001b[32m2025/05/28 14:59:00\u001b[0m | \u001b[1m<- Request: scihub_url=https://sci-hub.in, source=DoiSource[type=doi, id=www.sciencedirect.com/science/article/pii/S1877042811006252], proxies={'http': 'socks5://127.0.0.1:7890'}\u001b[0m\n",
      "\u001b[1m[INFO]\u001b[0m | \u001b[32m2025/05/28 14:59:01\u001b[0m | \u001b[1m-> Response: status_code=403, content_length=3460\u001b[0m\n",
      "\u001b[33m\u001b[1m[WARNING]\u001b[0m | \u001b[32m2025/05/28 14:59:01\u001b[0m | \u001b[33m\u001b[1mError occurs, task status: crawling_failed, error: Error occurs when crawling source: DoiSource[type=doi, id=www.sciencedirect.com/science/article/pii/S1877042811006252]\u001b[0m\n",
      "\u001b[1m[INFO]\u001b[0m | \u001b[32m2025/05/28 14:59:01\u001b[0m | \u001b[1mChoose scihub url [3]: https://sci-hub.st\u001b[0m\n",
      "\u001b[1m[INFO]\u001b[0m | \u001b[32m2025/05/28 14:59:01\u001b[0m | \u001b[1m<- Request: scihub_url=https://sci-hub.st, source=DoiSource[type=doi, id=www.sciencedirect.com/science/article/pii/S1877042811006252], proxies={'http': 'socks5://127.0.0.1:7890'}\u001b[0m\n",
      "\u001b[1m[INFO]\u001b[0m | \u001b[32m2025/05/28 14:59:01\u001b[0m | \u001b[1m-> Response: status_code=403, content_length=898\u001b[0m\n",
      "\u001b[33m\u001b[1m[WARNING]\u001b[0m | \u001b[32m2025/05/28 14:59:01\u001b[0m | \u001b[33m\u001b[1mError occurs, task status: crawling_failed, error: Error occurs when crawling source: DoiSource[type=doi, id=www.sciencedirect.com/science/article/pii/S1877042811006252]\u001b[0m\n",
      "\u001b[1m[INFO]\u001b[0m | \u001b[32m2025/05/28 14:59:01\u001b[0m | \u001b[1mChoose scihub url [4]: http://sci-hub.st\u001b[0m\n",
      "\u001b[1m[INFO]\u001b[0m | \u001b[32m2025/05/28 14:59:01\u001b[0m | \u001b[1m<- Request: scihub_url=http://sci-hub.st, source=DoiSource[type=doi, id=www.sciencedirect.com/science/article/pii/S1877042811006252], proxies={'http': 'socks5://127.0.0.1:7890'}\u001b[0m\n",
      "\u001b[33m\u001b[1m[WARNING]\u001b[0m | \u001b[32m2025/05/28 14:59:01\u001b[0m | \u001b[33m\u001b[1mError occurs, task status: crawling_failed, error: SOCKSHTTPConnectionPool(host='sci-hub.st', port=80): Max retries exceeded with url: / (Caused by NewConnectionError('<urllib3.contrib.socks.SOCKSConnection object at 0x7f7cc1bc6e00>: Failed to establish a new connection: [Errno 111] Connection refused'))\u001b[0m\n",
      "\u001b[1m[INFO]\u001b[0m | \u001b[32m2025/05/28 14:59:01\u001b[0m | \u001b[1mChoose scihub url [5]: http://sci-hub.se\u001b[0m\n",
      "\u001b[1m[INFO]\u001b[0m | \u001b[32m2025/05/28 14:59:01\u001b[0m | \u001b[1m<- Request: scihub_url=http://sci-hub.se, source=DoiSource[type=doi, id=www.sciencedirect.com/science/article/pii/S1877042811006252], proxies={'http': 'socks5://127.0.0.1:7890'}\u001b[0m\n",
      "\u001b[33m\u001b[1m[WARNING]\u001b[0m | \u001b[32m2025/05/28 14:59:02\u001b[0m | \u001b[33m\u001b[1mError occurs, task status: crawling_failed, error: SOCKSHTTPConnectionPool(host='sci-hub.se', port=80): Max retries exceeded with url: / (Caused by NewConnectionError('<urllib3.contrib.socks.SOCKSConnection object at 0x7f7cc1bf15a0>: Failed to establish a new connection: [Errno 111] Connection refused'))\u001b[0m\n",
      "\u001b[1m[INFO]\u001b[0m | \u001b[32m2025/05/28 14:59:02\u001b[0m | \u001b[1mChoose scihub url [6]: http://sci-hub.in\u001b[0m\n",
      "\u001b[1m[INFO]\u001b[0m | \u001b[32m2025/05/28 14:59:02\u001b[0m | \u001b[1m<- Request: scihub_url=http://sci-hub.in, source=DoiSource[type=doi, id=www.sciencedirect.com/science/article/pii/S1877042811006252], proxies={'http': 'socks5://127.0.0.1:7890'}\u001b[0m\n",
      "\u001b[33m\u001b[1m[WARNING]\u001b[0m | \u001b[32m2025/05/28 14:59:02\u001b[0m | \u001b[33m\u001b[1mError occurs, task status: crawling_failed, error: SOCKSHTTPConnectionPool(host='sci-hub.in', port=80): Max retries exceeded with url: / (Caused by NewConnectionError('<urllib3.contrib.socks.SOCKSConnection object at 0x7f7cc1bf07f0>: Failed to establish a new connection: [Errno 111] Connection refused'))\u001b[0m\n",
      "\u001b[1m[INFO]\u001b[0m | \u001b[32m2025/05/28 14:59:02\u001b[0m | \u001b[1mChoose scihub url [7]: http://sci-hub.ru\u001b[0m\n",
      "\u001b[1m[INFO]\u001b[0m | \u001b[32m2025/05/28 14:59:02\u001b[0m | \u001b[1m<- Request: scihub_url=http://sci-hub.ru, source=DoiSource[type=doi, id=www.sciencedirect.com/science/article/pii/S1877042811006252], proxies={'http': 'socks5://127.0.0.1:7890'}\u001b[0m\n",
      "\u001b[33m\u001b[1m[WARNING]\u001b[0m | \u001b[32m2025/05/28 14:59:02\u001b[0m | \u001b[33m\u001b[1mError occurs, task status: crawling_failed, error: SOCKSHTTPConnectionPool(host='sci-hub.ru', port=80): Max retries exceeded with url: / (Caused by NewConnectionError('<urllib3.contrib.socks.SOCKSConnection object at 0x7f7cc1bf2e60>: Failed to establish a new connection: [Errno 111] Connection refused'))\u001b[0m\n",
      "\u001b[31m\u001b[1m[ERROR]\u001b[0m | \u001b[32m2025/05/28 14:59:02\u001b[0m | \u001b[31m\u001b[1mFailed to download the paper: https://www.sciencedirect.com/science/article/pii/S1877042811006252. Please try again.\u001b[0m\n",
      "\u001b[1m[INFO]\u001b[0m | \u001b[32m2025/05/28 14:59:02\u001b[0m | \u001b[1mChoose scihub url [0]: https://sci-hub.se\u001b[0m\n",
      "\u001b[1m[INFO]\u001b[0m | \u001b[32m2025/05/28 14:59:02\u001b[0m | \u001b[1m<- Request: scihub_url=https://sci-hub.se, source=DoiSource[type=doi, id=link.springer.com/chapter/10.1007/978-3-642-20186-8_11], proxies={'http': 'socks5://127.0.0.1:7890'}\u001b[0m\n"
     ]
    },
    {
     "name": "stdout",
     "output_type": "stream",
     "text": [
      "Successfully downloaded to ./data/dynamic/Modeling_radioactive_decay.pdf\n",
      "\n",
      "Result 2: Modes of radioactive decay\n",
      "Publication URL: https://link.springer.com/chapter/10.1007/978-3-642-20186-8_11\n",
      "Downloading Modes of radioactive decay from Sci Hub: https://link.springer.com/chapter/10.1007/978-3-642-20186-8_11\n"
     ]
    },
    {
     "name": "stderr",
     "output_type": "stream",
     "text": [
      "\u001b[1m[INFO]\u001b[0m | \u001b[32m2025/05/28 14:59:02\u001b[0m | \u001b[1m-> Response: status_code=403, content_length=898\u001b[0m\n",
      "\u001b[33m\u001b[1m[WARNING]\u001b[0m | \u001b[32m2025/05/28 14:59:02\u001b[0m | \u001b[33m\u001b[1mError occurs, task status: crawling_failed, error: Error occurs when crawling source: DoiSource[type=doi, id=link.springer.com/chapter/10.1007/978-3-642-20186-8_11]\u001b[0m\n",
      "\u001b[1m[INFO]\u001b[0m | \u001b[32m2025/05/28 14:59:02\u001b[0m | \u001b[1mChoose scihub url [1]: https://sci-hub.ru\u001b[0m\n",
      "\u001b[1m[INFO]\u001b[0m | \u001b[32m2025/05/28 14:59:02\u001b[0m | \u001b[1m<- Request: scihub_url=https://sci-hub.ru, source=DoiSource[type=doi, id=link.springer.com/chapter/10.1007/978-3-642-20186-8_11], proxies={'http': 'socks5://127.0.0.1:7890'}\u001b[0m\n",
      "\u001b[1m[INFO]\u001b[0m | \u001b[32m2025/05/28 14:59:02\u001b[0m | \u001b[1m-> Response: status_code=403, content_length=898\u001b[0m\n",
      "\u001b[33m\u001b[1m[WARNING]\u001b[0m | \u001b[32m2025/05/28 14:59:02\u001b[0m | \u001b[33m\u001b[1mError occurs, task status: crawling_failed, error: Error occurs when crawling source: DoiSource[type=doi, id=link.springer.com/chapter/10.1007/978-3-642-20186-8_11]\u001b[0m\n",
      "\u001b[1m[INFO]\u001b[0m | \u001b[32m2025/05/28 14:59:02\u001b[0m | \u001b[1mChoose scihub url [2]: https://sci-hub.in\u001b[0m\n",
      "\u001b[1m[INFO]\u001b[0m | \u001b[32m2025/05/28 14:59:02\u001b[0m | \u001b[1m<- Request: scihub_url=https://sci-hub.in, source=DoiSource[type=doi, id=link.springer.com/chapter/10.1007/978-3-642-20186-8_11], proxies={'http': 'socks5://127.0.0.1:7890'}\u001b[0m\n",
      "\u001b[1m[INFO]\u001b[0m | \u001b[32m2025/05/28 14:59:03\u001b[0m | \u001b[1m-> Response: status_code=403, content_length=6651\u001b[0m\n",
      "\u001b[33m\u001b[1m[WARNING]\u001b[0m | \u001b[32m2025/05/28 14:59:03\u001b[0m | \u001b[33m\u001b[1mError occurs, task status: crawling_failed, error: Error occurs when crawling source: DoiSource[type=doi, id=link.springer.com/chapter/10.1007/978-3-642-20186-8_11]\u001b[0m\n",
      "\u001b[1m[INFO]\u001b[0m | \u001b[32m2025/05/28 14:59:03\u001b[0m | \u001b[1mChoose scihub url [3]: https://sci-hub.st\u001b[0m\n",
      "\u001b[1m[INFO]\u001b[0m | \u001b[32m2025/05/28 14:59:03\u001b[0m | \u001b[1m<- Request: scihub_url=https://sci-hub.st, source=DoiSource[type=doi, id=link.springer.com/chapter/10.1007/978-3-642-20186-8_11], proxies={'http': 'socks5://127.0.0.1:7890'}\u001b[0m\n",
      "\u001b[1m[INFO]\u001b[0m | \u001b[32m2025/05/28 14:59:03\u001b[0m | \u001b[1m-> Response: status_code=403, content_length=898\u001b[0m\n",
      "\u001b[33m\u001b[1m[WARNING]\u001b[0m | \u001b[32m2025/05/28 14:59:03\u001b[0m | \u001b[33m\u001b[1mError occurs, task status: crawling_failed, error: Error occurs when crawling source: DoiSource[type=doi, id=link.springer.com/chapter/10.1007/978-3-642-20186-8_11]\u001b[0m\n",
      "\u001b[1m[INFO]\u001b[0m | \u001b[32m2025/05/28 14:59:03\u001b[0m | \u001b[1mChoose scihub url [4]: http://sci-hub.st\u001b[0m\n",
      "\u001b[1m[INFO]\u001b[0m | \u001b[32m2025/05/28 14:59:04\u001b[0m | \u001b[1m<- Request: scihub_url=http://sci-hub.st, source=DoiSource[type=doi, id=link.springer.com/chapter/10.1007/978-3-642-20186-8_11], proxies={'http': 'socks5://127.0.0.1:7890'}\u001b[0m\n",
      "\u001b[33m\u001b[1m[WARNING]\u001b[0m | \u001b[32m2025/05/28 14:59:04\u001b[0m | \u001b[33m\u001b[1mError occurs, task status: crawling_failed, error: SOCKSHTTPConnectionPool(host='sci-hub.st', port=80): Max retries exceeded with url: / (Caused by NewConnectionError('<urllib3.contrib.socks.SOCKSConnection object at 0x7f7cc1c29480>: Failed to establish a new connection: [Errno 111] Connection refused'))\u001b[0m\n",
      "\u001b[1m[INFO]\u001b[0m | \u001b[32m2025/05/28 14:59:04\u001b[0m | \u001b[1mChoose scihub url [5]: http://sci-hub.se\u001b[0m\n",
      "\u001b[1m[INFO]\u001b[0m | \u001b[32m2025/05/28 14:59:04\u001b[0m | \u001b[1m<- Request: scihub_url=http://sci-hub.se, source=DoiSource[type=doi, id=link.springer.com/chapter/10.1007/978-3-642-20186-8_11], proxies={'http': 'socks5://127.0.0.1:7890'}\u001b[0m\n",
      "\u001b[33m\u001b[1m[WARNING]\u001b[0m | \u001b[32m2025/05/28 14:59:04\u001b[0m | \u001b[33m\u001b[1mError occurs, task status: crawling_failed, error: SOCKSHTTPConnectionPool(host='sci-hub.se', port=80): Max retries exceeded with url: / (Caused by NewConnectionError('<urllib3.contrib.socks.SOCKSConnection object at 0x7f7cc1bd0c70>: Failed to establish a new connection: [Errno 111] Connection refused'))\u001b[0m\n",
      "\u001b[1m[INFO]\u001b[0m | \u001b[32m2025/05/28 14:59:04\u001b[0m | \u001b[1mChoose scihub url [6]: http://sci-hub.in\u001b[0m\n",
      "\u001b[1m[INFO]\u001b[0m | \u001b[32m2025/05/28 14:59:04\u001b[0m | \u001b[1m<- Request: scihub_url=http://sci-hub.in, source=DoiSource[type=doi, id=link.springer.com/chapter/10.1007/978-3-642-20186-8_11], proxies={'http': 'socks5://127.0.0.1:7890'}\u001b[0m\n",
      "\u001b[33m\u001b[1m[WARNING]\u001b[0m | \u001b[32m2025/05/28 14:59:04\u001b[0m | \u001b[33m\u001b[1mError occurs, task status: crawling_failed, error: SOCKSHTTPConnectionPool(host='sci-hub.in', port=80): Max retries exceeded with url: / (Caused by NewConnectionError('<urllib3.contrib.socks.SOCKSConnection object at 0x7f7cc1bd1930>: Failed to establish a new connection: [Errno 111] Connection refused'))\u001b[0m\n",
      "\u001b[1m[INFO]\u001b[0m | \u001b[32m2025/05/28 14:59:04\u001b[0m | \u001b[1mChoose scihub url [7]: http://sci-hub.ru\u001b[0m\n",
      "\u001b[1m[INFO]\u001b[0m | \u001b[32m2025/05/28 14:59:04\u001b[0m | \u001b[1m<- Request: scihub_url=http://sci-hub.ru, source=DoiSource[type=doi, id=link.springer.com/chapter/10.1007/978-3-642-20186-8_11], proxies={'http': 'socks5://127.0.0.1:7890'}\u001b[0m\n",
      "\u001b[33m\u001b[1m[WARNING]\u001b[0m | \u001b[32m2025/05/28 14:59:04\u001b[0m | \u001b[33m\u001b[1mError occurs, task status: crawling_failed, error: SOCKSHTTPConnectionPool(host='sci-hub.ru', port=80): Max retries exceeded with url: / (Caused by NewConnectionError('<urllib3.contrib.socks.SOCKSConnection object at 0x7f7cc1bd2050>: Failed to establish a new connection: [Errno 111] Connection refused'))\u001b[0m\n",
      "\u001b[31m\u001b[1m[ERROR]\u001b[0m | \u001b[32m2025/05/28 14:59:04\u001b[0m | \u001b[31m\u001b[1mFailed to download the paper: https://link.springer.com/chapter/10.1007/978-3-642-20186-8_11. Please try again.\u001b[0m\n"
     ]
    },
    {
     "name": "stdout",
     "output_type": "stream",
     "text": [
      "Successfully downloaded to ./data/dynamic/Modes_of_radioactive_decay.pdf\n"
     ]
    },
    {
     "name": "stderr",
     "output_type": "stream",
     "text": [
      "/home/henri/.local/lib/python3.10/site-packages/langchain_core/vectorstores/base.py:1082: UserWarning: Relevance scores must be between 0 and 1, got [(Document(id='e777ad1d-2e2d-4a62-a543-d377323334d7', metadata={'source': './data/dynamic/Modeling_radioactive_decay.pdf'}, page_content='Keywords : Half-mean life, modeling, radioactive decay, radioactivity teaching, simulation \\nI. Introduction  \\nRadioactive decay is the name given to the natural process by which an atomic nucleus spontaneously transforms \\nitself (decays) into another, releasing dangerous high energy emissions (Hughes and Zalts, 2000). \\nIf a sample consists of N0 radioactive nuclei at time t=0, and if N(t) denotes the number of the nuclei remaining at'), np.float32(-18.21845)), (Document(id='31e86bba-6e51-4ad3-978d-85236a18f92b', metadata={'source': './data/dynamic/Modeling_radioactive_decay.pdf'}, page_content='Keywords : Half-mean life, modeling, radioactive decay, radioactivity teaching, simulation \\nI. Introduction  \\nRadioactive decay is the name given to the natural process by which an atomic nucleus spontaneously transforms \\nitself (decays) into another, releasing dangerous high energy emissions (Hughes and Zalts, 2000). \\nIf a sample consists of N0 radioactive nuclei at time t=0, and if N(t) denotes the number of the nuclei remaining at'), np.float32(-18.21845))]\n",
      "  self.vectorstore.similarity_search_with_relevance_scores(\n",
      "No relevant docs were retrieved using the relevance score threshold 0.19999999999999996\n"
     ]
    },
    {
     "name": "stdout",
     "output_type": "stream",
     "text": [
      "Vectorstore updated with 426 document splits.\n"
     ]
    },
    {
     "ename": "FileExistsError",
     "evalue": "[Errno 17] File exists: 'evaluation'",
     "output_type": "error",
     "traceback": [
      "\u001b[0;31m---------------------------------------------------------------------------\u001b[0m",
      "\u001b[0;31mFileExistsError\u001b[0m                           Traceback (most recent call last)",
      "Cell \u001b[0;32mIn[16], line 6\u001b[0m\n\u001b[1;32m      3\u001b[0m results \u001b[38;5;241m=\u001b[39m [evaluate_answer(row) \u001b[38;5;28;01mfor\u001b[39;00m _, row \u001b[38;5;129;01min\u001b[39;00m df\u001b[38;5;241m.\u001b[39mloc[:\u001b[38;5;241m3\u001b[39m]\u001b[38;5;241m.\u001b[39miterrows()]\n\u001b[1;32m      4\u001b[0m results_df \u001b[38;5;241m=\u001b[39m pd\u001b[38;5;241m.\u001b[39mDataFrame(results)\n\u001b[0;32m----> 6\u001b[0m \u001b[43mos\u001b[49m\u001b[38;5;241;43m.\u001b[39;49m\u001b[43mmakedirs\u001b[49m\u001b[43m(\u001b[49m\u001b[38;5;124;43m\"\u001b[39;49m\u001b[38;5;124;43mevaluation\u001b[39;49m\u001b[38;5;124;43m\"\u001b[39;49m\u001b[43m)\u001b[49m\n\u001b[1;32m      7\u001b[0m results_df\u001b[38;5;241m.\u001b[39mto_csv(\u001b[38;5;124mf\u001b[39m\u001b[38;5;124m\"\u001b[39m\u001b[38;5;124mevaluation/\u001b[39m\u001b[38;5;132;01m{\u001b[39;00mtitle\u001b[38;5;132;01m}\u001b[39;00m\u001b[38;5;124m.csv\u001b[39m\u001b[38;5;124m\"\u001b[39m, index\u001b[38;5;241m=\u001b[39m\u001b[38;5;28;01mFalse\u001b[39;00m)\n\u001b[1;32m      8\u001b[0m results_df\n",
      "File \u001b[0;32m/usr/lib/python3.10/os.py:225\u001b[0m, in \u001b[0;36mmakedirs\u001b[0;34m(name, mode, exist_ok)\u001b[0m\n\u001b[1;32m    223\u001b[0m         \u001b[38;5;28;01mreturn\u001b[39;00m\n\u001b[1;32m    224\u001b[0m \u001b[38;5;28;01mtry\u001b[39;00m:\n\u001b[0;32m--> 225\u001b[0m     \u001b[43mmkdir\u001b[49m\u001b[43m(\u001b[49m\u001b[43mname\u001b[49m\u001b[43m,\u001b[49m\u001b[43m \u001b[49m\u001b[43mmode\u001b[49m\u001b[43m)\u001b[49m\n\u001b[1;32m    226\u001b[0m \u001b[38;5;28;01mexcept\u001b[39;00m \u001b[38;5;167;01mOSError\u001b[39;00m:\n\u001b[1;32m    227\u001b[0m     \u001b[38;5;66;03m# Cannot rely on checking for EEXIST, since the operating system\u001b[39;00m\n\u001b[1;32m    228\u001b[0m     \u001b[38;5;66;03m# could give priority to other errors like EACCES or EROFS\u001b[39;00m\n\u001b[1;32m    229\u001b[0m     \u001b[38;5;28;01mif\u001b[39;00m \u001b[38;5;129;01mnot\u001b[39;00m exist_ok \u001b[38;5;129;01mor\u001b[39;00m \u001b[38;5;129;01mnot\u001b[39;00m path\u001b[38;5;241m.\u001b[39misdir(name):\n",
      "\u001b[0;31mFileExistsError\u001b[0m: [Errno 17] File exists: 'evaluation'"
     ]
    }
   ],
   "source": [
    "title = \"eval_results\"\n",
    "\n",
    "results = [evaluate_answer(row) for _, row in df.loc[:3].iterrows()]\n",
    "results_df = pd.DataFrame(results)"
   ]
  },
  {
   "cell_type": "code",
   "execution_count": 17,
   "id": "65723116",
   "metadata": {},
   "outputs": [
    {
     "data": {
      "text/html": [
       "<div>\n",
       "<style scoped>\n",
       "    .dataframe tbody tr th:only-of-type {\n",
       "        vertical-align: middle;\n",
       "    }\n",
       "\n",
       "    .dataframe tbody tr th {\n",
       "        vertical-align: top;\n",
       "    }\n",
       "\n",
       "    .dataframe thead th {\n",
       "        text-align: right;\n",
       "    }\n",
       "</style>\n",
       "<table border=\"1\" class=\"dataframe\">\n",
       "  <thead>\n",
       "    <tr style=\"text-align: right;\">\n",
       "      <th></th>\n",
       "      <th>question</th>\n",
       "      <th>chatbot_response</th>\n",
       "      <th>exact_match</th>\n",
       "      <th>fuzzy_score</th>\n",
       "      <th>sim_to_correct</th>\n",
       "      <th>sim_to_support</th>\n",
       "      <th>correct_beats_distractors</th>\n",
       "      <th>source_docs</th>\n",
       "      <th>filtered_docs</th>\n",
       "    </tr>\n",
       "  </thead>\n",
       "  <tbody>\n",
       "    <tr>\n",
       "      <th>0</th>\n",
       "      <td>What type of organism is commonly used in prep...</td>\n",
       "      <td>-------------------- -------- ---------- -----...</td>\n",
       "      <td>0</td>\n",
       "      <td>45</td>\n",
       "      <td>0.294</td>\n",
       "      <td>0.214</td>\n",
       "      <td>1</td>\n",
       "      <td>[]</td>\n",
       "      <td>[]</td>\n",
       "    </tr>\n",
       "    <tr>\n",
       "      <th>1</th>\n",
       "      <td>What phenomenon makes global winds blow northe...</td>\n",
       "      <td>(t)he greatest hurricane of all times would ha...</td>\n",
       "      <td>0</td>\n",
       "      <td>60</td>\n",
       "      <td>0.101</td>\n",
       "      <td>0.194</td>\n",
       "      <td>0</td>\n",
       "      <td>[]</td>\n",
       "      <td>[]</td>\n",
       "    </tr>\n",
       "    <tr>\n",
       "      <th>2</th>\n",
       "      <td>Changes from a less-ordered state to a more-or...</td>\n",
       "      <td>you can only switch between different states w...</td>\n",
       "      <td>0</td>\n",
       "      <td>50</td>\n",
       "      <td>0.006</td>\n",
       "      <td>0.207</td>\n",
       "      <td>0</td>\n",
       "      <td>[]</td>\n",
       "      <td>[]</td>\n",
       "    </tr>\n",
       "    <tr>\n",
       "      <th>3</th>\n",
       "      <td>What is the least dangerous radioactive decay?</td>\n",
       "      <td>- there can be less than 0 contamination betwe...</td>\n",
       "      <td>0</td>\n",
       "      <td>36</td>\n",
       "      <td>0.160</td>\n",
       "      <td>0.445</td>\n",
       "      <td>1</td>\n",
       "      <td>[]</td>\n",
       "      <td>[]</td>\n",
       "    </tr>\n",
       "  </tbody>\n",
       "</table>\n",
       "</div>"
      ],
      "text/plain": [
       "                                            question  \\\n",
       "0  What type of organism is commonly used in prep...   \n",
       "1  What phenomenon makes global winds blow northe...   \n",
       "2  Changes from a less-ordered state to a more-or...   \n",
       "3     What is the least dangerous radioactive decay?   \n",
       "\n",
       "                                    chatbot_response  exact_match  \\\n",
       "0  -------------------- -------- ---------- -----...            0   \n",
       "1  (t)he greatest hurricane of all times would ha...            0   \n",
       "2  you can only switch between different states w...            0   \n",
       "3  - there can be less than 0 contamination betwe...            0   \n",
       "\n",
       "   fuzzy_score  sim_to_correct  sim_to_support  correct_beats_distractors  \\\n",
       "0           45           0.294           0.214                          1   \n",
       "1           60           0.101           0.194                          0   \n",
       "2           50           0.006           0.207                          0   \n",
       "3           36           0.160           0.445                          1   \n",
       "\n",
       "  source_docs filtered_docs  \n",
       "0          []            []  \n",
       "1          []            []  \n",
       "2          []            []  \n",
       "3          []            []  "
      ]
     },
     "execution_count": 17,
     "metadata": {},
     "output_type": "execute_result"
    }
   ],
   "source": [
    "if not os.path.exists(\"evaluation\"):\n",
    "    os.makedirs(\"evaluation\")\n",
    "results_df.to_csv(f\"evaluation/{title}.csv\", index=False)\n",
    "results_df"
   ]
  },
  {
   "cell_type": "code",
   "execution_count": null,
   "id": "26167e5b",
   "metadata": {},
   "outputs": [],
   "source": []
  }
 ],
 "metadata": {
  "kernelspec": {
   "display_name": "Python 3",
   "language": "python",
   "name": "python3"
  },
  "language_info": {
   "codemirror_mode": {
    "name": "ipython",
    "version": 3
   },
   "file_extension": ".py",
   "mimetype": "text/x-python",
   "name": "python",
   "nbconvert_exporter": "python",
   "pygments_lexer": "ipython3",
   "version": "3.10.12"
  }
 },
 "nbformat": 4,
 "nbformat_minor": 5
}
