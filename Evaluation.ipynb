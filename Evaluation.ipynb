{
 "cells": [
  {
   "cell_type": "code",
   "execution_count": 3,
   "id": "ce818788",
   "metadata": {},
   "outputs": [
    {
     "data": {
      "text/html": [
       "<div>\n",
       "<style scoped>\n",
       "    .dataframe tbody tr th:only-of-type {\n",
       "        vertical-align: middle;\n",
       "    }\n",
       "\n",
       "    .dataframe tbody tr th {\n",
       "        vertical-align: top;\n",
       "    }\n",
       "\n",
       "    .dataframe thead th {\n",
       "        text-align: right;\n",
       "    }\n",
       "</style>\n",
       "<table border=\"1\" class=\"dataframe\">\n",
       "  <thead>\n",
       "    <tr style=\"text-align: right;\">\n",
       "      <th></th>\n",
       "      <th>question</th>\n",
       "      <th>distractor3</th>\n",
       "      <th>distractor1</th>\n",
       "      <th>distractor2</th>\n",
       "      <th>correct_answer</th>\n",
       "      <th>support</th>\n",
       "    </tr>\n",
       "  </thead>\n",
       "  <tbody>\n",
       "    <tr>\n",
       "      <th>0</th>\n",
       "      <td>What type of organism is commonly used in prep...</td>\n",
       "      <td>viruses</td>\n",
       "      <td>protozoa</td>\n",
       "      <td>gymnosperms</td>\n",
       "      <td>mesophilic organisms</td>\n",
       "      <td>Mesophiles grow best in moderate temperature, ...</td>\n",
       "    </tr>\n",
       "    <tr>\n",
       "      <th>1</th>\n",
       "      <td>What phenomenon makes global winds blow northe...</td>\n",
       "      <td>tropical effect</td>\n",
       "      <td>muon effect</td>\n",
       "      <td>centrifugal effect</td>\n",
       "      <td>coriolis effect</td>\n",
       "      <td>Without Coriolis Effect the global winds would...</td>\n",
       "    </tr>\n",
       "    <tr>\n",
       "      <th>2</th>\n",
       "      <td>Changes from a less-ordered state to a more-or...</td>\n",
       "      <td>endothermic</td>\n",
       "      <td>unbalanced</td>\n",
       "      <td>reactive</td>\n",
       "      <td>exothermic</td>\n",
       "      <td>Summary Changes of state are examples of phase...</td>\n",
       "    </tr>\n",
       "    <tr>\n",
       "      <th>3</th>\n",
       "      <td>What is the least dangerous radioactive decay?</td>\n",
       "      <td>zeta decay</td>\n",
       "      <td>beta decay</td>\n",
       "      <td>gamma decay</td>\n",
       "      <td>alpha decay</td>\n",
       "      <td>All radioactive decay is dangerous to living t...</td>\n",
       "    </tr>\n",
       "    <tr>\n",
       "      <th>4</th>\n",
       "      <td>Kilauea in hawaii is the world’s most continuo...</td>\n",
       "      <td>magma</td>\n",
       "      <td>greenhouse gases</td>\n",
       "      <td>carbon and smog</td>\n",
       "      <td>smoke and ash</td>\n",
       "      <td>Example 3.5 Calculating Projectile Motion: Hot...</td>\n",
       "    </tr>\n",
       "    <tr>\n",
       "      <th>...</th>\n",
       "      <td>...</td>\n",
       "      <td>...</td>\n",
       "      <td>...</td>\n",
       "      <td>...</td>\n",
       "      <td>...</td>\n",
       "      <td>...</td>\n",
       "    </tr>\n",
       "    <tr>\n",
       "      <th>11674</th>\n",
       "      <td>The enzyme pepsin plays an important role in t...</td>\n",
       "      <td>lipids</td>\n",
       "      <td>protons</td>\n",
       "      <td>proteins</td>\n",
       "      <td>peptides</td>\n",
       "      <td>Protein A large part of protein digestion take...</td>\n",
       "    </tr>\n",
       "    <tr>\n",
       "      <th>11675</th>\n",
       "      <td>What remains a constant of radioactive substan...</td>\n",
       "      <td>acidity</td>\n",
       "      <td>temperature</td>\n",
       "      <td>volatility</td>\n",
       "      <td>rate of decay</td>\n",
       "      <td>The rate of decay of a radioactive substance i...</td>\n",
       "    </tr>\n",
       "    <tr>\n",
       "      <th>11676</th>\n",
       "      <td>Terrestrial ecosystems, also known for their d...</td>\n",
       "      <td>substrates</td>\n",
       "      <td>bisomes</td>\n",
       "      <td>monomes</td>\n",
       "      <td>biomes</td>\n",
       "      <td>Terrestrial ecosystems, also known for their d...</td>\n",
       "    </tr>\n",
       "    <tr>\n",
       "      <th>11677</th>\n",
       "      <td>High explosives create shock waves that exceed...</td>\n",
       "      <td>turbulence</td>\n",
       "      <td>light speed</td>\n",
       "      <td>ion speed</td>\n",
       "      <td>supersonic</td>\n",
       "      <td>The modern day formulation of gun powder is ca...</td>\n",
       "    </tr>\n",
       "    <tr>\n",
       "      <th>11678</th>\n",
       "      <td>What do you call a structure composed of two o...</td>\n",
       "      <td>system</td>\n",
       "      <td>cell</td>\n",
       "      <td>marrow</td>\n",
       "      <td>organ</td>\n",
       "      <td>An organ is a structure composed of two or mor...</td>\n",
       "    </tr>\n",
       "  </tbody>\n",
       "</table>\n",
       "<p>11679 rows × 6 columns</p>\n",
       "</div>"
      ],
      "text/plain": [
       "                                                question      distractor3  \\\n",
       "0      What type of organism is commonly used in prep...          viruses   \n",
       "1      What phenomenon makes global winds blow northe...  tropical effect   \n",
       "2      Changes from a less-ordered state to a more-or...      endothermic   \n",
       "3         What is the least dangerous radioactive decay?       zeta decay   \n",
       "4      Kilauea in hawaii is the world’s most continuo...            magma   \n",
       "...                                                  ...              ...   \n",
       "11674  The enzyme pepsin plays an important role in t...           lipids   \n",
       "11675  What remains a constant of radioactive substan...          acidity   \n",
       "11676  Terrestrial ecosystems, also known for their d...       substrates   \n",
       "11677  High explosives create shock waves that exceed...       turbulence   \n",
       "11678  What do you call a structure composed of two o...           system   \n",
       "\n",
       "            distractor1         distractor2        correct_answer  \\\n",
       "0              protozoa         gymnosperms  mesophilic organisms   \n",
       "1           muon effect  centrifugal effect       coriolis effect   \n",
       "2            unbalanced            reactive            exothermic   \n",
       "3            beta decay         gamma decay           alpha decay   \n",
       "4      greenhouse gases     carbon and smog         smoke and ash   \n",
       "...                 ...                 ...                   ...   \n",
       "11674           protons            proteins              peptides   \n",
       "11675       temperature          volatility         rate of decay   \n",
       "11676           bisomes             monomes                biomes   \n",
       "11677       light speed           ion speed            supersonic   \n",
       "11678              cell              marrow                 organ   \n",
       "\n",
       "                                                 support  \n",
       "0      Mesophiles grow best in moderate temperature, ...  \n",
       "1      Without Coriolis Effect the global winds would...  \n",
       "2      Summary Changes of state are examples of phase...  \n",
       "3      All radioactive decay is dangerous to living t...  \n",
       "4      Example 3.5 Calculating Projectile Motion: Hot...  \n",
       "...                                                  ...  \n",
       "11674  Protein A large part of protein digestion take...  \n",
       "11675  The rate of decay of a radioactive substance i...  \n",
       "11676  Terrestrial ecosystems, also known for their d...  \n",
       "11677  The modern day formulation of gun powder is ca...  \n",
       "11678  An organ is a structure composed of two or mor...  \n",
       "\n",
       "[11679 rows x 6 columns]"
      ]
     },
     "execution_count": 3,
     "metadata": {},
     "output_type": "execute_result"
    }
   ],
   "source": [
    "import pandas as pd\n",
    "\n",
    "splits = {'train': 'data/train-00000-of-00001.parquet', 'validation': 'data/validation-00000-of-00001.parquet', 'test': 'data/test-00000-of-00001.parquet'}\n",
    "df = pd.read_parquet(\"hf://datasets/allenai/sciq/\" + splits[\"train\"])\n",
    "df"
   ]
  },
  {
   "cell_type": "code",
   "execution_count": 16,
   "id": "10dbcb53",
   "metadata": {},
   "outputs": [
    {
     "data": {
      "text/plain": [
       "question          What type of organism is commonly used in prep...\n",
       "distractor3                                                 viruses\n",
       "distractor1                                                protozoa\n",
       "distractor2                                             gymnosperms\n",
       "correct_answer                                 mesophilic organisms\n",
       "support           Mesophiles grow best in moderate temperature, ...\n",
       "Name: 0, dtype: object"
      ]
     },
     "execution_count": 16,
     "metadata": {},
     "output_type": "execute_result"
    }
   ],
   "source": [
    "df.loc[0]"
   ]
  },
  {
   "cell_type": "code",
   "execution_count": 9,
   "id": "4b03d309",
   "metadata": {},
   "outputs": [],
   "source": [
    "import torch\n",
    "import os\n",
    "\n",
    "from sentence_transformers import CrossEncoder\n",
    "from src.chain_initialisation import init_chain\n",
    "from src.embedding_management import init_embeddings, add_embeddings_from_files\n",
    "from src.model_initialisation import init_model\n",
    "from src.pipeline_initialisation import init_pipeline\n",
    "from src.retriever_initialisation import init_retriever\n",
    "from src.dynamic_doc_retrieval import download_documents, initialise_keyword_model, generate_query_from_question"
   ]
  },
  {
   "cell_type": "code",
   "execution_count": 8,
   "id": "4d9122fe",
   "metadata": {},
   "outputs": [
    {
     "name": "stdout",
     "output_type": "stream",
     "text": [
      "Initializing model... CUDA available: False\n"
     ]
    },
    {
     "name": "stderr",
     "output_type": "stream",
     "text": [
      "Device set to use cpu\n",
      "/home/henri/ul-fri-nlp-course-project-2024-2025-drop-table-teams/src/embedding_management.py:17: LangChainDeprecationWarning: The class `HuggingFaceEmbeddings` was deprecated in LangChain 0.2.2 and will be removed in 1.0. An updated version of the class exists in the :class:`~langchain-huggingface package and should be used instead. To use it run `pip install -U :class:`~langchain-huggingface` and import as `from :class:`~langchain_huggingface import HuggingFaceEmbeddings``.\n",
      "  embedding = HuggingFaceEmbeddings(\n"
     ]
    },
    {
     "name": "stdout",
     "output_type": "stream",
     "text": [
      "Loading FAISS from file - skipping embedding build.\n",
      "Vectorstore loaded successfully.\n",
      "Retriever initialized with k=2 and similarity threshold=0.8\n"
     ]
    },
    {
     "data": {
      "application/vnd.jupyter.widget-view+json": {
       "model_id": "d09d1b96dc3346cc922903ed33d51706",
       "version_major": 2,
       "version_minor": 0
      },
      "text/plain": [
       "config.json:   0%|          | 0.00/794 [00:00<?, ?B/s]"
      ]
     },
     "metadata": {},
     "output_type": "display_data"
    },
    {
     "data": {
      "application/vnd.jupyter.widget-view+json": {
       "model_id": "d986acdf3d7a4721bd2c133ba978ceb5",
       "version_major": 2,
       "version_minor": 0
      },
      "text/plain": [
       "model.safetensors:   0%|          | 0.00/90.9M [00:00<?, ?B/s]"
      ]
     },
     "metadata": {},
     "output_type": "display_data"
    },
    {
     "data": {
      "application/vnd.jupyter.widget-view+json": {
       "model_id": "d5e5572f074b43a9a2fe3305670a2b61",
       "version_major": 2,
       "version_minor": 0
      },
      "text/plain": [
       "tokenizer_config.json:   0%|          | 0.00/1.33k [00:00<?, ?B/s]"
      ]
     },
     "metadata": {},
     "output_type": "display_data"
    },
    {
     "data": {
      "application/vnd.jupyter.widget-view+json": {
       "model_id": "a50aca64f37948dc95ffa24290e7e08f",
       "version_major": 2,
       "version_minor": 0
      },
      "text/plain": [
       "vocab.txt:   0%|          | 0.00/232k [00:00<?, ?B/s]"
      ]
     },
     "metadata": {},
     "output_type": "display_data"
    },
    {
     "data": {
      "application/vnd.jupyter.widget-view+json": {
       "model_id": "bf072d2421b448e2ab3e6c4c0a314156",
       "version_major": 2,
       "version_minor": 0
      },
      "text/plain": [
       "tokenizer.json:   0%|          | 0.00/711k [00:00<?, ?B/s]"
      ]
     },
     "metadata": {},
     "output_type": "display_data"
    },
    {
     "data": {
      "application/vnd.jupyter.widget-view+json": {
       "model_id": "cec92cadd12543eba49d1b39a5ddd07f",
       "version_major": 2,
       "version_minor": 0
      },
      "text/plain": [
       "special_tokens_map.json:   0%|          | 0.00/132 [00:00<?, ?B/s]"
      ]
     },
     "metadata": {},
     "output_type": "display_data"
    },
    {
     "data": {
      "application/vnd.jupyter.widget-view+json": {
       "model_id": "ccb8b1c423cb4f8ca9f4ec5e5a18372c",
       "version_major": 2,
       "version_minor": 0
      },
      "text/plain": [
       "README.md:   0%|          | 0.00/3.66k [00:00<?, ?B/s]"
      ]
     },
     "metadata": {},
     "output_type": "display_data"
    },
    {
     "name": "stderr",
     "output_type": "stream",
     "text": [
      "/home/henri/ul-fri-nlp-course-project-2024-2025-drop-table-teams/src/chain_initialisation.py:7: LangChainDeprecationWarning: The class `HuggingFacePipeline` was deprecated in LangChain 0.0.37 and will be removed in 1.0. An updated version of the class exists in the :class:`~langchain-huggingface package and should be used instead. To use it run `pip install -U :class:`~langchain-huggingface` and import as `from :class:`~langchain_huggingface import HuggingFacePipeline``.\n",
      "  llm = HuggingFacePipeline(pipeline=pipeline)\n"
     ]
    },
    {
     "name": "stdout",
     "output_type": "stream",
     "text": [
      "LLM model chain created.\n",
      "Start-up complete.\n"
     ]
    }
   ],
   "source": [
    "cuda_available = torch.cuda.is_available()\n",
    "print(f\"Initializing model... CUDA available: {cuda_available}\")\n",
    "model, model_name = init_model(cuda_available)\n",
    "pipeline = init_pipeline(model=model, model_name=model_name)\n",
    "vectorstore = init_embeddings(cuda_available)\n",
    "retriever = init_retriever(vectorstore)\n",
    "reranker = CrossEncoder(\"cross-encoder/ms-marco-MiniLM-L-6-v2\")\n",
    "chain = init_chain(pipeline=pipeline, retriever=retriever)\n",
    "keyword_model = initialise_keyword_model()\n",
    "print(\"Start-up complete.\")"
   ]
  },
  {
   "cell_type": "code",
   "execution_count": 12,
   "id": "1636c10f",
   "metadata": {},
   "outputs": [
    {
     "name": "stdout",
     "output_type": "stream",
     "text": [
      "dynamic data dir: ./data/dynamic\n"
     ]
    }
   ],
   "source": [
    "BASE_DIR = os.curdir\n",
    "DATA_DIR = os.path.join(BASE_DIR, \"data\")\n",
    "DYNAMIC_DATA_DIR = os.path.join(DATA_DIR, \"dynamic\")\n",
    "print(f\"dynamic data dir: {DYNAMIC_DATA_DIR}\")\n",
    "\n",
    "def ask_question(question, online=True):\n",
    "    if online:\n",
    "        print(\"Obtaining data from scholar...\")\n",
    "        query = generate_query_from_question(keyword_model, question)\n",
    "        num_docs: int = int(os.getenv(\"num_docs\"))\n",
    "        max_tries: int = int(os.getenv(\"max_tries\"))\n",
    "        downloaded_files = download_documents(query, DYNAMIC_DATA_DIR, num_docs, max_tries)\n",
    "        add_embeddings_from_files(vectorstore, downloaded_files)\n",
    "\n",
    "    response = chain.invoke({\n",
    "        \"question\": question,\n",
    "        \"chat_history\": []\n",
    "    })\n",
    "    answer = response[\"answer\"].split(\"### Answer:\")[-1].strip()\n",
    "    source_documents = response[\"source_documents\"]\n",
    "    return answer, source_documents"
   ]
  },
  {
   "cell_type": "code",
   "execution_count": 13,
   "id": "21104b50",
   "metadata": {},
   "outputs": [
    {
     "name": "stderr",
     "output_type": "stream",
     "text": [
      "/home/henri/.local/lib/python3.10/site-packages/langchain_core/vectorstores/base.py:1082: UserWarning: Relevance scores must be between 0 and 1, got [(Document(id='7e08dabe-c118-4506-8c9e-d911c1835182', metadata={'source': '/home/henri/ul-fri-nlp-course-project-2024-2025-drop-table-teams/data/fao780/fao780/docsutf8/t5816e.txt'}, page_content='A list of species produced in the region is given in Table 5.\\n2.3 Production systems and practices in the region\\nA diversity of species is cultured throughout the region in relatively small volumes. Consequently a wide variety of aquaculture practices are used, ranging from intensive and semi-intensive systems for producing salmonids and marine shrimp, to extensive systems for the culture of fish, giant clams, seaweed, and pearl oysters.'), np.float32(-24.619614)), (Document(id='2ee5e358-a0ea-4f13-b6d0-56c34630a209', metadata={'source': '/home/henri/ul-fri-nlp-course-project-2024-2025-drop-table-teams/data/fao780/fao780/docsutf8/x0209e.txt'}, page_content='Picture 5 shows a multiple use kit containing a series of materials for fruit processing. This kit is used for training courses, but it contains all of the elements which, on a larger scale may constitute the basis for the home processing of various fruits and vegetables.\\nPicture 6 shows a cooking system easily installed in sites characterized by more precarious conditions. Some of these systems may be installed indoors using the chimney system shown in picture 7.'), np.float32(-24.849998))]\n",
      "  self.vectorstore.similarity_search_with_relevance_scores(\n",
      "No relevant docs were retrieved using the relevance score threshold 0.19999999999999996\n"
     ]
    },
    {
     "data": {
      "text/plain": [
       "\"The following two animals-- fish (from which milk may also come) and other fishes--- include an invertebrate named Megaptera klassensis although its genus does not exist at present there.(Tasmanian Sea Turtles.) These species live around 70 percent of the ocean basins covering about 65 percent water(Suez Formation Water Source). Aquamarine waters typically contain less than five feet between three degrees south latitude=0 deg C..ocean surface temperature< 30 °C > below sea level range on both ends of the main boundary line during estuaries up to 4° s(-1 ) above 100 yz...[p]atoll ice thickness < 0.5 mm−2; maximum energy needed per unit volume ~ 20 Mg((m*r+8)/4 ); most bodies form into four'submersible' submaploidic marine mounds 2 km² apart including cetaceans plus halos.[i]The vast majority rely upon saltwater derived material after several thousand years [and more significantly provide dietary nutrients]. In some instances their diets consist primarily comprised sugar based meals containing food products called monounsaturated fatty acids rather then refined vegetable juices using bioactive sugars because many polysaccharides retain fat instead. Thus macronutrients generally decrease immediately afterward so this doesn�t prevent them making contributions towards higher nutrient needs later until very late life stages where they could support all important vitamins via glycation enzymes i.'statinase activators.''. This requires only minor changes before those amino-acid chains open along pathways linked directly to substrate biosynthesis normally occurring either naturally among plants, bacteria, osmotic reactions resulting mainly through fermentation due induction by brominated hydrocarbons etc[/k] Or consider how much carbon dioxide can build dams off land thus allowing arable habitat development while producing abundant fresh meat,[ii],[iii]] Anecdotal reports estimate human activities ranging from harvesting produce outside farming areas just 11% & 10%, 1 hr 6 day trips without moving was considered excessive under best assumption here assuming adequate use case scenario #A = 1200 days hovered since summer 2004 Hanahq@gmailusercontent.」\""
      ]
     },
     "execution_count": 13,
     "metadata": {},
     "output_type": "execute_result"
    }
   ],
   "source": [
    "question = df.loc[0][\"question\"]\n",
    "answer, source_docs = ask_question(question, online=False)\n",
    "answer"
   ]
  },
  {
   "cell_type": "code",
   "execution_count": 15,
   "id": "8396cb18",
   "metadata": {},
   "outputs": [],
   "source": [
    "from sentence_transformers import SentenceTransformer, util\n",
    "from fuzzywuzzy import fuzz\n",
    "\n",
    "# Initialize embedding model\n",
    "model = SentenceTransformer('all-MiniLM-L6-v2')"
   ]
  },
  {
   "cell_type": "code",
   "execution_count": 23,
   "id": "c9ad4904",
   "metadata": {},
   "outputs": [],
   "source": [
    "def evaluate_answer(row):\n",
    "    question = row['question']\n",
    "    correct_answer = row['correct_answer']\n",
    "    support = row['support']\n",
    "    distractors = [row['distractor1'], row['distractor2'], row['distractor3']]\n",
    "\n",
    "    # Chatbot answer\n",
    "    response, source_docs = ask_question(question)\n",
    "    response = response.lower()\n",
    "\n",
    "    # Exact match\n",
    "    exact = int(correct_answer.lower() in response)\n",
    "\n",
    "    # Fuzzy match\n",
    "    fuzzy_score = fuzz.partial_ratio(correct_answer.lower(), response)\n",
    "\n",
    "    # Embedding similarity to correct answer\n",
    "    emb_correct = model.encode(correct_answer, convert_to_tensor=True)\n",
    "    emb_response = model.encode(response, convert_to_tensor=True)\n",
    "    sim_correct = util.cos_sim(emb_correct, emb_response).item()\n",
    "\n",
    "    # Embedding similarity to support passage\n",
    "    emb_support = model.encode(support, convert_to_tensor=True)\n",
    "    sim_support = util.cos_sim(emb_support, emb_response).item()\n",
    "\n",
    "    # Compare similarity to distractors\n",
    "    sim_distractors = []\n",
    "    for d in distractors:\n",
    "        emb_distractor = model.encode(d, convert_to_tensor=True)\n",
    "        sim_distractors.append(util.cos_sim(emb_distractor, emb_response).item())\n",
    "    \n",
    "    # Is chatbot closer to correct than to all distractors?\n",
    "    correct_beats_distractors = int(sim_correct > max(sim_distractors))\n",
    "\n",
    "    return {\n",
    "        \"question\": question,\n",
    "        \"chatbot_response\": response,\n",
    "        \"exact_match\": exact,\n",
    "        \"fuzzy_score\": fuzzy_score,\n",
    "        \"sim_to_correct\": round(sim_correct, 3),\n",
    "        \"sim_to_support\": round(sim_support, 3),\n",
    "        \"correct_beats_distractors\": correct_beats_distractors,\n",
    "        \"source_docs\": source_docs\n",
    "    }\n"
   ]
  },
  {
   "cell_type": "code",
   "execution_count": 24,
   "id": "feeebed1",
   "metadata": {},
   "outputs": [
    {
     "data": {
      "text/html": [
       "<div>\n",
       "<style scoped>\n",
       "    .dataframe tbody tr th:only-of-type {\n",
       "        vertical-align: middle;\n",
       "    }\n",
       "\n",
       "    .dataframe tbody tr th {\n",
       "        vertical-align: top;\n",
       "    }\n",
       "\n",
       "    .dataframe thead th {\n",
       "        text-align: right;\n",
       "    }\n",
       "</style>\n",
       "<table border=\"1\" class=\"dataframe\">\n",
       "  <thead>\n",
       "    <tr style=\"text-align: right;\">\n",
       "      <th></th>\n",
       "      <th>question</th>\n",
       "      <th>distractor3</th>\n",
       "      <th>distractor1</th>\n",
       "      <th>distractor2</th>\n",
       "      <th>correct_answer</th>\n",
       "      <th>support</th>\n",
       "    </tr>\n",
       "  </thead>\n",
       "  <tbody>\n",
       "    <tr>\n",
       "      <th>0</th>\n",
       "      <td>What type of organism is commonly used in prep...</td>\n",
       "      <td>viruses</td>\n",
       "      <td>protozoa</td>\n",
       "      <td>gymnosperms</td>\n",
       "      <td>mesophilic organisms</td>\n",
       "      <td>Mesophiles grow best in moderate temperature, ...</td>\n",
       "    </tr>\n",
       "    <tr>\n",
       "      <th>1</th>\n",
       "      <td>What phenomenon makes global winds blow northe...</td>\n",
       "      <td>tropical effect</td>\n",
       "      <td>muon effect</td>\n",
       "      <td>centrifugal effect</td>\n",
       "      <td>coriolis effect</td>\n",
       "      <td>Without Coriolis Effect the global winds would...</td>\n",
       "    </tr>\n",
       "    <tr>\n",
       "      <th>2</th>\n",
       "      <td>Changes from a less-ordered state to a more-or...</td>\n",
       "      <td>endothermic</td>\n",
       "      <td>unbalanced</td>\n",
       "      <td>reactive</td>\n",
       "      <td>exothermic</td>\n",
       "      <td>Summary Changes of state are examples of phase...</td>\n",
       "    </tr>\n",
       "    <tr>\n",
       "      <th>3</th>\n",
       "      <td>What is the least dangerous radioactive decay?</td>\n",
       "      <td>zeta decay</td>\n",
       "      <td>beta decay</td>\n",
       "      <td>gamma decay</td>\n",
       "      <td>alpha decay</td>\n",
       "      <td>All radioactive decay is dangerous to living t...</td>\n",
       "    </tr>\n",
       "  </tbody>\n",
       "</table>\n",
       "</div>"
      ],
      "text/plain": [
       "                                            question      distractor3  \\\n",
       "0  What type of organism is commonly used in prep...          viruses   \n",
       "1  What phenomenon makes global winds blow northe...  tropical effect   \n",
       "2  Changes from a less-ordered state to a more-or...      endothermic   \n",
       "3     What is the least dangerous radioactive decay?       zeta decay   \n",
       "\n",
       "   distractor1         distractor2        correct_answer  \\\n",
       "0     protozoa         gymnosperms  mesophilic organisms   \n",
       "1  muon effect  centrifugal effect       coriolis effect   \n",
       "2   unbalanced            reactive            exothermic   \n",
       "3   beta decay         gamma decay           alpha decay   \n",
       "\n",
       "                                             support  \n",
       "0  Mesophiles grow best in moderate temperature, ...  \n",
       "1  Without Coriolis Effect the global winds would...  \n",
       "2  Summary Changes of state are examples of phase...  \n",
       "3  All radioactive decay is dangerous to living t...  "
      ]
     },
     "execution_count": 24,
     "metadata": {},
     "output_type": "execute_result"
    }
   ],
   "source": [
    "df.loc[:3]"
   ]
  },
  {
   "cell_type": "code",
   "execution_count": 25,
   "id": "fc7feb03",
   "metadata": {},
   "outputs": [
    {
     "name": "stdout",
     "output_type": "stream",
     "text": [
      "Obtaining data from scholar...\n",
      "Querying Google Scholar for: yogurt foods cheese organism preparation\n",
      "\n",
      "Result 1: Potential effects of probiotics in cheese and yogurt production: A review\n",
      "Publication URL: https://analyticalsciencejournals.onlinelibrary.wiley.com/doi/abs/10.1002/elsc.201100122\n",
      "Trying to download PDF from: https://www.academia.edu/download/107457162/elsc.20110012220231117-1-j22l0l.pdf\n"
     ]
    },
    {
     "name": "stderr",
     "output_type": "stream",
     "text": [
      "/usr/lib/python3/dist-packages/urllib3/connectionpool.py:1020: InsecureRequestWarning: Unverified HTTPS request is being made to host 'www.academia.edu'. Adding certificate verification is strongly advised. See: https://urllib3.readthedocs.io/en/latest/advanced-usage.html#ssl-warnings\n",
      "  warnings.warn(\n",
      "/usr/lib/python3/dist-packages/urllib3/connectionpool.py:1020: InsecureRequestWarning: Unverified HTTPS request is being made to host 'www.academia.edu'. Adding certificate verification is strongly advised. See: https://urllib3.readthedocs.io/en/latest/advanced-usage.html#ssl-warnings\n",
      "  warnings.warn(\n"
     ]
    },
    {
     "name": "stdout",
     "output_type": "stream",
     "text": [
      "PDF saved as ./data/dynamic/Potential_effects_of_probiotics_in_cheese_and_yogurt_production_A_review.pdf\n",
      "\n",
      "Result 2: Inhibitory effects of Microgard™ on yogurt and cottage cheese spoilage organisms\n",
      "Publication URL: https://www.sciencedirect.com/science/article/pii/S0022030290787449\n",
      "Trying to download PDF from: https://www.sciencedirect.com/science/article/pii/S0022030290787449/pdf?md5=271e01ddf92d493dc06ad431140c96c9&pid=1-s2.0-S0022030290787449-main.pdf\n"
     ]
    },
    {
     "name": "stderr",
     "output_type": "stream",
     "text": [
      "/usr/lib/python3/dist-packages/urllib3/connectionpool.py:1020: InsecureRequestWarning: Unverified HTTPS request is being made to host 'www.sciencedirect.com'. Adding certificate verification is strongly advised. See: https://urllib3.readthedocs.io/en/latest/advanced-usage.html#ssl-warnings\n",
      "  warnings.warn(\n",
      "\u001b[1m[INFO]\u001b[0m | \u001b[32m2025/05/28 12:59:25\u001b[0m | \u001b[1mChoose scihub url [0]: https://sci-hub.se\u001b[0m\n",
      "\u001b[1m[INFO]\u001b[0m | \u001b[32m2025/05/28 12:59:25\u001b[0m | \u001b[1m<- Request: scihub_url=https://sci-hub.se, source=DoiSource[type=doi, id=www.sciencedirect.com/science/article/pii/S0022030290787449], proxies={'http': 'socks5://127.0.0.1:7890'}\u001b[0m\n"
     ]
    },
    {
     "name": "stdout",
     "output_type": "stream",
     "text": [
      "The eprint URL is not a direct link to a PDF.\n",
      "Downloading Inhibitory effects of Microgard™ on yogurt and cottage cheese spoilage organisms from Sci Hub: https://www.sciencedirect.com/science/article/pii/S0022030290787449\n"
     ]
    },
    {
     "name": "stderr",
     "output_type": "stream",
     "text": [
      "\u001b[1m[INFO]\u001b[0m | \u001b[32m2025/05/28 12:59:25\u001b[0m | \u001b[1m-> Response: status_code=200, content_length=8618\u001b[0m\n",
      "\u001b[1m[INFO]\u001b[0m | \u001b[32m2025/05/28 12:59:25\u001b[0m | \u001b[1m* Extracted information: {'url': 'https://moscow.sci-hub.se/2361/426d37caede6625a46e53ae624bf227e/salih1990.pdf', 'title': 'Inhibitory Effects of Microgard™ on Yogurt and Cottage Cheese Spoilage Organisms. Journal of Dairy Science, 73(4), 887–893'}\u001b[0m\n"
     ]
    },
    {
     "name": "stdout",
     "output_type": "stream",
     "text": [
      "106% [=====================================================] 674289/635678\n"
     ]
    },
    {
     "name": "stderr",
     "output_type": "stream",
     "text": [
      "\u001b[1m[INFO]\u001b[0m | \u001b[32m2025/05/28 12:59:26\u001b[0m | \u001b[1m↓ Successfully download the url to: ./data/dynamic/Inhibitory_effects_of_Microgard_on_yogurt_and_cottage_cheese_spoilage_organisms.pdf\u001b[0m\n"
     ]
    },
    {
     "name": "stdout",
     "output_type": "stream",
     "text": [
      "Successfully downloaded to ./data/dynamic/Inhibitory_effects_of_Microgard_on_yogurt_and_cottage_cheese_spoilage_organisms.pdf\n",
      "\n",
      "Result 3: Yogurt as probiotic carrier food\n",
      "Publication URL: https://www.sciencedirect.com/science/article/pii/S095869460100036X\n",
      "Trying to download PDF from: https://citeseerx.ist.psu.edu/document?repid=rep1&type=pdf&doi=e69eda186ccfed1592ad1ba165c2a319a74b80aa\n"
     ]
    },
    {
     "name": "stderr",
     "output_type": "stream",
     "text": [
      "/usr/lib/python3/dist-packages/urllib3/connectionpool.py:1020: InsecureRequestWarning: Unverified HTTPS request is being made to host 'citeseerx.ist.psu.edu'. Adding certificate verification is strongly advised. See: https://urllib3.readthedocs.io/en/latest/advanced-usage.html#ssl-warnings\n",
      "  warnings.warn(\n",
      "\u001b[1m[INFO]\u001b[0m | \u001b[32m2025/05/28 12:59:27\u001b[0m | \u001b[1mChoose scihub url [0]: https://sci-hub.se\u001b[0m\n",
      "\u001b[1m[INFO]\u001b[0m | \u001b[32m2025/05/28 12:59:27\u001b[0m | \u001b[1m<- Request: scihub_url=https://sci-hub.se, source=DoiSource[type=doi, id=www.sciencedirect.com/science/article/pii/S095869460100036X], proxies={'http': 'socks5://127.0.0.1:7890'}\u001b[0m\n"
     ]
    },
    {
     "name": "stdout",
     "output_type": "stream",
     "text": [
      "The eprint URL is not a direct link to a PDF.\n",
      "Downloading Yogurt as probiotic carrier food from Sci Hub: https://www.sciencedirect.com/science/article/pii/S095869460100036X\n"
     ]
    },
    {
     "name": "stderr",
     "output_type": "stream",
     "text": [
      "\u001b[1m[INFO]\u001b[0m | \u001b[32m2025/05/28 12:59:27\u001b[0m | \u001b[1m-> Response: status_code=200, content_length=8560\u001b[0m\n",
      "\u001b[1m[INFO]\u001b[0m | \u001b[32m2025/05/28 12:59:27\u001b[0m | \u001b[1m* Extracted information: {'url': 'https://dacemirror.sci-hub.se/journal-article/3331c481f54b11019bb46e3bde81efb5/lourens-hattingh2001.pdf', 'title': 'Yogurt as probiotic carrier food. International Dairy Journal, 11(1-2), 1–17'}\u001b[0m\n"
     ]
    },
    {
     "name": "stdout",
     "output_type": "stream",
     "text": [
      "114% [=========================================================] 365314/317878\n"
     ]
    },
    {
     "name": "stderr",
     "output_type": "stream",
     "text": [
      "\u001b[1m[INFO]\u001b[0m | \u001b[32m2025/05/28 12:59:28\u001b[0m | \u001b[1m↓ Successfully download the url to: ./data/dynamic/Yogurt_as_probiotic_carrier_food.pdf\u001b[0m\n"
     ]
    },
    {
     "name": "stdout",
     "output_type": "stream",
     "text": [
      "Successfully downloaded to ./data/dynamic/Yogurt_as_probiotic_carrier_food.pdf\n",
      "Error Failed to open file './data/dynamic/Potential_effects_of_probiotics_in_cheese_and_yogurt_production_A_review.pdf'.\n"
     ]
    },
    {
     "name": "stderr",
     "output_type": "stream",
     "text": [
      "/home/henri/.local/lib/python3.10/site-packages/langchain_core/vectorstores/base.py:1082: UserWarning: Relevance scores must be between 0 and 1, got [(Document(id='8f444c83-58e6-4f42-a652-38cac1d27915', metadata={'source': './data/dynamic/Yogurt_as_probiotic_carrier_food.pdf'}, page_content='sugar, fruit, ﬂavours, colouring, emulsiﬁers, stabilisers,\\nand\\nspeciﬁc\\npure\\ncultures\\nof\\nlactic\\nacid\\nbacteria\\nA. Lourens-Hattingh, B.C. Viljoen / International Dairy Journal 11 (2001) 1–17\\n7\\n(S. thermophilus and L. bulgaricus) to conduct the\\nfermentation process. The basic process of yogurt\\nproduction is outlined in Fig. 3.\\nS. thermophilus and L. bulgaricus exhibit a symbiotic\\nrelationship during the processing of yogurt, with the\\nratio between the species changing constantly (Radke-'), np.float32(-18.569504)), (Document(id='4a79e568-c772-47aa-aa72-df82ef8f3dc0', metadata={'source': './data/dynamic/Yogurt_as_probiotic_carrier_food.pdf'}, page_content='sugar, fruit, ﬂavours, colouring, emulsiﬁers, stabilisers,\\nand\\nspeciﬁc\\npure\\ncultures\\nof\\nlactic\\nacid\\nbacteria\\nA. Lourens-Hattingh, B.C. Viljoen / International Dairy Journal 11 (2001) 1–17\\n7\\n(S. thermophilus and L. bulgaricus) to conduct the\\nfermentation process. The basic process of yogurt\\nproduction is outlined in Fig. 3.\\nS. thermophilus and L. bulgaricus exhibit a symbiotic\\nrelationship during the processing of yogurt, with the\\nratio between the species changing constantly (Radke-'), np.float32(-18.569504))]\n",
      "  self.vectorstore.similarity_search_with_relevance_scores(\n",
      "No relevant docs were retrieved using the relevance score threshold 0.19999999999999996\n"
     ]
    },
    {
     "name": "stdout",
     "output_type": "stream",
     "text": [
      "Vectorstore updated with 229 document splits.\n",
      "Obtaining data from scholar...\n",
      "Querying Google Scholar for: winds hemisphere northern northeast southeast\n",
      "\n",
      "Result 1: A climatology of high‐wind events for the eastern United States\n",
      "Publication URL: http://www.wkuweather.com/publications/Gilliland%20et%20al.%20%5B2019%5D%20A%20climatology%20of%20high-wind%20events%20for%20the%20eastern%20United%20States.pdf\n",
      "Trying to download PDF from: http://www.wkuweather.com/publications/Gilliland%20et%20al.%20%5B2019%5D%20A%20climatology%20of%20high-wind%20events%20for%20the%20eastern%20United%20States.pdf\n",
      "PDF saved as ./data/dynamic/A_climatology_of_highwind_events_for_the_eastern_United_States.pdf\n",
      "\n",
      "Result 2: Surface winds and development of thunderstorms along southwest–northeast oriented mountain chains\n",
      "Publication URL: https://journals.ametsoc.org/view/journals/wefo/14/5/1520-0434_1999_014_0758_swadot_2_0_co_2.xml\n",
      "Trying to download PDF from: https://journals.ametsoc.org/view/journals/wefo/14/5/1520-0434_1999_014_0758_swadot_2_0_co_2.xml\n"
     ]
    },
    {
     "name": "stderr",
     "output_type": "stream",
     "text": [
      "/usr/lib/python3/dist-packages/urllib3/connectionpool.py:1020: InsecureRequestWarning: Unverified HTTPS request is being made to host 'journals.ametsoc.org'. Adding certificate verification is strongly advised. See: https://urllib3.readthedocs.io/en/latest/advanced-usage.html#ssl-warnings\n",
      "  warnings.warn(\n",
      "\u001b[1m[INFO]\u001b[0m | \u001b[32m2025/05/28 13:00:10\u001b[0m | \u001b[1mChoose scihub url [0]: https://sci-hub.se\u001b[0m\n",
      "\u001b[1m[INFO]\u001b[0m | \u001b[32m2025/05/28 13:00:10\u001b[0m | \u001b[1m<- Request: scihub_url=https://sci-hub.se, source=DoiSource[type=doi, id=journals.ametsoc.org/view/journals/wefo/14/5/1520-0434_1999_014_0758_swadot_2_0_co_2.xml], proxies={'http': 'socks5://127.0.0.1:7890'}\u001b[0m\n"
     ]
    },
    {
     "name": "stdout",
     "output_type": "stream",
     "text": [
      "The eprint URL is not a direct link to a PDF.\n",
      "Downloading Surface winds and development of thunderstorms along southwest–northeast oriented mountain chains from Sci Hub: https://journals.ametsoc.org/view/journals/wefo/14/5/1520-0434_1999_014_0758_swadot_2_0_co_2.xml\n"
     ]
    },
    {
     "name": "stderr",
     "output_type": "stream",
     "text": [
      "\u001b[1m[INFO]\u001b[0m | \u001b[32m2025/05/28 13:00:10\u001b[0m | \u001b[1m-> Response: status_code=200, content_length=6278\u001b[0m\n",
      "\u001b[33m\u001b[1m[WARNING]\u001b[0m | \u001b[32m2025/05/28 13:00:10\u001b[0m | \u001b[33m\u001b[1mError occurs, task status: extracting_failed, error: No pdf tag was found in the given content with the selector: #pdf\u001b[0m\n",
      "\u001b[1m[INFO]\u001b[0m | \u001b[32m2025/05/28 13:00:10\u001b[0m | \u001b[1mChoose scihub url [1]: https://sci-hub.ru\u001b[0m\n",
      "\u001b[1m[INFO]\u001b[0m | \u001b[32m2025/05/28 13:00:10\u001b[0m | \u001b[1m<- Request: scihub_url=https://sci-hub.ru, source=DoiSource[type=doi, id=journals.ametsoc.org/view/journals/wefo/14/5/1520-0434_1999_014_0758_swadot_2_0_co_2.xml], proxies={'http': 'socks5://127.0.0.1:7890'}\u001b[0m\n",
      "\u001b[1m[INFO]\u001b[0m | \u001b[32m2025/05/28 13:00:11\u001b[0m | \u001b[1m-> Response: status_code=403, content_length=898\u001b[0m\n",
      "\u001b[33m\u001b[1m[WARNING]\u001b[0m | \u001b[32m2025/05/28 13:00:11\u001b[0m | \u001b[33m\u001b[1mError occurs, task status: crawling_failed, error: Error occurs when crawling source: DoiSource[type=doi, id=journals.ametsoc.org/view/journals/wefo/14/5/1520-0434_1999_014_0758_swadot_2_0_co_2.xml]\u001b[0m\n",
      "\u001b[1m[INFO]\u001b[0m | \u001b[32m2025/05/28 13:00:11\u001b[0m | \u001b[1mChoose scihub url [2]: https://sci-hub.in\u001b[0m\n",
      "\u001b[1m[INFO]\u001b[0m | \u001b[32m2025/05/28 13:00:11\u001b[0m | \u001b[1m<- Request: scihub_url=https://sci-hub.in, source=DoiSource[type=doi, id=journals.ametsoc.org/view/journals/wefo/14/5/1520-0434_1999_014_0758_swadot_2_0_co_2.xml], proxies={'http': 'socks5://127.0.0.1:7890'}\u001b[0m\n",
      "\u001b[1m[INFO]\u001b[0m | \u001b[32m2025/05/28 13:00:12\u001b[0m | \u001b[1m-> Response: status_code=403, content_length=3460\u001b[0m\n",
      "\u001b[33m\u001b[1m[WARNING]\u001b[0m | \u001b[32m2025/05/28 13:00:12\u001b[0m | \u001b[33m\u001b[1mError occurs, task status: crawling_failed, error: Error occurs when crawling source: DoiSource[type=doi, id=journals.ametsoc.org/view/journals/wefo/14/5/1520-0434_1999_014_0758_swadot_2_0_co_2.xml]\u001b[0m\n",
      "\u001b[1m[INFO]\u001b[0m | \u001b[32m2025/05/28 13:00:12\u001b[0m | \u001b[1mChoose scihub url [3]: https://sci-hub.st\u001b[0m\n",
      "\u001b[1m[INFO]\u001b[0m | \u001b[32m2025/05/28 13:00:12\u001b[0m | \u001b[1m<- Request: scihub_url=https://sci-hub.st, source=DoiSource[type=doi, id=journals.ametsoc.org/view/journals/wefo/14/5/1520-0434_1999_014_0758_swadot_2_0_co_2.xml], proxies={'http': 'socks5://127.0.0.1:7890'}\u001b[0m\n",
      "\u001b[1m[INFO]\u001b[0m | \u001b[32m2025/05/28 13:00:12\u001b[0m | \u001b[1m-> Response: status_code=403, content_length=898\u001b[0m\n",
      "\u001b[33m\u001b[1m[WARNING]\u001b[0m | \u001b[32m2025/05/28 13:00:12\u001b[0m | \u001b[33m\u001b[1mError occurs, task status: crawling_failed, error: Error occurs when crawling source: DoiSource[type=doi, id=journals.ametsoc.org/view/journals/wefo/14/5/1520-0434_1999_014_0758_swadot_2_0_co_2.xml]\u001b[0m\n",
      "\u001b[1m[INFO]\u001b[0m | \u001b[32m2025/05/28 13:00:12\u001b[0m | \u001b[1mChoose scihub url [4]: http://sci-hub.st\u001b[0m\n",
      "\u001b[1m[INFO]\u001b[0m | \u001b[32m2025/05/28 13:00:12\u001b[0m | \u001b[1m<- Request: scihub_url=http://sci-hub.st, source=DoiSource[type=doi, id=journals.ametsoc.org/view/journals/wefo/14/5/1520-0434_1999_014_0758_swadot_2_0_co_2.xml], proxies={'http': 'socks5://127.0.0.1:7890'}\u001b[0m\n",
      "\u001b[33m\u001b[1m[WARNING]\u001b[0m | \u001b[32m2025/05/28 13:00:12\u001b[0m | \u001b[33m\u001b[1mError occurs, task status: crawling_failed, error: SOCKSHTTPConnectionPool(host='sci-hub.st', port=80): Max retries exceeded with url: / (Caused by NewConnectionError('<urllib3.contrib.socks.SOCKSConnection object at 0x7fdc81a1bcd0>: Failed to establish a new connection: [Errno 111] Connection refused'))\u001b[0m\n",
      "\u001b[1m[INFO]\u001b[0m | \u001b[32m2025/05/28 13:00:12\u001b[0m | \u001b[1mChoose scihub url [5]: http://sci-hub.se\u001b[0m\n",
      "\u001b[1m[INFO]\u001b[0m | \u001b[32m2025/05/28 13:00:12\u001b[0m | \u001b[1m<- Request: scihub_url=http://sci-hub.se, source=DoiSource[type=doi, id=journals.ametsoc.org/view/journals/wefo/14/5/1520-0434_1999_014_0758_swadot_2_0_co_2.xml], proxies={'http': 'socks5://127.0.0.1:7890'}\u001b[0m\n",
      "\u001b[33m\u001b[1m[WARNING]\u001b[0m | \u001b[32m2025/05/28 13:00:12\u001b[0m | \u001b[33m\u001b[1mError occurs, task status: crawling_failed, error: SOCKSHTTPConnectionPool(host='sci-hub.se', port=80): Max retries exceeded with url: / (Caused by NewConnectionError('<urllib3.contrib.socks.SOCKSConnection object at 0x7fdc819f5330>: Failed to establish a new connection: [Errno 111] Connection refused'))\u001b[0m\n",
      "\u001b[1m[INFO]\u001b[0m | \u001b[32m2025/05/28 13:00:12\u001b[0m | \u001b[1mChoose scihub url [6]: http://sci-hub.in\u001b[0m\n",
      "\u001b[1m[INFO]\u001b[0m | \u001b[32m2025/05/28 13:00:12\u001b[0m | \u001b[1m<- Request: scihub_url=http://sci-hub.in, source=DoiSource[type=doi, id=journals.ametsoc.org/view/journals/wefo/14/5/1520-0434_1999_014_0758_swadot_2_0_co_2.xml], proxies={'http': 'socks5://127.0.0.1:7890'}\u001b[0m\n",
      "\u001b[33m\u001b[1m[WARNING]\u001b[0m | \u001b[32m2025/05/28 13:00:12\u001b[0m | \u001b[33m\u001b[1mError occurs, task status: crawling_failed, error: SOCKSHTTPConnectionPool(host='sci-hub.in', port=80): Max retries exceeded with url: / (Caused by NewConnectionError('<urllib3.contrib.socks.SOCKSConnection object at 0x7fdc819f5150>: Failed to establish a new connection: [Errno 111] Connection refused'))\u001b[0m\n",
      "\u001b[1m[INFO]\u001b[0m | \u001b[32m2025/05/28 13:00:12\u001b[0m | \u001b[1mChoose scihub url [7]: http://sci-hub.ru\u001b[0m\n",
      "\u001b[1m[INFO]\u001b[0m | \u001b[32m2025/05/28 13:00:12\u001b[0m | \u001b[1m<- Request: scihub_url=http://sci-hub.ru, source=DoiSource[type=doi, id=journals.ametsoc.org/view/journals/wefo/14/5/1520-0434_1999_014_0758_swadot_2_0_co_2.xml], proxies={'http': 'socks5://127.0.0.1:7890'}\u001b[0m\n",
      "\u001b[33m\u001b[1m[WARNING]\u001b[0m | \u001b[32m2025/05/28 13:00:12\u001b[0m | \u001b[33m\u001b[1mError occurs, task status: crawling_failed, error: SOCKSHTTPConnectionPool(host='sci-hub.ru', port=80): Max retries exceeded with url: / (Caused by NewConnectionError('<urllib3.contrib.socks.SOCKSConnection object at 0x7fdc819f48b0>: Failed to establish a new connection: [Errno 111] Connection refused'))\u001b[0m\n",
      "\u001b[31m\u001b[1m[ERROR]\u001b[0m | \u001b[32m2025/05/28 13:00:12\u001b[0m | \u001b[31m\u001b[1mFailed to download the paper: https://journals.ametsoc.org/view/journals/wefo/14/5/1520-0434_1999_014_0758_swadot_2_0_co_2.xml. Please try again.\u001b[0m\n",
      "/usr/lib/python3/dist-packages/urllib3/connectionpool.py:1020: InsecureRequestWarning: Unverified HTTPS request is being made to host 'journals.ametsoc.org'. Adding certificate verification is strongly advised. See: https://urllib3.readthedocs.io/en/latest/advanced-usage.html#ssl-warnings\n",
      "  warnings.warn(\n",
      "\u001b[1m[INFO]\u001b[0m | \u001b[32m2025/05/28 13:00:12\u001b[0m | \u001b[1mChoose scihub url [0]: https://sci-hub.se\u001b[0m\n",
      "\u001b[1m[INFO]\u001b[0m | \u001b[32m2025/05/28 13:00:12\u001b[0m | \u001b[1m<- Request: scihub_url=https://sci-hub.se, source=DoiSource[type=doi, id=journals.ametsoc.org/view/journals/mwre/109/2/1520-0493_1981_109_0255_nhar_2_0_co_2.xml], proxies={'http': 'socks5://127.0.0.1:7890'}\u001b[0m\n"
     ]
    },
    {
     "name": "stdout",
     "output_type": "stream",
     "text": [
      "Failed to download Surface winds and development of thunderstorms along southwest–northeast oriented mountain chains via Sci-Hub.\n",
      "\n",
      "Result 3: Northern Hemisphere airstream regions\n",
      "Publication URL: https://journals.ametsoc.org/view/journals/mwre/109/2/1520-0493_1981_109_0255_nhar_2_0_co_2.xml\n",
      "Trying to download PDF from: https://journals.ametsoc.org/view/journals/mwre/109/2/1520-0493_1981_109_0255_nhar_2_0_co_2.pdf\n",
      "The eprint URL is not a direct link to a PDF.\n",
      "Downloading Northern Hemisphere airstream regions from Sci Hub: https://journals.ametsoc.org/view/journals/mwre/109/2/1520-0493_1981_109_0255_nhar_2_0_co_2.xml\n"
     ]
    },
    {
     "name": "stderr",
     "output_type": "stream",
     "text": [
      "\u001b[1m[INFO]\u001b[0m | \u001b[32m2025/05/28 13:00:12\u001b[0m | \u001b[1m-> Response: status_code=200, content_length=6277\u001b[0m\n",
      "\u001b[33m\u001b[1m[WARNING]\u001b[0m | \u001b[32m2025/05/28 13:00:13\u001b[0m | \u001b[33m\u001b[1mError occurs, task status: extracting_failed, error: No pdf tag was found in the given content with the selector: #pdf\u001b[0m\n",
      "\u001b[1m[INFO]\u001b[0m | \u001b[32m2025/05/28 13:00:13\u001b[0m | \u001b[1mChoose scihub url [1]: https://sci-hub.ru\u001b[0m\n",
      "\u001b[1m[INFO]\u001b[0m | \u001b[32m2025/05/28 13:00:13\u001b[0m | \u001b[1m<- Request: scihub_url=https://sci-hub.ru, source=DoiSource[type=doi, id=journals.ametsoc.org/view/journals/mwre/109/2/1520-0493_1981_109_0255_nhar_2_0_co_2.xml], proxies={'http': 'socks5://127.0.0.1:7890'}\u001b[0m\n",
      "\u001b[1m[INFO]\u001b[0m | \u001b[32m2025/05/28 13:00:13\u001b[0m | \u001b[1m-> Response: status_code=403, content_length=898\u001b[0m\n",
      "\u001b[33m\u001b[1m[WARNING]\u001b[0m | \u001b[32m2025/05/28 13:00:13\u001b[0m | \u001b[33m\u001b[1mError occurs, task status: crawling_failed, error: Error occurs when crawling source: DoiSource[type=doi, id=journals.ametsoc.org/view/journals/mwre/109/2/1520-0493_1981_109_0255_nhar_2_0_co_2.xml]\u001b[0m\n",
      "\u001b[1m[INFO]\u001b[0m | \u001b[32m2025/05/28 13:00:13\u001b[0m | \u001b[1mChoose scihub url [2]: https://sci-hub.in\u001b[0m\n",
      "\u001b[1m[INFO]\u001b[0m | \u001b[32m2025/05/28 13:00:13\u001b[0m | \u001b[1m<- Request: scihub_url=https://sci-hub.in, source=DoiSource[type=doi, id=journals.ametsoc.org/view/journals/mwre/109/2/1520-0493_1981_109_0255_nhar_2_0_co_2.xml], proxies={'http': 'socks5://127.0.0.1:7890'}\u001b[0m\n",
      "\u001b[1m[INFO]\u001b[0m | \u001b[32m2025/05/28 13:00:13\u001b[0m | \u001b[1m-> Response: status_code=403, content_length=3460\u001b[0m\n",
      "\u001b[33m\u001b[1m[WARNING]\u001b[0m | \u001b[32m2025/05/28 13:00:13\u001b[0m | \u001b[33m\u001b[1mError occurs, task status: crawling_failed, error: Error occurs when crawling source: DoiSource[type=doi, id=journals.ametsoc.org/view/journals/mwre/109/2/1520-0493_1981_109_0255_nhar_2_0_co_2.xml]\u001b[0m\n",
      "\u001b[1m[INFO]\u001b[0m | \u001b[32m2025/05/28 13:00:13\u001b[0m | \u001b[1mChoose scihub url [3]: https://sci-hub.st\u001b[0m\n",
      "\u001b[1m[INFO]\u001b[0m | \u001b[32m2025/05/28 13:00:13\u001b[0m | \u001b[1m<- Request: scihub_url=https://sci-hub.st, source=DoiSource[type=doi, id=journals.ametsoc.org/view/journals/mwre/109/2/1520-0493_1981_109_0255_nhar_2_0_co_2.xml], proxies={'http': 'socks5://127.0.0.1:7890'}\u001b[0m\n",
      "\u001b[1m[INFO]\u001b[0m | \u001b[32m2025/05/28 13:00:14\u001b[0m | \u001b[1m-> Response: status_code=403, content_length=898\u001b[0m\n",
      "\u001b[33m\u001b[1m[WARNING]\u001b[0m | \u001b[32m2025/05/28 13:00:14\u001b[0m | \u001b[33m\u001b[1mError occurs, task status: crawling_failed, error: Error occurs when crawling source: DoiSource[type=doi, id=journals.ametsoc.org/view/journals/mwre/109/2/1520-0493_1981_109_0255_nhar_2_0_co_2.xml]\u001b[0m\n",
      "\u001b[1m[INFO]\u001b[0m | \u001b[32m2025/05/28 13:00:14\u001b[0m | \u001b[1mChoose scihub url [4]: http://sci-hub.st\u001b[0m\n",
      "\u001b[1m[INFO]\u001b[0m | \u001b[32m2025/05/28 13:00:14\u001b[0m | \u001b[1m<- Request: scihub_url=http://sci-hub.st, source=DoiSource[type=doi, id=journals.ametsoc.org/view/journals/mwre/109/2/1520-0493_1981_109_0255_nhar_2_0_co_2.xml], proxies={'http': 'socks5://127.0.0.1:7890'}\u001b[0m\n",
      "\u001b[33m\u001b[1m[WARNING]\u001b[0m | \u001b[32m2025/05/28 13:00:14\u001b[0m | \u001b[33m\u001b[1mError occurs, task status: crawling_failed, error: SOCKSHTTPConnectionPool(host='sci-hub.st', port=80): Max retries exceeded with url: / (Caused by NewConnectionError('<urllib3.contrib.socks.SOCKSConnection object at 0x7fdc819b5840>: Failed to establish a new connection: [Errno 111] Connection refused'))\u001b[0m\n",
      "\u001b[1m[INFO]\u001b[0m | \u001b[32m2025/05/28 13:00:14\u001b[0m | \u001b[1mChoose scihub url [5]: http://sci-hub.se\u001b[0m\n",
      "\u001b[1m[INFO]\u001b[0m | \u001b[32m2025/05/28 13:00:14\u001b[0m | \u001b[1m<- Request: scihub_url=http://sci-hub.se, source=DoiSource[type=doi, id=journals.ametsoc.org/view/journals/mwre/109/2/1520-0493_1981_109_0255_nhar_2_0_co_2.xml], proxies={'http': 'socks5://127.0.0.1:7890'}\u001b[0m\n",
      "\u001b[33m\u001b[1m[WARNING]\u001b[0m | \u001b[32m2025/05/28 13:00:14\u001b[0m | \u001b[33m\u001b[1mError occurs, task status: crawling_failed, error: SOCKSHTTPConnectionPool(host='sci-hub.se', port=80): Max retries exceeded with url: / (Caused by NewConnectionError('<urllib3.contrib.socks.SOCKSConnection object at 0x7fdc819b64d0>: Failed to establish a new connection: [Errno 111] Connection refused'))\u001b[0m\n",
      "\u001b[1m[INFO]\u001b[0m | \u001b[32m2025/05/28 13:00:14\u001b[0m | \u001b[1mChoose scihub url [6]: http://sci-hub.in\u001b[0m\n",
      "\u001b[1m[INFO]\u001b[0m | \u001b[32m2025/05/28 13:00:14\u001b[0m | \u001b[1m<- Request: scihub_url=http://sci-hub.in, source=DoiSource[type=doi, id=journals.ametsoc.org/view/journals/mwre/109/2/1520-0493_1981_109_0255_nhar_2_0_co_2.xml], proxies={'http': 'socks5://127.0.0.1:7890'}\u001b[0m\n",
      "\u001b[33m\u001b[1m[WARNING]\u001b[0m | \u001b[32m2025/05/28 13:00:14\u001b[0m | \u001b[33m\u001b[1mError occurs, task status: crawling_failed, error: SOCKSHTTPConnectionPool(host='sci-hub.in', port=80): Max retries exceeded with url: / (Caused by NewConnectionError('<urllib3.contrib.socks.SOCKSConnection object at 0x7fdc819b6c20>: Failed to establish a new connection: [Errno 111] Connection refused'))\u001b[0m\n",
      "\u001b[1m[INFO]\u001b[0m | \u001b[32m2025/05/28 13:00:14\u001b[0m | \u001b[1mChoose scihub url [7]: http://sci-hub.ru\u001b[0m\n",
      "\u001b[1m[INFO]\u001b[0m | \u001b[32m2025/05/28 13:00:14\u001b[0m | \u001b[1m<- Request: scihub_url=http://sci-hub.ru, source=DoiSource[type=doi, id=journals.ametsoc.org/view/journals/mwre/109/2/1520-0493_1981_109_0255_nhar_2_0_co_2.xml], proxies={'http': 'socks5://127.0.0.1:7890'}\u001b[0m\n",
      "\u001b[33m\u001b[1m[WARNING]\u001b[0m | \u001b[32m2025/05/28 13:00:14\u001b[0m | \u001b[33m\u001b[1mError occurs, task status: crawling_failed, error: SOCKSHTTPConnectionPool(host='sci-hub.ru', port=80): Max retries exceeded with url: / (Caused by NewConnectionError('<urllib3.contrib.socks.SOCKSConnection object at 0x7fdc819b7df0>: Failed to establish a new connection: [Errno 111] Connection refused'))\u001b[0m\n",
      "\u001b[31m\u001b[1m[ERROR]\u001b[0m | \u001b[32m2025/05/28 13:00:14\u001b[0m | \u001b[31m\u001b[1mFailed to download the paper: https://journals.ametsoc.org/view/journals/mwre/109/2/1520-0493_1981_109_0255_nhar_2_0_co_2.xml. Please try again.\u001b[0m\n"
     ]
    },
    {
     "name": "stdout",
     "output_type": "stream",
     "text": [
      "Failed to download Northern Hemisphere airstream regions via Sci-Hub.\n",
      "\n",
      "Result 4: Effects of Northern Hemisphere Annular Mode on terrestrial near-surface wind speed over eastern China from 1979 to 2017\n",
      "Publication URL: https://www.sciencedirect.com/science/article/pii/S1674927822001125\n",
      "Trying to download PDF from: https://www.sciencedirect.com/science/article/pii/S1674927822001125\n"
     ]
    },
    {
     "name": "stderr",
     "output_type": "stream",
     "text": [
      "/usr/lib/python3/dist-packages/urllib3/connectionpool.py:1020: InsecureRequestWarning: Unverified HTTPS request is being made to host 'www.sciencedirect.com'. Adding certificate verification is strongly advised. See: https://urllib3.readthedocs.io/en/latest/advanced-usage.html#ssl-warnings\n",
      "  warnings.warn(\n",
      "\u001b[1m[INFO]\u001b[0m | \u001b[32m2025/05/28 13:00:14\u001b[0m | \u001b[1mChoose scihub url [0]: https://sci-hub.se\u001b[0m\n",
      "\u001b[1m[INFO]\u001b[0m | \u001b[32m2025/05/28 13:00:14\u001b[0m | \u001b[1m<- Request: scihub_url=https://sci-hub.se, source=DoiSource[type=doi, id=www.sciencedirect.com/science/article/pii/S1674927822001125], proxies={'http': 'socks5://127.0.0.1:7890'}\u001b[0m\n"
     ]
    },
    {
     "name": "stdout",
     "output_type": "stream",
     "text": [
      "The eprint URL is not a direct link to a PDF.\n",
      "Downloading Effects of Northern Hemisphere Annular Mode on terrestrial near-surface wind speed over eastern China from 1979 to 2017 from Sci Hub: https://www.sciencedirect.com/science/article/pii/S1674927822001125\n"
     ]
    },
    {
     "name": "stderr",
     "output_type": "stream",
     "text": [
      "\u001b[1m[INFO]\u001b[0m | \u001b[32m2025/05/28 13:00:15\u001b[0m | \u001b[1m-> Response: status_code=200, content_length=6210\u001b[0m\n",
      "\u001b[33m\u001b[1m[WARNING]\u001b[0m | \u001b[32m2025/05/28 13:00:15\u001b[0m | \u001b[33m\u001b[1mError occurs, task status: extracting_failed, error: No pdf tag was found in the given content with the selector: #pdf\u001b[0m\n",
      "\u001b[1m[INFO]\u001b[0m | \u001b[32m2025/05/28 13:00:15\u001b[0m | \u001b[1mChoose scihub url [1]: https://sci-hub.ru\u001b[0m\n",
      "\u001b[1m[INFO]\u001b[0m | \u001b[32m2025/05/28 13:00:15\u001b[0m | \u001b[1m<- Request: scihub_url=https://sci-hub.ru, source=DoiSource[type=doi, id=www.sciencedirect.com/science/article/pii/S1674927822001125], proxies={'http': 'socks5://127.0.0.1:7890'}\u001b[0m\n",
      "\u001b[1m[INFO]\u001b[0m | \u001b[32m2025/05/28 13:00:16\u001b[0m | \u001b[1m-> Response: status_code=403, content_length=898\u001b[0m\n",
      "\u001b[33m\u001b[1m[WARNING]\u001b[0m | \u001b[32m2025/05/28 13:00:16\u001b[0m | \u001b[33m\u001b[1mError occurs, task status: crawling_failed, error: Error occurs when crawling source: DoiSource[type=doi, id=www.sciencedirect.com/science/article/pii/S1674927822001125]\u001b[0m\n",
      "\u001b[1m[INFO]\u001b[0m | \u001b[32m2025/05/28 13:00:16\u001b[0m | \u001b[1mChoose scihub url [2]: https://sci-hub.in\u001b[0m\n",
      "\u001b[1m[INFO]\u001b[0m | \u001b[32m2025/05/28 13:00:16\u001b[0m | \u001b[1m<- Request: scihub_url=https://sci-hub.in, source=DoiSource[type=doi, id=www.sciencedirect.com/science/article/pii/S1674927822001125], proxies={'http': 'socks5://127.0.0.1:7890'}\u001b[0m\n",
      "\u001b[1m[INFO]\u001b[0m | \u001b[32m2025/05/28 13:00:17\u001b[0m | \u001b[1m-> Response: status_code=403, content_length=3460\u001b[0m\n",
      "\u001b[33m\u001b[1m[WARNING]\u001b[0m | \u001b[32m2025/05/28 13:00:17\u001b[0m | \u001b[33m\u001b[1mError occurs, task status: crawling_failed, error: Error occurs when crawling source: DoiSource[type=doi, id=www.sciencedirect.com/science/article/pii/S1674927822001125]\u001b[0m\n",
      "\u001b[1m[INFO]\u001b[0m | \u001b[32m2025/05/28 13:00:17\u001b[0m | \u001b[1mChoose scihub url [3]: https://sci-hub.st\u001b[0m\n",
      "\u001b[1m[INFO]\u001b[0m | \u001b[32m2025/05/28 13:00:17\u001b[0m | \u001b[1m<- Request: scihub_url=https://sci-hub.st, source=DoiSource[type=doi, id=www.sciencedirect.com/science/article/pii/S1674927822001125], proxies={'http': 'socks5://127.0.0.1:7890'}\u001b[0m\n",
      "\u001b[1m[INFO]\u001b[0m | \u001b[32m2025/05/28 13:00:17\u001b[0m | \u001b[1m-> Response: status_code=403, content_length=898\u001b[0m\n",
      "\u001b[33m\u001b[1m[WARNING]\u001b[0m | \u001b[32m2025/05/28 13:00:17\u001b[0m | \u001b[33m\u001b[1mError occurs, task status: crawling_failed, error: Error occurs when crawling source: DoiSource[type=doi, id=www.sciencedirect.com/science/article/pii/S1674927822001125]\u001b[0m\n",
      "\u001b[1m[INFO]\u001b[0m | \u001b[32m2025/05/28 13:00:17\u001b[0m | \u001b[1mChoose scihub url [4]: http://sci-hub.st\u001b[0m\n",
      "\u001b[1m[INFO]\u001b[0m | \u001b[32m2025/05/28 13:00:17\u001b[0m | \u001b[1m<- Request: scihub_url=http://sci-hub.st, source=DoiSource[type=doi, id=www.sciencedirect.com/science/article/pii/S1674927822001125], proxies={'http': 'socks5://127.0.0.1:7890'}\u001b[0m\n",
      "\u001b[33m\u001b[1m[WARNING]\u001b[0m | \u001b[32m2025/05/28 13:00:17\u001b[0m | \u001b[33m\u001b[1mError occurs, task status: crawling_failed, error: SOCKSHTTPConnectionPool(host='sci-hub.st', port=80): Max retries exceeded with url: / (Caused by NewConnectionError('<urllib3.contrib.socks.SOCKSConnection object at 0x7fdc819a8670>: Failed to establish a new connection: [Errno 111] Connection refused'))\u001b[0m\n",
      "\u001b[1m[INFO]\u001b[0m | \u001b[32m2025/05/28 13:00:17\u001b[0m | \u001b[1mChoose scihub url [5]: http://sci-hub.se\u001b[0m\n",
      "\u001b[1m[INFO]\u001b[0m | \u001b[32m2025/05/28 13:00:17\u001b[0m | \u001b[1m<- Request: scihub_url=http://sci-hub.se, source=DoiSource[type=doi, id=www.sciencedirect.com/science/article/pii/S1674927822001125], proxies={'http': 'socks5://127.0.0.1:7890'}\u001b[0m\n",
      "\u001b[33m\u001b[1m[WARNING]\u001b[0m | \u001b[32m2025/05/28 13:00:17\u001b[0m | \u001b[33m\u001b[1mError occurs, task status: crawling_failed, error: SOCKSHTTPConnectionPool(host='sci-hub.se', port=80): Max retries exceeded with url: / (Caused by NewConnectionError('<urllib3.contrib.socks.SOCKSConnection object at 0x7fdc819a8520>: Failed to establish a new connection: [Errno 111] Connection refused'))\u001b[0m\n",
      "\u001b[1m[INFO]\u001b[0m | \u001b[32m2025/05/28 13:00:17\u001b[0m | \u001b[1mChoose scihub url [6]: http://sci-hub.in\u001b[0m\n",
      "\u001b[1m[INFO]\u001b[0m | \u001b[32m2025/05/28 13:00:17\u001b[0m | \u001b[1m<- Request: scihub_url=http://sci-hub.in, source=DoiSource[type=doi, id=www.sciencedirect.com/science/article/pii/S1674927822001125], proxies={'http': 'socks5://127.0.0.1:7890'}\u001b[0m\n",
      "\u001b[33m\u001b[1m[WARNING]\u001b[0m | \u001b[32m2025/05/28 13:00:17\u001b[0m | \u001b[33m\u001b[1mError occurs, task status: crawling_failed, error: SOCKSHTTPConnectionPool(host='sci-hub.in', port=80): Max retries exceeded with url: / (Caused by NewConnectionError('<urllib3.contrib.socks.SOCKSConnection object at 0x7fdc81a1a4d0>: Failed to establish a new connection: [Errno 111] Connection refused'))\u001b[0m\n",
      "\u001b[1m[INFO]\u001b[0m | \u001b[32m2025/05/28 13:00:17\u001b[0m | \u001b[1mChoose scihub url [7]: http://sci-hub.ru\u001b[0m\n",
      "\u001b[1m[INFO]\u001b[0m | \u001b[32m2025/05/28 13:00:17\u001b[0m | \u001b[1m<- Request: scihub_url=http://sci-hub.ru, source=DoiSource[type=doi, id=www.sciencedirect.com/science/article/pii/S1674927822001125], proxies={'http': 'socks5://127.0.0.1:7890'}\u001b[0m\n",
      "\u001b[33m\u001b[1m[WARNING]\u001b[0m | \u001b[32m2025/05/28 13:00:17\u001b[0m | \u001b[33m\u001b[1mError occurs, task status: crawling_failed, error: SOCKSHTTPConnectionPool(host='sci-hub.ru', port=80): Max retries exceeded with url: / (Caused by NewConnectionError('<urllib3.contrib.socks.SOCKSConnection object at 0x7fdc819b56f0>: Failed to establish a new connection: [Errno 111] Connection refused'))\u001b[0m\n",
      "\u001b[31m\u001b[1m[ERROR]\u001b[0m | \u001b[32m2025/05/28 13:00:17\u001b[0m | \u001b[31m\u001b[1mFailed to download the paper: https://www.sciencedirect.com/science/article/pii/S1674927822001125. Please try again.\u001b[0m\n",
      "/usr/lib/python3/dist-packages/urllib3/connectionpool.py:1020: InsecureRequestWarning: Unverified HTTPS request is being made to host 'journals.ametsoc.org'. Adding certificate verification is strongly advised. See: https://urllib3.readthedocs.io/en/latest/advanced-usage.html#ssl-warnings\n",
      "  warnings.warn(\n",
      "\u001b[1m[INFO]\u001b[0m | \u001b[32m2025/05/28 13:00:17\u001b[0m | \u001b[1mChoose scihub url [0]: https://sci-hub.se\u001b[0m\n",
      "\u001b[1m[INFO]\u001b[0m | \u001b[32m2025/05/28 13:00:17\u001b[0m | \u001b[1m<- Request: scihub_url=https://sci-hub.se, source=DoiSource[type=doi, id=journals.ametsoc.org/view/journals/mwre/130/9/1520-0493_2002_130_2188_ecdits_2.0.co_2.xml], proxies={'http': 'socks5://127.0.0.1:7890'}\u001b[0m\n"
     ]
    },
    {
     "name": "stdout",
     "output_type": "stream",
     "text": [
      "Failed to download Effects of Northern Hemisphere Annular Mode on terrestrial near-surface wind speed over eastern China from 1979 to 2017 via Sci-Hub.\n",
      "\n",
      "Result 5: Explosive cyclone development in the Southern Hemisphere and a comparison with Northern Hemisphere events\n",
      "Publication URL: https://journals.ametsoc.org/view/journals/mwre/130/9/1520-0493_2002_130_2188_ecdits_2.0.co_2.xml\n",
      "Trying to download PDF from: https://journals.ametsoc.org/view/journals/mwre/130/9/1520-0493_2002_130_2188_ecdits_2.0.co_2.pdf\n",
      "The eprint URL is not a direct link to a PDF.\n",
      "Downloading Explosive cyclone development in the Southern Hemisphere and a comparison with Northern Hemisphere events from Sci Hub: https://journals.ametsoc.org/view/journals/mwre/130/9/1520-0493_2002_130_2188_ecdits_2.0.co_2.xml\n"
     ]
    },
    {
     "name": "stderr",
     "output_type": "stream",
     "text": [
      "\u001b[1m[INFO]\u001b[0m | \u001b[32m2025/05/28 13:00:18\u001b[0m | \u001b[1m-> Response: status_code=200, content_length=6279\u001b[0m\n",
      "\u001b[33m\u001b[1m[WARNING]\u001b[0m | \u001b[32m2025/05/28 13:00:18\u001b[0m | \u001b[33m\u001b[1mError occurs, task status: extracting_failed, error: No pdf tag was found in the given content with the selector: #pdf\u001b[0m\n",
      "\u001b[1m[INFO]\u001b[0m | \u001b[32m2025/05/28 13:00:18\u001b[0m | \u001b[1mChoose scihub url [1]: https://sci-hub.ru\u001b[0m\n",
      "\u001b[1m[INFO]\u001b[0m | \u001b[32m2025/05/28 13:00:18\u001b[0m | \u001b[1m<- Request: scihub_url=https://sci-hub.ru, source=DoiSource[type=doi, id=journals.ametsoc.org/view/journals/mwre/130/9/1520-0493_2002_130_2188_ecdits_2.0.co_2.xml], proxies={'http': 'socks5://127.0.0.1:7890'}\u001b[0m\n",
      "\u001b[1m[INFO]\u001b[0m | \u001b[32m2025/05/28 13:00:18\u001b[0m | \u001b[1m-> Response: status_code=403, content_length=898\u001b[0m\n",
      "\u001b[33m\u001b[1m[WARNING]\u001b[0m | \u001b[32m2025/05/28 13:00:18\u001b[0m | \u001b[33m\u001b[1mError occurs, task status: crawling_failed, error: Error occurs when crawling source: DoiSource[type=doi, id=journals.ametsoc.org/view/journals/mwre/130/9/1520-0493_2002_130_2188_ecdits_2.0.co_2.xml]\u001b[0m\n",
      "\u001b[1m[INFO]\u001b[0m | \u001b[32m2025/05/28 13:00:18\u001b[0m | \u001b[1mChoose scihub url [2]: https://sci-hub.in\u001b[0m\n",
      "\u001b[1m[INFO]\u001b[0m | \u001b[32m2025/05/28 13:00:18\u001b[0m | \u001b[1m<- Request: scihub_url=https://sci-hub.in, source=DoiSource[type=doi, id=journals.ametsoc.org/view/journals/mwre/130/9/1520-0493_2002_130_2188_ecdits_2.0.co_2.xml], proxies={'http': 'socks5://127.0.0.1:7890'}\u001b[0m\n",
      "\u001b[1m[INFO]\u001b[0m | \u001b[32m2025/05/28 13:00:18\u001b[0m | \u001b[1m-> Response: status_code=403, content_length=3460\u001b[0m\n",
      "\u001b[33m\u001b[1m[WARNING]\u001b[0m | \u001b[32m2025/05/28 13:00:18\u001b[0m | \u001b[33m\u001b[1mError occurs, task status: crawling_failed, error: Error occurs when crawling source: DoiSource[type=doi, id=journals.ametsoc.org/view/journals/mwre/130/9/1520-0493_2002_130_2188_ecdits_2.0.co_2.xml]\u001b[0m\n",
      "\u001b[1m[INFO]\u001b[0m | \u001b[32m2025/05/28 13:00:18\u001b[0m | \u001b[1mChoose scihub url [3]: https://sci-hub.st\u001b[0m\n",
      "\u001b[1m[INFO]\u001b[0m | \u001b[32m2025/05/28 13:00:18\u001b[0m | \u001b[1m<- Request: scihub_url=https://sci-hub.st, source=DoiSource[type=doi, id=journals.ametsoc.org/view/journals/mwre/130/9/1520-0493_2002_130_2188_ecdits_2.0.co_2.xml], proxies={'http': 'socks5://127.0.0.1:7890'}\u001b[0m\n",
      "\u001b[1m[INFO]\u001b[0m | \u001b[32m2025/05/28 13:00:19\u001b[0m | \u001b[1m-> Response: status_code=403, content_length=898\u001b[0m\n",
      "\u001b[33m\u001b[1m[WARNING]\u001b[0m | \u001b[32m2025/05/28 13:00:19\u001b[0m | \u001b[33m\u001b[1mError occurs, task status: crawling_failed, error: Error occurs when crawling source: DoiSource[type=doi, id=journals.ametsoc.org/view/journals/mwre/130/9/1520-0493_2002_130_2188_ecdits_2.0.co_2.xml]\u001b[0m\n",
      "\u001b[1m[INFO]\u001b[0m | \u001b[32m2025/05/28 13:00:19\u001b[0m | \u001b[1mChoose scihub url [4]: http://sci-hub.st\u001b[0m\n",
      "\u001b[1m[INFO]\u001b[0m | \u001b[32m2025/05/28 13:00:19\u001b[0m | \u001b[1m<- Request: scihub_url=http://sci-hub.st, source=DoiSource[type=doi, id=journals.ametsoc.org/view/journals/mwre/130/9/1520-0493_2002_130_2188_ecdits_2.0.co_2.xml], proxies={'http': 'socks5://127.0.0.1:7890'}\u001b[0m\n",
      "\u001b[33m\u001b[1m[WARNING]\u001b[0m | \u001b[32m2025/05/28 13:00:19\u001b[0m | \u001b[33m\u001b[1mError occurs, task status: crawling_failed, error: SOCKSHTTPConnectionPool(host='sci-hub.st', port=80): Max retries exceeded with url: / (Caused by NewConnectionError('<urllib3.contrib.socks.SOCKSConnection object at 0x7fdc819236a0>: Failed to establish a new connection: [Errno 111] Connection refused'))\u001b[0m\n",
      "\u001b[1m[INFO]\u001b[0m | \u001b[32m2025/05/28 13:00:19\u001b[0m | \u001b[1mChoose scihub url [5]: http://sci-hub.se\u001b[0m\n",
      "\u001b[1m[INFO]\u001b[0m | \u001b[32m2025/05/28 13:00:19\u001b[0m | \u001b[1m<- Request: scihub_url=http://sci-hub.se, source=DoiSource[type=doi, id=journals.ametsoc.org/view/journals/mwre/130/9/1520-0493_2002_130_2188_ecdits_2.0.co_2.xml], proxies={'http': 'socks5://127.0.0.1:7890'}\u001b[0m\n",
      "\u001b[33m\u001b[1m[WARNING]\u001b[0m | \u001b[32m2025/05/28 13:00:19\u001b[0m | \u001b[33m\u001b[1mError occurs, task status: crawling_failed, error: SOCKSHTTPConnectionPool(host='sci-hub.se', port=80): Max retries exceeded with url: / (Caused by NewConnectionError('<urllib3.contrib.socks.SOCKSConnection object at 0x7fdc81923d30>: Failed to establish a new connection: [Errno 111] Connection refused'))\u001b[0m\n",
      "\u001b[1m[INFO]\u001b[0m | \u001b[32m2025/05/28 13:00:19\u001b[0m | \u001b[1mChoose scihub url [6]: http://sci-hub.in\u001b[0m\n",
      "\u001b[1m[INFO]\u001b[0m | \u001b[32m2025/05/28 13:00:19\u001b[0m | \u001b[1m<- Request: scihub_url=http://sci-hub.in, source=DoiSource[type=doi, id=journals.ametsoc.org/view/journals/mwre/130/9/1520-0493_2002_130_2188_ecdits_2.0.co_2.xml], proxies={'http': 'socks5://127.0.0.1:7890'}\u001b[0m\n",
      "\u001b[33m\u001b[1m[WARNING]\u001b[0m | \u001b[32m2025/05/28 13:00:19\u001b[0m | \u001b[33m\u001b[1mError occurs, task status: crawling_failed, error: SOCKSHTTPConnectionPool(host='sci-hub.in', port=80): Max retries exceeded with url: / (Caused by NewConnectionError('<urllib3.contrib.socks.SOCKSConnection object at 0x7fdc819ac520>: Failed to establish a new connection: [Errno 111] Connection refused'))\u001b[0m\n",
      "\u001b[1m[INFO]\u001b[0m | \u001b[32m2025/05/28 13:00:19\u001b[0m | \u001b[1mChoose scihub url [7]: http://sci-hub.ru\u001b[0m\n",
      "\u001b[1m[INFO]\u001b[0m | \u001b[32m2025/05/28 13:00:19\u001b[0m | \u001b[1m<- Request: scihub_url=http://sci-hub.ru, source=DoiSource[type=doi, id=journals.ametsoc.org/view/journals/mwre/130/9/1520-0493_2002_130_2188_ecdits_2.0.co_2.xml], proxies={'http': 'socks5://127.0.0.1:7890'}\u001b[0m\n",
      "\u001b[33m\u001b[1m[WARNING]\u001b[0m | \u001b[32m2025/05/28 13:00:19\u001b[0m | \u001b[33m\u001b[1mError occurs, task status: crawling_failed, error: SOCKSHTTPConnectionPool(host='sci-hub.ru', port=80): Max retries exceeded with url: / (Caused by NewConnectionError('<urllib3.contrib.socks.SOCKSConnection object at 0x7fdc819ad510>: Failed to establish a new connection: [Errno 111] Connection refused'))\u001b[0m\n",
      "\u001b[31m\u001b[1m[ERROR]\u001b[0m | \u001b[32m2025/05/28 13:00:19\u001b[0m | \u001b[31m\u001b[1mFailed to download the paper: https://journals.ametsoc.org/view/journals/mwre/130/9/1520-0493_2002_130_2188_ecdits_2.0.co_2.xml. Please try again.\u001b[0m\n",
      "\u001b[1m[INFO]\u001b[0m | \u001b[32m2025/05/28 13:00:19\u001b[0m | \u001b[1mChoose scihub url [0]: https://sci-hub.se\u001b[0m\n",
      "\u001b[1m[INFO]\u001b[0m | \u001b[32m2025/05/28 13:00:19\u001b[0m | \u001b[1m<- Request: scihub_url=https://sci-hub.se, source=DoiSource[type=doi, id=www.jstor.org/stable/211475], proxies={'http': 'socks5://127.0.0.1:7890'}\u001b[0m\n"
     ]
    },
    {
     "name": "stdout",
     "output_type": "stream",
     "text": [
      "Failed to download Explosive cyclone development in the Southern Hemisphere and a comparison with Northern Hemisphere events via Sci-Hub.\n",
      "\n",
      "Result 6: Winds and fronts over Southeast Asia\n",
      "Publication URL: https://www.jstor.org/stable/211475\n",
      "Downloading Winds and fronts over Southeast Asia from Sci Hub: https://www.jstor.org/stable/211475\n"
     ]
    },
    {
     "name": "stderr",
     "output_type": "stream",
     "text": [
      "\u001b[1m[INFO]\u001b[0m | \u001b[32m2025/05/28 13:00:19\u001b[0m | \u001b[1m-> Response: status_code=200, content_length=8456\u001b[0m\n",
      "\u001b[1m[INFO]\u001b[0m | \u001b[32m2025/05/28 13:00:19\u001b[0m | \u001b[1m* Extracted information: {'url': 'https://dacemirror.sci-hub.se/journal-article/fe3a9f7a00c47d44ccce252b75e292a9/dobby1945.pdf', 'title': 'Winds and Fronts over Southeast Asia. Geographical Review, 35(2), 204'}\u001b[0m\n",
      "\u001b[1m[INFO]\u001b[0m | \u001b[32m2025/05/28 13:00:21\u001b[0m | \u001b[1m↓ Successfully download the url to: ./data/dynamic/Winds_and_fronts_over_Southeast_Asia.pdf\u001b[0m\n",
      "/usr/lib/python3/dist-packages/urllib3/connectionpool.py:1020: InsecureRequestWarning: Unverified HTTPS request is being made to host 'www.academia.edu'. Adding certificate verification is strongly advised. See: https://urllib3.readthedocs.io/en/latest/advanced-usage.html#ssl-warnings\n",
      "  warnings.warn(\n"
     ]
    },
    {
     "name": "stdout",
     "output_type": "stream",
     "text": [
      "Successfully downloaded to ./data/dynamic/Winds_and_fronts_over_Southeast_Asia.pdf\n",
      "\n",
      "Result 7: Wind directions predicted from global circulation models and wind directions determined from eolian sandstones of the western United States—A comparison\n",
      "Publication URL: https://www.sciencedirect.com/science/article/pii/0037073888900565\n",
      "Trying to download PDF from: https://www.academia.edu/download/81263686/parrish_20and_20peterson_201988.pdf\n"
     ]
    },
    {
     "name": "stderr",
     "output_type": "stream",
     "text": [
      "/usr/lib/python3/dist-packages/urllib3/connectionpool.py:1020: InsecureRequestWarning: Unverified HTTPS request is being made to host 'www.academia.edu'. Adding certificate verification is strongly advised. See: https://urllib3.readthedocs.io/en/latest/advanced-usage.html#ssl-warnings\n",
      "  warnings.warn(\n"
     ]
    },
    {
     "name": "stdout",
     "output_type": "stream",
     "text": [
      "PDF saved as ./data/dynamic/Wind_directions_predicted_from_global_circulation_models_and_wind_directions_determined_from_eolian_sandstones_of_the_western_United_StatesA_comparison.pdf\n",
      "Error Failed to open file './data/dynamic/Wind_directions_predicted_from_global_circulation_models_and_wind_directions_determined_from_eolian_sandstones_of_the_western_United_StatesA_comparison.pdf'.\n"
     ]
    },
    {
     "name": "stderr",
     "output_type": "stream",
     "text": [
      "/home/henri/.local/lib/python3.10/site-packages/langchain_core/vectorstores/base.py:1082: UserWarning: Relevance scores must be between 0 and 1, got [(Document(id='ccc0043b-a6c7-4282-ab6f-b42412ddc6d1', metadata={'source': './data/dynamic/A_climatology_of_highwind_events_for_the_eastern_United_States.pdf'}, page_content='the study region (Figure 12). This directional trend of\\nsustained (gust) winds was still noted when TC-HWEs were\\nexcluded from the analysis, a non-significant (significant)\\nshift in the wind direction towards the south (north) dur-\\ning the 43-year study period. Ulbrich et al. (2009) summa-\\nrized that the track of mid-latitude cyclones under future\\nclimate scenarios was expected to change in the Northern\\nHemisphere. Their analysis identified a decrease in the'), np.float32(-12.303334)), (Document(id='12602fbb-c33f-4e73-869d-2de9a32e05e9', metadata={'source': './data/dynamic/Winds_and_fronts_over_Southeast_Asia.pdf'}, page_content='air from the Pacific is moving toward the Central China coast as easterly \\nwinds with a small southerly component. (2) The Southeast Trades of the Southern Hemi- \\nsphere press northward and consistently reach about 5? S. (3) West of 90go E. the South- \\neast Trades obliterate all signs of the central Indian Ocean doldrums and stream across the \\nequator, beyond which this air mass from the Southern Hemisphere is deviated by rota- \\ntional forces to become southwesterly'), np.float32(-12.922772))]\n",
      "  self.vectorstore.similarity_search_with_relevance_scores(\n",
      "No relevant docs were retrieved using the relevance score threshold 0.19999999999999996\n"
     ]
    },
    {
     "name": "stdout",
     "output_type": "stream",
     "text": [
      "Vectorstore updated with 235 document splits.\n",
      "Obtaining data from scholar...\n",
      "Querying Google Scholar for: liquid solid ordered changes state\n"
     ]
    },
    {
     "name": "stderr",
     "output_type": "stream",
     "text": [
      "\u001b[1m[INFO]\u001b[0m | \u001b[32m2025/05/28 13:00:53\u001b[0m | \u001b[1mChoose scihub url [0]: https://sci-hub.se\u001b[0m\n",
      "\u001b[1m[INFO]\u001b[0m | \u001b[32m2025/05/28 13:00:53\u001b[0m | \u001b[1m<- Request: scihub_url=https://sci-hub.se, source=DoiSource[type=doi, id=www.tandfonline.com/doi/pdf/10.1080/14786448108627066], proxies={'http': 'socks5://127.0.0.1:7890'}\u001b[0m\n"
     ]
    },
    {
     "name": "stdout",
     "output_type": "stream",
     "text": [
      "\n",
      "Result 1: V. Change of state: Solid-liquid\n",
      "Publication URL: https://www.tandfonline.com/doi/pdf/10.1080/14786448108627066\n",
      "Downloading V. Change of state: Solid-liquid from Sci Hub: https://www.tandfonline.com/doi/pdf/10.1080/14786448108627066\n"
     ]
    },
    {
     "name": "stderr",
     "output_type": "stream",
     "text": [
      "\u001b[1m[INFO]\u001b[0m | \u001b[32m2025/05/28 13:00:54\u001b[0m | \u001b[1m-> Response: status_code=200, content_length=8583\u001b[0m\n",
      "\u001b[1m[INFO]\u001b[0m | \u001b[32m2025/05/28 13:00:54\u001b[0m | \u001b[1m* Extracted information: {'url': 'https://moscow.sci-hub.se/2147/31d0b856dbcc85eba1a30404752fbf8b/poynting1881.pdf', 'title': 'V. Change of state  Solid-liquid. The London, Edinburgh, and Dublin Philosophical Magazine and Journal of Science, 12(72), 32–48'}\u001b[0m\n",
      "\u001b[1m[INFO]\u001b[0m | \u001b[32m2025/05/28 13:00:55\u001b[0m | \u001b[1m↓ Successfully download the url to: ./data/dynamic/V._Change_of_state_Solid-liquid.pdf\u001b[0m\n"
     ]
    },
    {
     "name": "stdout",
     "output_type": "stream",
     "text": [
      "Successfully downloaded to ./data/dynamic/V._Change_of_state_Solid-liquid.pdf\n",
      "\n",
      "Result 2: Characteristic ordering in liquid phase-change materials\n",
      "Publication URL: https://www.academia.edu/download/91373956/adma.20070001620220922-1-1rr5bwt.pdf\n",
      "Trying to download PDF from: https://www.academia.edu/download/91373956/adma.20070001620220922-1-1rr5bwt.pdf\n"
     ]
    },
    {
     "name": "stderr",
     "output_type": "stream",
     "text": [
      "/usr/lib/python3/dist-packages/urllib3/connectionpool.py:1020: InsecureRequestWarning: Unverified HTTPS request is being made to host 'www.academia.edu'. Adding certificate verification is strongly advised. See: https://urllib3.readthedocs.io/en/latest/advanced-usage.html#ssl-warnings\n",
      "  warnings.warn(\n",
      "/usr/lib/python3/dist-packages/urllib3/connectionpool.py:1020: InsecureRequestWarning: Unverified HTTPS request is being made to host 'www.academia.edu'. Adding certificate verification is strongly advised. See: https://urllib3.readthedocs.io/en/latest/advanced-usage.html#ssl-warnings\n",
      "  warnings.warn(\n",
      "\u001b[1m[INFO]\u001b[0m | \u001b[32m2025/05/28 13:00:56\u001b[0m | \u001b[1mChoose scihub url [0]: https://sci-hub.se\u001b[0m\n",
      "\u001b[1m[INFO]\u001b[0m | \u001b[32m2025/05/28 13:00:56\u001b[0m | \u001b[1m<- Request: scihub_url=https://sci-hub.se, source=DoiSource[type=doi, id=www.sciencedirect.com/science/article/pii/S0040603110003497], proxies={'http': 'socks5://127.0.0.1:7890'}\u001b[0m\n"
     ]
    },
    {
     "name": "stdout",
     "output_type": "stream",
     "text": [
      "PDF saved as ./data/dynamic/Characteristic_ordering_in_liquid_phase-change_materials.pdf\n",
      "\n",
      "Result 3: The influence of the liquid-to-solid transitions on the changes of macromolecules from disorder to order\n",
      "Publication URL: https://www.sciencedirect.com/science/article/pii/S0040603110003497\n",
      "Downloading The influence of the liquid-to-solid transitions on the changes of macromolecules from disorder to order from Sci Hub: https://www.sciencedirect.com/science/article/pii/S0040603110003497\n"
     ]
    },
    {
     "name": "stderr",
     "output_type": "stream",
     "text": [
      "\u001b[1m[INFO]\u001b[0m | \u001b[32m2025/05/28 13:00:57\u001b[0m | \u001b[1m-> Response: status_code=200, content_length=8604\u001b[0m\n",
      "\u001b[1m[INFO]\u001b[0m | \u001b[32m2025/05/28 13:00:57\u001b[0m | \u001b[1m* Extracted information: {'url': 'https://2024.sci-hub.se/389/020e6f93a91336f842b611c63a9cec61/wunderlich2011.pdf', 'title': 'The influence of the liquid-to-solid transitions on the changes of macromolecules from disorder to order. Thermochimica Acta, 522(1-2), 2–13'}\u001b[0m\n",
      "\u001b[1m[INFO]\u001b[0m | \u001b[32m2025/05/28 13:00:57\u001b[0m | \u001b[1m↓ Successfully download the url to: ./data/dynamic/The_influence_of_the_liquid-to-solid_transitions_on_the_changes_of_macromolecules_from_disorder_to_order.pdf\u001b[0m\n"
     ]
    },
    {
     "name": "stdout",
     "output_type": "stream",
     "text": [
      "Successfully downloaded to ./data/dynamic/The_influence_of_the_liquid-to-solid_transitions_on_the_changes_of_macromolecules_from_disorder_to_order.pdf\n",
      "Error Failed to open file './data/dynamic/Characteristic_ordering_in_liquid_phase-change_materials.pdf'.\n"
     ]
    },
    {
     "name": "stderr",
     "output_type": "stream",
     "text": [
      "/home/henri/.local/lib/python3.10/site-packages/langchain_core/vectorstores/base.py:1082: UserWarning: Relevance scores must be between 0 and 1, got [(Document(id='22eaf7f6-7ef9-4393-90de-8bfed8b0a329', metadata={'source': './data/dynamic/V._Change_of_state_Solid-liquid.pdf'}, page_content='between the two states. \\nOn the ibrmer supposition we should \\ncertainly not have the ordinary change of state, though some- \\nthing of the sort may:occur in the case of Dr. Carnelley\\'s \"hot \\nice ;\" and in the latter we should have the sealing-wax typ% \\nand no signs of this have been observed. \\nSince, then~ change of state is a surface phenomenon, we are \\nled at once to connect it with the escape of molecules which we \\nknow to be always taking place from the surfac% as indicated'), np.float32(-9.167529)), (Document(id='257229e1-f760-417a-b4c1-2fde141892cc', metadata={'source': './data/dynamic/V._Change_of_state_Solid-liquid.pdf'}, page_content='Change of State: Solid-Liquid. \\n33 \\nsupported the theory, and I believe it is now generally aban- \\ndoned. \\nSinee~ in the ice-water form of change of state, fusion only \\ntakes place at the surfac% it seems much more probable that \\nit is an exchange phenomenon analogous to the change which \\ntakes place when water is evaporating~ according to the kinetic \\ntheory. Just as in the case of water-steam, a steady state is \\nreached when the number of molecules escaping from the sur-'), np.float32(-11.917132))]\n",
      "  self.vectorstore.similarity_search_with_relevance_scores(\n",
      "No relevant docs were retrieved using the relevance score threshold 0.19999999999999996\n"
     ]
    },
    {
     "name": "stdout",
     "output_type": "stream",
     "text": [
      "Vectorstore updated with 251 document splits.\n",
      "Obtaining data from scholar...\n",
      "Querying Google Scholar for: radioactive decay dangerous\n",
      "\n",
      "Result 1: Modeling radioactive decay\n",
      "Publication URL: https://www.sciencedirect.com/science/article/pii/S1877042811006252\n",
      "Trying to download PDF from: https://www.sciencedirect.com/science/article/pii/S1877042811006252/pdf?md5=e8dd83318b570489fb7368bdebd1d06d&pid=1-s2.0-S1877042811006252-main.pdf&_valck=1\n"
     ]
    },
    {
     "name": "stderr",
     "output_type": "stream",
     "text": [
      "/usr/lib/python3/dist-packages/urllib3/connectionpool.py:1020: InsecureRequestWarning: Unverified HTTPS request is being made to host 'www.sciencedirect.com'. Adding certificate verification is strongly advised. See: https://urllib3.readthedocs.io/en/latest/advanced-usage.html#ssl-warnings\n",
      "  warnings.warn(\n",
      "\u001b[1m[INFO]\u001b[0m | \u001b[32m2025/05/28 13:01:28\u001b[0m | \u001b[1mChoose scihub url [0]: https://sci-hub.se\u001b[0m\n",
      "\u001b[1m[INFO]\u001b[0m | \u001b[32m2025/05/28 13:01:28\u001b[0m | \u001b[1m<- Request: scihub_url=https://sci-hub.se, source=DoiSource[type=doi, id=www.sciencedirect.com/science/article/pii/S1877042811006252], proxies={'http': 'socks5://127.0.0.1:7890'}\u001b[0m\n"
     ]
    },
    {
     "name": "stdout",
     "output_type": "stream",
     "text": [
      "The eprint URL is not a direct link to a PDF.\n",
      "Downloading Modeling radioactive decay from Sci Hub: https://www.sciencedirect.com/science/article/pii/S1877042811006252\n"
     ]
    },
    {
     "name": "stderr",
     "output_type": "stream",
     "text": [
      "\u001b[1m[INFO]\u001b[0m | \u001b[32m2025/05/28 13:01:29\u001b[0m | \u001b[1m-> Response: status_code=200, content_length=8556\u001b[0m\n",
      "\u001b[1m[INFO]\u001b[0m | \u001b[32m2025/05/28 13:01:29\u001b[0m | \u001b[1m* Extracted information: {'url': 'https://2024.sci-hub.se/1359/514074171b059f71bea6403bf431320f/10.1016@j.sbspro.2011.04.079.pdf', 'title': 'Modeling radioactive decay. Procedia - Social and Behavioral Sciences, 15, 2196–2200'}\u001b[0m\n",
      "\u001b[1m[INFO]\u001b[0m | \u001b[32m2025/05/28 13:01:29\u001b[0m | \u001b[1m↓ Successfully download the url to: ./data/dynamic/Modeling_radioactive_decay.pdf\u001b[0m\n",
      "\u001b[1m[INFO]\u001b[0m | \u001b[32m2025/05/28 13:01:29\u001b[0m | \u001b[1mChoose scihub url [0]: https://sci-hub.se\u001b[0m\n",
      "\u001b[1m[INFO]\u001b[0m | \u001b[32m2025/05/28 13:01:29\u001b[0m | \u001b[1m<- Request: scihub_url=https://sci-hub.se, source=DoiSource[type=doi, id=link.springer.com/chapter/10.1007/978-3-642-20186-8_11], proxies={'http': 'socks5://127.0.0.1:7890'}\u001b[0m\n"
     ]
    },
    {
     "name": "stdout",
     "output_type": "stream",
     "text": [
      "Successfully downloaded to ./data/dynamic/Modeling_radioactive_decay.pdf\n",
      "\n",
      "Result 2: Modes of radioactive decay\n",
      "Publication URL: https://link.springer.com/chapter/10.1007/978-3-642-20186-8_11\n",
      "Downloading Modes of radioactive decay from Sci Hub: https://link.springer.com/chapter/10.1007/978-3-642-20186-8_11\n"
     ]
    },
    {
     "name": "stderr",
     "output_type": "stream",
     "text": [
      "\u001b[1m[INFO]\u001b[0m | \u001b[32m2025/05/28 13:01:30\u001b[0m | \u001b[1m-> Response: status_code=200, content_length=8549\u001b[0m\n",
      "\u001b[1m[INFO]\u001b[0m | \u001b[32m2025/05/28 13:01:30\u001b[0m | \u001b[1m* Extracted information: {'url': 'https://moscow.sci-hub.se/2276/8dd9db168267d8e1dd7378d5d6a9281b/10.1007@978-3-642-20186-811.pdf', 'title': 'Modes of Radioactive Decay. Compendium to Radiation Physics for Medical Physicists, 693–786'}\u001b[0m\n",
      "\u001b[1m[INFO]\u001b[0m | \u001b[32m2025/05/28 13:01:31\u001b[0m | \u001b[1m↓ Successfully download the url to: ./data/dynamic/Modes_of_radioactive_decay.pdf\u001b[0m\n",
      "\u001b[1m[INFO]\u001b[0m | \u001b[32m2025/05/28 13:01:31\u001b[0m | \u001b[1mChoose scihub url [0]: https://sci-hub.se\u001b[0m\n",
      "\u001b[1m[INFO]\u001b[0m | \u001b[32m2025/05/28 13:01:31\u001b[0m | \u001b[1m<- Request: scihub_url=https://sci-hub.se, source=DoiSource[type=doi, id=link.springer.com/chapter/10.1007/978-3-031-71942-4_5], proxies={'http': 'socks5://127.0.0.1:7890'}\u001b[0m\n"
     ]
    },
    {
     "name": "stdout",
     "output_type": "stream",
     "text": [
      "Successfully downloaded to ./data/dynamic/Modes_of_radioactive_decay.pdf\n",
      "\n",
      "Result 3: Radioactive Decay: Radioactivity, Kinetics of Decay, and Examples\n",
      "Publication URL: https://link.springer.com/chapter/10.1007/978-3-031-71942-4_5\n",
      "Downloading Radioactive Decay: Radioactivity, Kinetics of Decay, and Examples from Sci Hub: https://link.springer.com/chapter/10.1007/978-3-031-71942-4_5\n"
     ]
    },
    {
     "name": "stderr",
     "output_type": "stream",
     "text": [
      "\u001b[1m[INFO]\u001b[0m | \u001b[32m2025/05/28 13:01:31\u001b[0m | \u001b[1m-> Response: status_code=200, content_length=6208\u001b[0m\n",
      "\u001b[33m\u001b[1m[WARNING]\u001b[0m | \u001b[32m2025/05/28 13:01:31\u001b[0m | \u001b[33m\u001b[1mError occurs, task status: extracting_failed, error: No pdf tag was found in the given content with the selector: #pdf\u001b[0m\n",
      "\u001b[1m[INFO]\u001b[0m | \u001b[32m2025/05/28 13:01:31\u001b[0m | \u001b[1mChoose scihub url [1]: https://sci-hub.ru\u001b[0m\n",
      "\u001b[1m[INFO]\u001b[0m | \u001b[32m2025/05/28 13:01:31\u001b[0m | \u001b[1m<- Request: scihub_url=https://sci-hub.ru, source=DoiSource[type=doi, id=link.springer.com/chapter/10.1007/978-3-031-71942-4_5], proxies={'http': 'socks5://127.0.0.1:7890'}\u001b[0m\n",
      "\u001b[1m[INFO]\u001b[0m | \u001b[32m2025/05/28 13:01:31\u001b[0m | \u001b[1m-> Response: status_code=403, content_length=898\u001b[0m\n",
      "\u001b[33m\u001b[1m[WARNING]\u001b[0m | \u001b[32m2025/05/28 13:01:31\u001b[0m | \u001b[33m\u001b[1mError occurs, task status: crawling_failed, error: Error occurs when crawling source: DoiSource[type=doi, id=link.springer.com/chapter/10.1007/978-3-031-71942-4_5]\u001b[0m\n",
      "\u001b[1m[INFO]\u001b[0m | \u001b[32m2025/05/28 13:01:31\u001b[0m | \u001b[1mChoose scihub url [2]: https://sci-hub.in\u001b[0m\n",
      "\u001b[1m[INFO]\u001b[0m | \u001b[32m2025/05/28 13:01:31\u001b[0m | \u001b[1m<- Request: scihub_url=https://sci-hub.in, source=DoiSource[type=doi, id=link.springer.com/chapter/10.1007/978-3-031-71942-4_5], proxies={'http': 'socks5://127.0.0.1:7890'}\u001b[0m\n",
      "\u001b[1m[INFO]\u001b[0m | \u001b[32m2025/05/28 13:01:32\u001b[0m | \u001b[1m-> Response: status_code=403, content_length=3460\u001b[0m\n",
      "\u001b[33m\u001b[1m[WARNING]\u001b[0m | \u001b[32m2025/05/28 13:01:32\u001b[0m | \u001b[33m\u001b[1mError occurs, task status: crawling_failed, error: Error occurs when crawling source: DoiSource[type=doi, id=link.springer.com/chapter/10.1007/978-3-031-71942-4_5]\u001b[0m\n",
      "\u001b[1m[INFO]\u001b[0m | \u001b[32m2025/05/28 13:01:32\u001b[0m | \u001b[1mChoose scihub url [3]: https://sci-hub.st\u001b[0m\n",
      "\u001b[1m[INFO]\u001b[0m | \u001b[32m2025/05/28 13:01:32\u001b[0m | \u001b[1m<- Request: scihub_url=https://sci-hub.st, source=DoiSource[type=doi, id=link.springer.com/chapter/10.1007/978-3-031-71942-4_5], proxies={'http': 'socks5://127.0.0.1:7890'}\u001b[0m\n",
      "\u001b[1m[INFO]\u001b[0m | \u001b[32m2025/05/28 13:01:32\u001b[0m | \u001b[1m-> Response: status_code=403, content_length=898\u001b[0m\n",
      "\u001b[33m\u001b[1m[WARNING]\u001b[0m | \u001b[32m2025/05/28 13:01:32\u001b[0m | \u001b[33m\u001b[1mError occurs, task status: crawling_failed, error: Error occurs when crawling source: DoiSource[type=doi, id=link.springer.com/chapter/10.1007/978-3-031-71942-4_5]\u001b[0m\n",
      "\u001b[1m[INFO]\u001b[0m | \u001b[32m2025/05/28 13:01:32\u001b[0m | \u001b[1mChoose scihub url [4]: http://sci-hub.st\u001b[0m\n",
      "\u001b[1m[INFO]\u001b[0m | \u001b[32m2025/05/28 13:01:32\u001b[0m | \u001b[1m<- Request: scihub_url=http://sci-hub.st, source=DoiSource[type=doi, id=link.springer.com/chapter/10.1007/978-3-031-71942-4_5], proxies={'http': 'socks5://127.0.0.1:7890'}\u001b[0m\n",
      "\u001b[33m\u001b[1m[WARNING]\u001b[0m | \u001b[32m2025/05/28 13:01:32\u001b[0m | \u001b[33m\u001b[1mError occurs, task status: crawling_failed, error: SOCKSHTTPConnectionPool(host='sci-hub.st', port=80): Max retries exceeded with url: / (Caused by NewConnectionError('<urllib3.contrib.socks.SOCKSConnection object at 0x7fdc81562890>: Failed to establish a new connection: [Errno 111] Connection refused'))\u001b[0m\n",
      "\u001b[1m[INFO]\u001b[0m | \u001b[32m2025/05/28 13:01:32\u001b[0m | \u001b[1mChoose scihub url [5]: http://sci-hub.se\u001b[0m\n",
      "\u001b[1m[INFO]\u001b[0m | \u001b[32m2025/05/28 13:01:32\u001b[0m | \u001b[1m<- Request: scihub_url=http://sci-hub.se, source=DoiSource[type=doi, id=link.springer.com/chapter/10.1007/978-3-031-71942-4_5], proxies={'http': 'socks5://127.0.0.1:7890'}\u001b[0m\n",
      "\u001b[33m\u001b[1m[WARNING]\u001b[0m | \u001b[32m2025/05/28 13:01:32\u001b[0m | \u001b[33m\u001b[1mError occurs, task status: crawling_failed, error: SOCKSHTTPConnectionPool(host='sci-hub.se', port=80): Max retries exceeded with url: / (Caused by NewConnectionError('<urllib3.contrib.socks.SOCKSConnection object at 0x7fdc815633a0>: Failed to establish a new connection: [Errno 111] Connection refused'))\u001b[0m\n",
      "\u001b[1m[INFO]\u001b[0m | \u001b[32m2025/05/28 13:01:32\u001b[0m | \u001b[1mChoose scihub url [6]: http://sci-hub.in\u001b[0m\n",
      "\u001b[1m[INFO]\u001b[0m | \u001b[32m2025/05/28 13:01:32\u001b[0m | \u001b[1m<- Request: scihub_url=http://sci-hub.in, source=DoiSource[type=doi, id=link.springer.com/chapter/10.1007/978-3-031-71942-4_5], proxies={'http': 'socks5://127.0.0.1:7890'}\u001b[0m\n",
      "\u001b[33m\u001b[1m[WARNING]\u001b[0m | \u001b[32m2025/05/28 13:01:32\u001b[0m | \u001b[33m\u001b[1mError occurs, task status: crawling_failed, error: SOCKSHTTPConnectionPool(host='sci-hub.in', port=80): Max retries exceeded with url: / (Caused by NewConnectionError('<urllib3.contrib.socks.SOCKSConnection object at 0x7fdc81563ac0>: Failed to establish a new connection: [Errno 111] Connection refused'))\u001b[0m\n",
      "\u001b[1m[INFO]\u001b[0m | \u001b[32m2025/05/28 13:01:32\u001b[0m | \u001b[1mChoose scihub url [7]: http://sci-hub.ru\u001b[0m\n",
      "\u001b[1m[INFO]\u001b[0m | \u001b[32m2025/05/28 13:01:32\u001b[0m | \u001b[1m<- Request: scihub_url=http://sci-hub.ru, source=DoiSource[type=doi, id=link.springer.com/chapter/10.1007/978-3-031-71942-4_5], proxies={'http': 'socks5://127.0.0.1:7890'}\u001b[0m\n",
      "\u001b[33m\u001b[1m[WARNING]\u001b[0m | \u001b[32m2025/05/28 13:01:32\u001b[0m | \u001b[33m\u001b[1mError occurs, task status: crawling_failed, error: SOCKSHTTPConnectionPool(host='sci-hub.ru', port=80): Max retries exceeded with url: / (Caused by NewConnectionError('<urllib3.contrib.socks.SOCKSConnection object at 0x7fdc81554cd0>: Failed to establish a new connection: [Errno 111] Connection refused'))\u001b[0m\n",
      "\u001b[31m\u001b[1m[ERROR]\u001b[0m | \u001b[32m2025/05/28 13:01:32\u001b[0m | \u001b[31m\u001b[1mFailed to download the paper: https://link.springer.com/chapter/10.1007/978-3-031-71942-4_5. Please try again.\u001b[0m\n"
     ]
    },
    {
     "name": "stdout",
     "output_type": "stream",
     "text": [
      "Failed to download Radioactive Decay: Radioactivity, Kinetics of Decay, and Examples via Sci-Hub.\n",
      "\n",
      "Result 4: Ionizing Radiation Hazards: Dangerous Goods IV\n",
      "Publication URL: https://jsystemsafety.com/index.php/jss/article/view/16\n",
      "Trying to download PDF from: https://jsystemsafety.com/index.php/jss/article/download/16/14\n"
     ]
    },
    {
     "name": "stderr",
     "output_type": "stream",
     "text": [
      "/usr/lib/python3/dist-packages/urllib3/connectionpool.py:1020: InsecureRequestWarning: Unverified HTTPS request is being made to host 'jsystemsafety.com'. Adding certificate verification is strongly advised. See: https://urllib3.readthedocs.io/en/latest/advanced-usage.html#ssl-warnings\n",
      "  warnings.warn(\n"
     ]
    },
    {
     "name": "stdout",
     "output_type": "stream",
     "text": [
      "PDF saved as ./data/dynamic/Ionizing_Radiation_Hazards_Dangerous_Goods_IV.pdf\n"
     ]
    },
    {
     "name": "stderr",
     "output_type": "stream",
     "text": [
      "/home/henri/.local/lib/python3.10/site-packages/langchain_core/vectorstores/base.py:1082: UserWarning: Relevance scores must be between 0 and 1, got [(Document(id='e777ad1d-2e2d-4a62-a543-d377323334d7', metadata={'source': './data/dynamic/Modeling_radioactive_decay.pdf'}, page_content='Keywords : Half-mean life, modeling, radioactive decay, radioactivity teaching, simulation \\nI. Introduction  \\nRadioactive decay is the name given to the natural process by which an atomic nucleus spontaneously transforms \\nitself (decays) into another, releasing dangerous high energy emissions (Hughes and Zalts, 2000). \\nIf a sample consists of N0 radioactive nuclei at time t=0, and if N(t) denotes the number of the nuclei remaining at'), np.float32(-18.21845)), (Document(id='3ebdfe23-d04b-4e11-876b-8a55d844675b', metadata={'source': './data/dynamic/Modes_of_radioactive_decay.pdf'}, page_content='Particles released in radioactive nuclear decay\\n(1)\\nα\\nα particle (helium nucleus)\\n(2)\\nβ−\\nElectron e−and electronic antineutrino ¯νe\\n(3)\\nβ+\\nPositron e+ and electronic neutrino νe\\n(4)\\nEC (electron capture)\\nElectronic neutrino νe\\n(5)\\nGamma emission\\nγ ray photon\\n(6)\\nIC (internal conversion)\\nAtomic orbital electron eorb\\n(7)\\nSF (spontaneous ﬁssion)\\nNeutron and ﬁssion product nuclei\\n(8)\\nProton emission\\nProton\\n(9)\\nNeutron emission\\nNeutron\\n(c)\\nThe nine major modes of radioactive nuclear decay are:\\n(1)'), np.float32(-20.274086))]\n",
      "  self.vectorstore.similarity_search_with_relevance_scores(\n",
      "No relevant docs were retrieved using the relevance score threshold 0.19999999999999996\n"
     ]
    },
    {
     "name": "stdout",
     "output_type": "stream",
     "text": [
      "Vectorstore updated with 630 document splits.\n"
     ]
    },
    {
     "name": "stderr",
     "output_type": "stream",
     "text": [
      "This is a friendly reminder - the current text generation call will exceed the model's predefined maximum length (1024). Depending on the model, you may observe exceptions, performance degradation, or nothing at all.\n"
     ]
    },
    {
     "ename": "IndexError",
     "evalue": "index out of range in self",
     "output_type": "error",
     "traceback": [
      "\u001b[0;31m---------------------------------------------------------------------------\u001b[0m",
      "\u001b[0;31mIndexError\u001b[0m                                Traceback (most recent call last)",
      "Cell \u001b[0;32mIn[25], line 1\u001b[0m\n\u001b[0;32m----> 1\u001b[0m results \u001b[38;5;241m=\u001b[39m [evaluate_answer(row) \u001b[38;5;28;01mfor\u001b[39;00m _, row \u001b[38;5;129;01min\u001b[39;00m df\u001b[38;5;241m.\u001b[39mloc[:\u001b[38;5;241m3\u001b[39m]\u001b[38;5;241m.\u001b[39miterrows()]\n\u001b[1;32m      2\u001b[0m results_df \u001b[38;5;241m=\u001b[39m pd\u001b[38;5;241m.\u001b[39mDataFrame(results)\n\u001b[1;32m      3\u001b[0m results_df\n",
      "Cell \u001b[0;32mIn[25], line 1\u001b[0m, in \u001b[0;36m<listcomp>\u001b[0;34m(.0)\u001b[0m\n\u001b[0;32m----> 1\u001b[0m results \u001b[38;5;241m=\u001b[39m [\u001b[43mevaluate_answer\u001b[49m\u001b[43m(\u001b[49m\u001b[43mrow\u001b[49m\u001b[43m)\u001b[49m \u001b[38;5;28;01mfor\u001b[39;00m _, row \u001b[38;5;129;01min\u001b[39;00m df\u001b[38;5;241m.\u001b[39mloc[:\u001b[38;5;241m3\u001b[39m]\u001b[38;5;241m.\u001b[39miterrows()]\n\u001b[1;32m      2\u001b[0m results_df \u001b[38;5;241m=\u001b[39m pd\u001b[38;5;241m.\u001b[39mDataFrame(results)\n\u001b[1;32m      3\u001b[0m results_df\n",
      "Cell \u001b[0;32mIn[23], line 8\u001b[0m, in \u001b[0;36mevaluate_answer\u001b[0;34m(row)\u001b[0m\n\u001b[1;32m      5\u001b[0m distractors \u001b[38;5;241m=\u001b[39m [row[\u001b[38;5;124m'\u001b[39m\u001b[38;5;124mdistractor1\u001b[39m\u001b[38;5;124m'\u001b[39m], row[\u001b[38;5;124m'\u001b[39m\u001b[38;5;124mdistractor2\u001b[39m\u001b[38;5;124m'\u001b[39m], row[\u001b[38;5;124m'\u001b[39m\u001b[38;5;124mdistractor3\u001b[39m\u001b[38;5;124m'\u001b[39m]]\n\u001b[1;32m      7\u001b[0m \u001b[38;5;66;03m# Chatbot answer\u001b[39;00m\n\u001b[0;32m----> 8\u001b[0m response, source_docs \u001b[38;5;241m=\u001b[39m \u001b[43mask_question\u001b[49m\u001b[43m(\u001b[49m\u001b[43mquestion\u001b[49m\u001b[43m)\u001b[49m\n\u001b[1;32m      9\u001b[0m response \u001b[38;5;241m=\u001b[39m response\u001b[38;5;241m.\u001b[39mlower()\n\u001b[1;32m     11\u001b[0m \u001b[38;5;66;03m# Exact match\u001b[39;00m\n",
      "Cell \u001b[0;32mIn[12], line 15\u001b[0m, in \u001b[0;36mask_question\u001b[0;34m(question, online)\u001b[0m\n\u001b[1;32m     12\u001b[0m     downloaded_files \u001b[38;5;241m=\u001b[39m download_documents(query, DYNAMIC_DATA_DIR, num_docs, max_tries)\n\u001b[1;32m     13\u001b[0m     add_embeddings_from_files(vectorstore, downloaded_files)\n\u001b[0;32m---> 15\u001b[0m response \u001b[38;5;241m=\u001b[39m \u001b[43mchain\u001b[49m\u001b[38;5;241;43m.\u001b[39;49m\u001b[43minvoke\u001b[49m\u001b[43m(\u001b[49m\u001b[43m{\u001b[49m\n\u001b[1;32m     16\u001b[0m \u001b[43m    \u001b[49m\u001b[38;5;124;43m\"\u001b[39;49m\u001b[38;5;124;43mquestion\u001b[39;49m\u001b[38;5;124;43m\"\u001b[39;49m\u001b[43m:\u001b[49m\u001b[43m \u001b[49m\u001b[43mquestion\u001b[49m\u001b[43m,\u001b[49m\n\u001b[1;32m     17\u001b[0m \u001b[43m    \u001b[49m\u001b[38;5;124;43m\"\u001b[39;49m\u001b[38;5;124;43mchat_history\u001b[39;49m\u001b[38;5;124;43m\"\u001b[39;49m\u001b[43m:\u001b[49m\u001b[43m \u001b[49m\u001b[43m[\u001b[49m\u001b[43m]\u001b[49m\n\u001b[1;32m     18\u001b[0m \u001b[43m\u001b[49m\u001b[43m}\u001b[49m\u001b[43m)\u001b[49m\n\u001b[1;32m     19\u001b[0m answer \u001b[38;5;241m=\u001b[39m response[\u001b[38;5;124m\"\u001b[39m\u001b[38;5;124manswer\u001b[39m\u001b[38;5;124m\"\u001b[39m]\u001b[38;5;241m.\u001b[39msplit(\u001b[38;5;124m\"\u001b[39m\u001b[38;5;124m### Answer:\u001b[39m\u001b[38;5;124m\"\u001b[39m)[\u001b[38;5;241m-\u001b[39m\u001b[38;5;241m1\u001b[39m]\u001b[38;5;241m.\u001b[39mstrip()\n\u001b[1;32m     20\u001b[0m source_documents \u001b[38;5;241m=\u001b[39m response[\u001b[38;5;124m\"\u001b[39m\u001b[38;5;124msource_documents\u001b[39m\u001b[38;5;124m\"\u001b[39m]\n",
      "File \u001b[0;32m~/.local/lib/python3.10/site-packages/langchain/chains/base.py:167\u001b[0m, in \u001b[0;36mChain.invoke\u001b[0;34m(self, input, config, **kwargs)\u001b[0m\n\u001b[1;32m    165\u001b[0m \u001b[38;5;28;01mexcept\u001b[39;00m \u001b[38;5;167;01mBaseException\u001b[39;00m \u001b[38;5;28;01mas\u001b[39;00m e:\n\u001b[1;32m    166\u001b[0m     run_manager\u001b[38;5;241m.\u001b[39mon_chain_error(e)\n\u001b[0;32m--> 167\u001b[0m     \u001b[38;5;28;01mraise\u001b[39;00m e\n\u001b[1;32m    168\u001b[0m run_manager\u001b[38;5;241m.\u001b[39mon_chain_end(outputs)\n\u001b[1;32m    170\u001b[0m \u001b[38;5;28;01mif\u001b[39;00m include_run_info:\n",
      "File \u001b[0;32m~/.local/lib/python3.10/site-packages/langchain/chains/base.py:157\u001b[0m, in \u001b[0;36mChain.invoke\u001b[0;34m(self, input, config, **kwargs)\u001b[0m\n\u001b[1;32m    154\u001b[0m \u001b[38;5;28;01mtry\u001b[39;00m:\n\u001b[1;32m    155\u001b[0m     \u001b[38;5;28mself\u001b[39m\u001b[38;5;241m.\u001b[39m_validate_inputs(inputs)\n\u001b[1;32m    156\u001b[0m     outputs \u001b[38;5;241m=\u001b[39m (\n\u001b[0;32m--> 157\u001b[0m         \u001b[38;5;28;43mself\u001b[39;49m\u001b[38;5;241;43m.\u001b[39;49m\u001b[43m_call\u001b[49m\u001b[43m(\u001b[49m\u001b[43minputs\u001b[49m\u001b[43m,\u001b[49m\u001b[43m \u001b[49m\u001b[43mrun_manager\u001b[49m\u001b[38;5;241;43m=\u001b[39;49m\u001b[43mrun_manager\u001b[49m\u001b[43m)\u001b[49m\n\u001b[1;32m    158\u001b[0m         \u001b[38;5;28;01mif\u001b[39;00m new_arg_supported\n\u001b[1;32m    159\u001b[0m         \u001b[38;5;28;01melse\u001b[39;00m \u001b[38;5;28mself\u001b[39m\u001b[38;5;241m.\u001b[39m_call(inputs)\n\u001b[1;32m    160\u001b[0m     )\n\u001b[1;32m    162\u001b[0m     final_outputs: \u001b[38;5;28mdict\u001b[39m[\u001b[38;5;28mstr\u001b[39m, Any] \u001b[38;5;241m=\u001b[39m \u001b[38;5;28mself\u001b[39m\u001b[38;5;241m.\u001b[39mprep_outputs(\n\u001b[1;32m    163\u001b[0m         inputs, outputs, return_only_outputs\n\u001b[1;32m    164\u001b[0m     )\n\u001b[1;32m    165\u001b[0m \u001b[38;5;28;01mexcept\u001b[39;00m \u001b[38;5;167;01mBaseException\u001b[39;00m \u001b[38;5;28;01mas\u001b[39;00m e:\n",
      "File \u001b[0;32m~/.local/lib/python3.10/site-packages/langchain/chains/conversational_retrieval/base.py:170\u001b[0m, in \u001b[0;36mBaseConversationalRetrievalChain._call\u001b[0;34m(self, inputs, run_manager)\u001b[0m\n\u001b[1;32m    168\u001b[0m         new_inputs[\u001b[38;5;124m\"\u001b[39m\u001b[38;5;124mquestion\u001b[39m\u001b[38;5;124m\"\u001b[39m] \u001b[38;5;241m=\u001b[39m new_question\n\u001b[1;32m    169\u001b[0m     new_inputs[\u001b[38;5;124m\"\u001b[39m\u001b[38;5;124mchat_history\u001b[39m\u001b[38;5;124m\"\u001b[39m] \u001b[38;5;241m=\u001b[39m chat_history_str\n\u001b[0;32m--> 170\u001b[0m     answer \u001b[38;5;241m=\u001b[39m \u001b[38;5;28;43mself\u001b[39;49m\u001b[38;5;241;43m.\u001b[39;49m\u001b[43mcombine_docs_chain\u001b[49m\u001b[38;5;241;43m.\u001b[39;49m\u001b[43mrun\u001b[49m\u001b[43m(\u001b[49m\n\u001b[1;32m    171\u001b[0m \u001b[43m        \u001b[49m\u001b[43minput_documents\u001b[49m\u001b[38;5;241;43m=\u001b[39;49m\u001b[43mdocs\u001b[49m\u001b[43m,\u001b[49m\u001b[43m \u001b[49m\u001b[43mcallbacks\u001b[49m\u001b[38;5;241;43m=\u001b[39;49m\u001b[43m_run_manager\u001b[49m\u001b[38;5;241;43m.\u001b[39;49m\u001b[43mget_child\u001b[49m\u001b[43m(\u001b[49m\u001b[43m)\u001b[49m\u001b[43m,\u001b[49m\u001b[43m \u001b[49m\u001b[38;5;241;43m*\u001b[39;49m\u001b[38;5;241;43m*\u001b[39;49m\u001b[43mnew_inputs\u001b[49m\n\u001b[1;32m    172\u001b[0m \u001b[43m    \u001b[49m\u001b[43m)\u001b[49m\n\u001b[1;32m    173\u001b[0m     output[\u001b[38;5;28mself\u001b[39m\u001b[38;5;241m.\u001b[39moutput_key] \u001b[38;5;241m=\u001b[39m answer\n\u001b[1;32m    175\u001b[0m \u001b[38;5;28;01mif\u001b[39;00m \u001b[38;5;28mself\u001b[39m\u001b[38;5;241m.\u001b[39mreturn_source_documents:\n",
      "File \u001b[0;32m~/.local/lib/python3.10/site-packages/langchain_core/_api/deprecation.py:191\u001b[0m, in \u001b[0;36mdeprecated.<locals>.deprecate.<locals>.warning_emitting_wrapper\u001b[0;34m(*args, **kwargs)\u001b[0m\n\u001b[1;32m    189\u001b[0m     warned \u001b[38;5;241m=\u001b[39m \u001b[38;5;28;01mTrue\u001b[39;00m\n\u001b[1;32m    190\u001b[0m     emit_warning()\n\u001b[0;32m--> 191\u001b[0m \u001b[38;5;28;01mreturn\u001b[39;00m \u001b[43mwrapped\u001b[49m\u001b[43m(\u001b[49m\u001b[38;5;241;43m*\u001b[39;49m\u001b[43margs\u001b[49m\u001b[43m,\u001b[49m\u001b[43m \u001b[49m\u001b[38;5;241;43m*\u001b[39;49m\u001b[38;5;241;43m*\u001b[39;49m\u001b[43mkwargs\u001b[49m\u001b[43m)\u001b[49m\n",
      "File \u001b[0;32m~/.local/lib/python3.10/site-packages/langchain/chains/base.py:608\u001b[0m, in \u001b[0;36mChain.run\u001b[0;34m(self, callbacks, tags, metadata, *args, **kwargs)\u001b[0m\n\u001b[1;32m    603\u001b[0m     \u001b[38;5;28;01mreturn\u001b[39;00m \u001b[38;5;28mself\u001b[39m(args[\u001b[38;5;241m0\u001b[39m], callbacks\u001b[38;5;241m=\u001b[39mcallbacks, tags\u001b[38;5;241m=\u001b[39mtags, metadata\u001b[38;5;241m=\u001b[39mmetadata)[\n\u001b[1;32m    604\u001b[0m         _output_key\n\u001b[1;32m    605\u001b[0m     ]\n\u001b[1;32m    607\u001b[0m \u001b[38;5;28;01mif\u001b[39;00m kwargs \u001b[38;5;129;01mand\u001b[39;00m \u001b[38;5;129;01mnot\u001b[39;00m args:\n\u001b[0;32m--> 608\u001b[0m     \u001b[38;5;28;01mreturn\u001b[39;00m \u001b[38;5;28;43mself\u001b[39;49m\u001b[43m(\u001b[49m\u001b[43mkwargs\u001b[49m\u001b[43m,\u001b[49m\u001b[43m \u001b[49m\u001b[43mcallbacks\u001b[49m\u001b[38;5;241;43m=\u001b[39;49m\u001b[43mcallbacks\u001b[49m\u001b[43m,\u001b[49m\u001b[43m \u001b[49m\u001b[43mtags\u001b[49m\u001b[38;5;241;43m=\u001b[39;49m\u001b[43mtags\u001b[49m\u001b[43m,\u001b[49m\u001b[43m \u001b[49m\u001b[43mmetadata\u001b[49m\u001b[38;5;241;43m=\u001b[39;49m\u001b[43mmetadata\u001b[49m\u001b[43m)\u001b[49m[\n\u001b[1;32m    609\u001b[0m         _output_key\n\u001b[1;32m    610\u001b[0m     ]\n\u001b[1;32m    612\u001b[0m \u001b[38;5;28;01mif\u001b[39;00m \u001b[38;5;129;01mnot\u001b[39;00m kwargs \u001b[38;5;129;01mand\u001b[39;00m \u001b[38;5;129;01mnot\u001b[39;00m args:\n\u001b[1;32m    613\u001b[0m     \u001b[38;5;28;01mraise\u001b[39;00m \u001b[38;5;167;01mValueError\u001b[39;00m(\n\u001b[1;32m    614\u001b[0m         \u001b[38;5;124m\"\u001b[39m\u001b[38;5;124m`run` supported with either positional arguments or keyword arguments,\u001b[39m\u001b[38;5;124m\"\u001b[39m\n\u001b[1;32m    615\u001b[0m         \u001b[38;5;124m\"\u001b[39m\u001b[38;5;124m but none were provided.\u001b[39m\u001b[38;5;124m\"\u001b[39m\n\u001b[1;32m    616\u001b[0m     )\n",
      "File \u001b[0;32m~/.local/lib/python3.10/site-packages/langchain_core/_api/deprecation.py:191\u001b[0m, in \u001b[0;36mdeprecated.<locals>.deprecate.<locals>.warning_emitting_wrapper\u001b[0;34m(*args, **kwargs)\u001b[0m\n\u001b[1;32m    189\u001b[0m     warned \u001b[38;5;241m=\u001b[39m \u001b[38;5;28;01mTrue\u001b[39;00m\n\u001b[1;32m    190\u001b[0m     emit_warning()\n\u001b[0;32m--> 191\u001b[0m \u001b[38;5;28;01mreturn\u001b[39;00m \u001b[43mwrapped\u001b[49m\u001b[43m(\u001b[49m\u001b[38;5;241;43m*\u001b[39;49m\u001b[43margs\u001b[49m\u001b[43m,\u001b[49m\u001b[43m \u001b[49m\u001b[38;5;241;43m*\u001b[39;49m\u001b[38;5;241;43m*\u001b[39;49m\u001b[43mkwargs\u001b[49m\u001b[43m)\u001b[49m\n",
      "File \u001b[0;32m~/.local/lib/python3.10/site-packages/langchain/chains/base.py:386\u001b[0m, in \u001b[0;36mChain.__call__\u001b[0;34m(self, inputs, return_only_outputs, callbacks, tags, metadata, run_name, include_run_info)\u001b[0m\n\u001b[1;32m    354\u001b[0m \u001b[38;5;250m\u001b[39m\u001b[38;5;124;03m\"\"\"Execute the chain.\u001b[39;00m\n\u001b[1;32m    355\u001b[0m \n\u001b[1;32m    356\u001b[0m \u001b[38;5;124;03mArgs:\u001b[39;00m\n\u001b[0;32m   (...)\u001b[0m\n\u001b[1;32m    377\u001b[0m \u001b[38;5;124;03m        `Chain.output_keys`.\u001b[39;00m\n\u001b[1;32m    378\u001b[0m \u001b[38;5;124;03m\"\"\"\u001b[39;00m\n\u001b[1;32m    379\u001b[0m config \u001b[38;5;241m=\u001b[39m {\n\u001b[1;32m    380\u001b[0m     \u001b[38;5;124m\"\u001b[39m\u001b[38;5;124mcallbacks\u001b[39m\u001b[38;5;124m\"\u001b[39m: callbacks,\n\u001b[1;32m    381\u001b[0m     \u001b[38;5;124m\"\u001b[39m\u001b[38;5;124mtags\u001b[39m\u001b[38;5;124m\"\u001b[39m: tags,\n\u001b[1;32m    382\u001b[0m     \u001b[38;5;124m\"\u001b[39m\u001b[38;5;124mmetadata\u001b[39m\u001b[38;5;124m\"\u001b[39m: metadata,\n\u001b[1;32m    383\u001b[0m     \u001b[38;5;124m\"\u001b[39m\u001b[38;5;124mrun_name\u001b[39m\u001b[38;5;124m\"\u001b[39m: run_name,\n\u001b[1;32m    384\u001b[0m }\n\u001b[0;32m--> 386\u001b[0m \u001b[38;5;28;01mreturn\u001b[39;00m \u001b[38;5;28;43mself\u001b[39;49m\u001b[38;5;241;43m.\u001b[39;49m\u001b[43minvoke\u001b[49m\u001b[43m(\u001b[49m\n\u001b[1;32m    387\u001b[0m \u001b[43m    \u001b[49m\u001b[43minputs\u001b[49m\u001b[43m,\u001b[49m\n\u001b[1;32m    388\u001b[0m \u001b[43m    \u001b[49m\u001b[43mcast\u001b[49m\u001b[43m(\u001b[49m\u001b[43mRunnableConfig\u001b[49m\u001b[43m,\u001b[49m\u001b[43m \u001b[49m\u001b[43m{\u001b[49m\u001b[43mk\u001b[49m\u001b[43m:\u001b[49m\u001b[43m \u001b[49m\u001b[43mv\u001b[49m\u001b[43m \u001b[49m\u001b[38;5;28;43;01mfor\u001b[39;49;00m\u001b[43m \u001b[49m\u001b[43mk\u001b[49m\u001b[43m,\u001b[49m\u001b[43m \u001b[49m\u001b[43mv\u001b[49m\u001b[43m \u001b[49m\u001b[38;5;129;43;01min\u001b[39;49;00m\u001b[43m \u001b[49m\u001b[43mconfig\u001b[49m\u001b[38;5;241;43m.\u001b[39;49m\u001b[43mitems\u001b[49m\u001b[43m(\u001b[49m\u001b[43m)\u001b[49m\u001b[43m \u001b[49m\u001b[38;5;28;43;01mif\u001b[39;49;00m\u001b[43m \u001b[49m\u001b[43mv\u001b[49m\u001b[43m \u001b[49m\u001b[38;5;129;43;01mis\u001b[39;49;00m\u001b[43m \u001b[49m\u001b[38;5;129;43;01mnot\u001b[39;49;00m\u001b[43m \u001b[49m\u001b[38;5;28;43;01mNone\u001b[39;49;00m\u001b[43m}\u001b[49m\u001b[43m)\u001b[49m\u001b[43m,\u001b[49m\n\u001b[1;32m    389\u001b[0m \u001b[43m    \u001b[49m\u001b[43mreturn_only_outputs\u001b[49m\u001b[38;5;241;43m=\u001b[39;49m\u001b[43mreturn_only_outputs\u001b[49m\u001b[43m,\u001b[49m\n\u001b[1;32m    390\u001b[0m \u001b[43m    \u001b[49m\u001b[43minclude_run_info\u001b[49m\u001b[38;5;241;43m=\u001b[39;49m\u001b[43minclude_run_info\u001b[49m\u001b[43m,\u001b[49m\n\u001b[1;32m    391\u001b[0m \u001b[43m\u001b[49m\u001b[43m)\u001b[49m\n",
      "File \u001b[0;32m~/.local/lib/python3.10/site-packages/langchain/chains/base.py:167\u001b[0m, in \u001b[0;36mChain.invoke\u001b[0;34m(self, input, config, **kwargs)\u001b[0m\n\u001b[1;32m    165\u001b[0m \u001b[38;5;28;01mexcept\u001b[39;00m \u001b[38;5;167;01mBaseException\u001b[39;00m \u001b[38;5;28;01mas\u001b[39;00m e:\n\u001b[1;32m    166\u001b[0m     run_manager\u001b[38;5;241m.\u001b[39mon_chain_error(e)\n\u001b[0;32m--> 167\u001b[0m     \u001b[38;5;28;01mraise\u001b[39;00m e\n\u001b[1;32m    168\u001b[0m run_manager\u001b[38;5;241m.\u001b[39mon_chain_end(outputs)\n\u001b[1;32m    170\u001b[0m \u001b[38;5;28;01mif\u001b[39;00m include_run_info:\n",
      "File \u001b[0;32m~/.local/lib/python3.10/site-packages/langchain/chains/base.py:157\u001b[0m, in \u001b[0;36mChain.invoke\u001b[0;34m(self, input, config, **kwargs)\u001b[0m\n\u001b[1;32m    154\u001b[0m \u001b[38;5;28;01mtry\u001b[39;00m:\n\u001b[1;32m    155\u001b[0m     \u001b[38;5;28mself\u001b[39m\u001b[38;5;241m.\u001b[39m_validate_inputs(inputs)\n\u001b[1;32m    156\u001b[0m     outputs \u001b[38;5;241m=\u001b[39m (\n\u001b[0;32m--> 157\u001b[0m         \u001b[38;5;28;43mself\u001b[39;49m\u001b[38;5;241;43m.\u001b[39;49m\u001b[43m_call\u001b[49m\u001b[43m(\u001b[49m\u001b[43minputs\u001b[49m\u001b[43m,\u001b[49m\u001b[43m \u001b[49m\u001b[43mrun_manager\u001b[49m\u001b[38;5;241;43m=\u001b[39;49m\u001b[43mrun_manager\u001b[49m\u001b[43m)\u001b[49m\n\u001b[1;32m    158\u001b[0m         \u001b[38;5;28;01mif\u001b[39;00m new_arg_supported\n\u001b[1;32m    159\u001b[0m         \u001b[38;5;28;01melse\u001b[39;00m \u001b[38;5;28mself\u001b[39m\u001b[38;5;241m.\u001b[39m_call(inputs)\n\u001b[1;32m    160\u001b[0m     )\n\u001b[1;32m    162\u001b[0m     final_outputs: \u001b[38;5;28mdict\u001b[39m[\u001b[38;5;28mstr\u001b[39m, Any] \u001b[38;5;241m=\u001b[39m \u001b[38;5;28mself\u001b[39m\u001b[38;5;241m.\u001b[39mprep_outputs(\n\u001b[1;32m    163\u001b[0m         inputs, outputs, return_only_outputs\n\u001b[1;32m    164\u001b[0m     )\n\u001b[1;32m    165\u001b[0m \u001b[38;5;28;01mexcept\u001b[39;00m \u001b[38;5;167;01mBaseException\u001b[39;00m \u001b[38;5;28;01mas\u001b[39;00m e:\n",
      "File \u001b[0;32m~/.local/lib/python3.10/site-packages/langchain/chains/combine_documents/base.py:138\u001b[0m, in \u001b[0;36mBaseCombineDocumentsChain._call\u001b[0;34m(self, inputs, run_manager)\u001b[0m\n\u001b[1;32m    136\u001b[0m \u001b[38;5;66;03m# Other keys are assumed to be needed for LLM prediction\u001b[39;00m\n\u001b[1;32m    137\u001b[0m other_keys \u001b[38;5;241m=\u001b[39m {k: v \u001b[38;5;28;01mfor\u001b[39;00m k, v \u001b[38;5;129;01min\u001b[39;00m inputs\u001b[38;5;241m.\u001b[39mitems() \u001b[38;5;28;01mif\u001b[39;00m k \u001b[38;5;241m!=\u001b[39m \u001b[38;5;28mself\u001b[39m\u001b[38;5;241m.\u001b[39minput_key}\n\u001b[0;32m--> 138\u001b[0m output, extra_return_dict \u001b[38;5;241m=\u001b[39m \u001b[38;5;28;43mself\u001b[39;49m\u001b[38;5;241;43m.\u001b[39;49m\u001b[43mcombine_docs\u001b[49m\u001b[43m(\u001b[49m\n\u001b[1;32m    139\u001b[0m \u001b[43m    \u001b[49m\u001b[43mdocs\u001b[49m\u001b[43m,\u001b[49m\u001b[43m \u001b[49m\u001b[43mcallbacks\u001b[49m\u001b[38;5;241;43m=\u001b[39;49m\u001b[43m_run_manager\u001b[49m\u001b[38;5;241;43m.\u001b[39;49m\u001b[43mget_child\u001b[49m\u001b[43m(\u001b[49m\u001b[43m)\u001b[49m\u001b[43m,\u001b[49m\u001b[43m \u001b[49m\u001b[38;5;241;43m*\u001b[39;49m\u001b[38;5;241;43m*\u001b[39;49m\u001b[43mother_keys\u001b[49m\n\u001b[1;32m    140\u001b[0m \u001b[43m\u001b[49m\u001b[43m)\u001b[49m\n\u001b[1;32m    141\u001b[0m extra_return_dict[\u001b[38;5;28mself\u001b[39m\u001b[38;5;241m.\u001b[39moutput_key] \u001b[38;5;241m=\u001b[39m output\n\u001b[1;32m    142\u001b[0m \u001b[38;5;28;01mreturn\u001b[39;00m extra_return_dict\n",
      "File \u001b[0;32m~/.local/lib/python3.10/site-packages/langchain/chains/combine_documents/stuff.py:259\u001b[0m, in \u001b[0;36mStuffDocumentsChain.combine_docs\u001b[0;34m(self, docs, callbacks, **kwargs)\u001b[0m\n\u001b[1;32m    257\u001b[0m inputs \u001b[38;5;241m=\u001b[39m \u001b[38;5;28mself\u001b[39m\u001b[38;5;241m.\u001b[39m_get_inputs(docs, \u001b[38;5;241m*\u001b[39m\u001b[38;5;241m*\u001b[39mkwargs)\n\u001b[1;32m    258\u001b[0m \u001b[38;5;66;03m# Call predict on the LLM.\u001b[39;00m\n\u001b[0;32m--> 259\u001b[0m \u001b[38;5;28;01mreturn\u001b[39;00m \u001b[38;5;28;43mself\u001b[39;49m\u001b[38;5;241;43m.\u001b[39;49m\u001b[43mllm_chain\u001b[49m\u001b[38;5;241;43m.\u001b[39;49m\u001b[43mpredict\u001b[49m\u001b[43m(\u001b[49m\u001b[43mcallbacks\u001b[49m\u001b[38;5;241;43m=\u001b[39;49m\u001b[43mcallbacks\u001b[49m\u001b[43m,\u001b[49m\u001b[43m \u001b[49m\u001b[38;5;241;43m*\u001b[39;49m\u001b[38;5;241;43m*\u001b[39;49m\u001b[43minputs\u001b[49m\u001b[43m)\u001b[49m, {}\n",
      "File \u001b[0;32m~/.local/lib/python3.10/site-packages/langchain/chains/llm.py:319\u001b[0m, in \u001b[0;36mLLMChain.predict\u001b[0;34m(self, callbacks, **kwargs)\u001b[0m\n\u001b[1;32m    304\u001b[0m \u001b[38;5;28;01mdef\u001b[39;00m\u001b[38;5;250m \u001b[39m\u001b[38;5;21mpredict\u001b[39m(\u001b[38;5;28mself\u001b[39m, callbacks: Callbacks \u001b[38;5;241m=\u001b[39m \u001b[38;5;28;01mNone\u001b[39;00m, \u001b[38;5;241m*\u001b[39m\u001b[38;5;241m*\u001b[39mkwargs: Any) \u001b[38;5;241m-\u001b[39m\u001b[38;5;241m>\u001b[39m \u001b[38;5;28mstr\u001b[39m:\n\u001b[1;32m    305\u001b[0m \u001b[38;5;250m    \u001b[39m\u001b[38;5;124;03m\"\"\"Format prompt with kwargs and pass to LLM.\u001b[39;00m\n\u001b[1;32m    306\u001b[0m \n\u001b[1;32m    307\u001b[0m \u001b[38;5;124;03m    Args:\u001b[39;00m\n\u001b[0;32m   (...)\u001b[0m\n\u001b[1;32m    317\u001b[0m \u001b[38;5;124;03m            completion = llm.predict(adjective=\"funny\")\u001b[39;00m\n\u001b[1;32m    318\u001b[0m \u001b[38;5;124;03m    \"\"\"\u001b[39;00m\n\u001b[0;32m--> 319\u001b[0m     \u001b[38;5;28;01mreturn\u001b[39;00m \u001b[38;5;28;43mself\u001b[39;49m\u001b[43m(\u001b[49m\u001b[43mkwargs\u001b[49m\u001b[43m,\u001b[49m\u001b[43m \u001b[49m\u001b[43mcallbacks\u001b[49m\u001b[38;5;241;43m=\u001b[39;49m\u001b[43mcallbacks\u001b[49m\u001b[43m)\u001b[49m[\u001b[38;5;28mself\u001b[39m\u001b[38;5;241m.\u001b[39moutput_key]\n",
      "File \u001b[0;32m~/.local/lib/python3.10/site-packages/langchain_core/_api/deprecation.py:191\u001b[0m, in \u001b[0;36mdeprecated.<locals>.deprecate.<locals>.warning_emitting_wrapper\u001b[0;34m(*args, **kwargs)\u001b[0m\n\u001b[1;32m    189\u001b[0m     warned \u001b[38;5;241m=\u001b[39m \u001b[38;5;28;01mTrue\u001b[39;00m\n\u001b[1;32m    190\u001b[0m     emit_warning()\n\u001b[0;32m--> 191\u001b[0m \u001b[38;5;28;01mreturn\u001b[39;00m \u001b[43mwrapped\u001b[49m\u001b[43m(\u001b[49m\u001b[38;5;241;43m*\u001b[39;49m\u001b[43margs\u001b[49m\u001b[43m,\u001b[49m\u001b[43m \u001b[49m\u001b[38;5;241;43m*\u001b[39;49m\u001b[38;5;241;43m*\u001b[39;49m\u001b[43mkwargs\u001b[49m\u001b[43m)\u001b[49m\n",
      "File \u001b[0;32m~/.local/lib/python3.10/site-packages/langchain/chains/base.py:386\u001b[0m, in \u001b[0;36mChain.__call__\u001b[0;34m(self, inputs, return_only_outputs, callbacks, tags, metadata, run_name, include_run_info)\u001b[0m\n\u001b[1;32m    354\u001b[0m \u001b[38;5;250m\u001b[39m\u001b[38;5;124;03m\"\"\"Execute the chain.\u001b[39;00m\n\u001b[1;32m    355\u001b[0m \n\u001b[1;32m    356\u001b[0m \u001b[38;5;124;03mArgs:\u001b[39;00m\n\u001b[0;32m   (...)\u001b[0m\n\u001b[1;32m    377\u001b[0m \u001b[38;5;124;03m        `Chain.output_keys`.\u001b[39;00m\n\u001b[1;32m    378\u001b[0m \u001b[38;5;124;03m\"\"\"\u001b[39;00m\n\u001b[1;32m    379\u001b[0m config \u001b[38;5;241m=\u001b[39m {\n\u001b[1;32m    380\u001b[0m     \u001b[38;5;124m\"\u001b[39m\u001b[38;5;124mcallbacks\u001b[39m\u001b[38;5;124m\"\u001b[39m: callbacks,\n\u001b[1;32m    381\u001b[0m     \u001b[38;5;124m\"\u001b[39m\u001b[38;5;124mtags\u001b[39m\u001b[38;5;124m\"\u001b[39m: tags,\n\u001b[1;32m    382\u001b[0m     \u001b[38;5;124m\"\u001b[39m\u001b[38;5;124mmetadata\u001b[39m\u001b[38;5;124m\"\u001b[39m: metadata,\n\u001b[1;32m    383\u001b[0m     \u001b[38;5;124m\"\u001b[39m\u001b[38;5;124mrun_name\u001b[39m\u001b[38;5;124m\"\u001b[39m: run_name,\n\u001b[1;32m    384\u001b[0m }\n\u001b[0;32m--> 386\u001b[0m \u001b[38;5;28;01mreturn\u001b[39;00m \u001b[38;5;28;43mself\u001b[39;49m\u001b[38;5;241;43m.\u001b[39;49m\u001b[43minvoke\u001b[49m\u001b[43m(\u001b[49m\n\u001b[1;32m    387\u001b[0m \u001b[43m    \u001b[49m\u001b[43minputs\u001b[49m\u001b[43m,\u001b[49m\n\u001b[1;32m    388\u001b[0m \u001b[43m    \u001b[49m\u001b[43mcast\u001b[49m\u001b[43m(\u001b[49m\u001b[43mRunnableConfig\u001b[49m\u001b[43m,\u001b[49m\u001b[43m \u001b[49m\u001b[43m{\u001b[49m\u001b[43mk\u001b[49m\u001b[43m:\u001b[49m\u001b[43m \u001b[49m\u001b[43mv\u001b[49m\u001b[43m \u001b[49m\u001b[38;5;28;43;01mfor\u001b[39;49;00m\u001b[43m \u001b[49m\u001b[43mk\u001b[49m\u001b[43m,\u001b[49m\u001b[43m \u001b[49m\u001b[43mv\u001b[49m\u001b[43m \u001b[49m\u001b[38;5;129;43;01min\u001b[39;49;00m\u001b[43m \u001b[49m\u001b[43mconfig\u001b[49m\u001b[38;5;241;43m.\u001b[39;49m\u001b[43mitems\u001b[49m\u001b[43m(\u001b[49m\u001b[43m)\u001b[49m\u001b[43m \u001b[49m\u001b[38;5;28;43;01mif\u001b[39;49;00m\u001b[43m \u001b[49m\u001b[43mv\u001b[49m\u001b[43m \u001b[49m\u001b[38;5;129;43;01mis\u001b[39;49;00m\u001b[43m \u001b[49m\u001b[38;5;129;43;01mnot\u001b[39;49;00m\u001b[43m \u001b[49m\u001b[38;5;28;43;01mNone\u001b[39;49;00m\u001b[43m}\u001b[49m\u001b[43m)\u001b[49m\u001b[43m,\u001b[49m\n\u001b[1;32m    389\u001b[0m \u001b[43m    \u001b[49m\u001b[43mreturn_only_outputs\u001b[49m\u001b[38;5;241;43m=\u001b[39;49m\u001b[43mreturn_only_outputs\u001b[49m\u001b[43m,\u001b[49m\n\u001b[1;32m    390\u001b[0m \u001b[43m    \u001b[49m\u001b[43minclude_run_info\u001b[49m\u001b[38;5;241;43m=\u001b[39;49m\u001b[43minclude_run_info\u001b[49m\u001b[43m,\u001b[49m\n\u001b[1;32m    391\u001b[0m \u001b[43m\u001b[49m\u001b[43m)\u001b[49m\n",
      "File \u001b[0;32m~/.local/lib/python3.10/site-packages/langchain/chains/base.py:167\u001b[0m, in \u001b[0;36mChain.invoke\u001b[0;34m(self, input, config, **kwargs)\u001b[0m\n\u001b[1;32m    165\u001b[0m \u001b[38;5;28;01mexcept\u001b[39;00m \u001b[38;5;167;01mBaseException\u001b[39;00m \u001b[38;5;28;01mas\u001b[39;00m e:\n\u001b[1;32m    166\u001b[0m     run_manager\u001b[38;5;241m.\u001b[39mon_chain_error(e)\n\u001b[0;32m--> 167\u001b[0m     \u001b[38;5;28;01mraise\u001b[39;00m e\n\u001b[1;32m    168\u001b[0m run_manager\u001b[38;5;241m.\u001b[39mon_chain_end(outputs)\n\u001b[1;32m    170\u001b[0m \u001b[38;5;28;01mif\u001b[39;00m include_run_info:\n",
      "File \u001b[0;32m~/.local/lib/python3.10/site-packages/langchain/chains/base.py:157\u001b[0m, in \u001b[0;36mChain.invoke\u001b[0;34m(self, input, config, **kwargs)\u001b[0m\n\u001b[1;32m    154\u001b[0m \u001b[38;5;28;01mtry\u001b[39;00m:\n\u001b[1;32m    155\u001b[0m     \u001b[38;5;28mself\u001b[39m\u001b[38;5;241m.\u001b[39m_validate_inputs(inputs)\n\u001b[1;32m    156\u001b[0m     outputs \u001b[38;5;241m=\u001b[39m (\n\u001b[0;32m--> 157\u001b[0m         \u001b[38;5;28;43mself\u001b[39;49m\u001b[38;5;241;43m.\u001b[39;49m\u001b[43m_call\u001b[49m\u001b[43m(\u001b[49m\u001b[43minputs\u001b[49m\u001b[43m,\u001b[49m\u001b[43m \u001b[49m\u001b[43mrun_manager\u001b[49m\u001b[38;5;241;43m=\u001b[39;49m\u001b[43mrun_manager\u001b[49m\u001b[43m)\u001b[49m\n\u001b[1;32m    158\u001b[0m         \u001b[38;5;28;01mif\u001b[39;00m new_arg_supported\n\u001b[1;32m    159\u001b[0m         \u001b[38;5;28;01melse\u001b[39;00m \u001b[38;5;28mself\u001b[39m\u001b[38;5;241m.\u001b[39m_call(inputs)\n\u001b[1;32m    160\u001b[0m     )\n\u001b[1;32m    162\u001b[0m     final_outputs: \u001b[38;5;28mdict\u001b[39m[\u001b[38;5;28mstr\u001b[39m, Any] \u001b[38;5;241m=\u001b[39m \u001b[38;5;28mself\u001b[39m\u001b[38;5;241m.\u001b[39mprep_outputs(\n\u001b[1;32m    163\u001b[0m         inputs, outputs, return_only_outputs\n\u001b[1;32m    164\u001b[0m     )\n\u001b[1;32m    165\u001b[0m \u001b[38;5;28;01mexcept\u001b[39;00m \u001b[38;5;167;01mBaseException\u001b[39;00m \u001b[38;5;28;01mas\u001b[39;00m e:\n",
      "File \u001b[0;32m~/.local/lib/python3.10/site-packages/langchain/chains/llm.py:127\u001b[0m, in \u001b[0;36mLLMChain._call\u001b[0;34m(self, inputs, run_manager)\u001b[0m\n\u001b[1;32m    122\u001b[0m \u001b[38;5;28;01mdef\u001b[39;00m\u001b[38;5;250m \u001b[39m\u001b[38;5;21m_call\u001b[39m(\n\u001b[1;32m    123\u001b[0m     \u001b[38;5;28mself\u001b[39m,\n\u001b[1;32m    124\u001b[0m     inputs: \u001b[38;5;28mdict\u001b[39m[\u001b[38;5;28mstr\u001b[39m, Any],\n\u001b[1;32m    125\u001b[0m     run_manager: Optional[CallbackManagerForChainRun] \u001b[38;5;241m=\u001b[39m \u001b[38;5;28;01mNone\u001b[39;00m,\n\u001b[1;32m    126\u001b[0m ) \u001b[38;5;241m-\u001b[39m\u001b[38;5;241m>\u001b[39m \u001b[38;5;28mdict\u001b[39m[\u001b[38;5;28mstr\u001b[39m, \u001b[38;5;28mstr\u001b[39m]:\n\u001b[0;32m--> 127\u001b[0m     response \u001b[38;5;241m=\u001b[39m \u001b[38;5;28;43mself\u001b[39;49m\u001b[38;5;241;43m.\u001b[39;49m\u001b[43mgenerate\u001b[49m\u001b[43m(\u001b[49m\u001b[43m[\u001b[49m\u001b[43minputs\u001b[49m\u001b[43m]\u001b[49m\u001b[43m,\u001b[49m\u001b[43m \u001b[49m\u001b[43mrun_manager\u001b[49m\u001b[38;5;241;43m=\u001b[39;49m\u001b[43mrun_manager\u001b[49m\u001b[43m)\u001b[49m\n\u001b[1;32m    128\u001b[0m     \u001b[38;5;28;01mreturn\u001b[39;00m \u001b[38;5;28mself\u001b[39m\u001b[38;5;241m.\u001b[39mcreate_outputs(response)[\u001b[38;5;241m0\u001b[39m]\n",
      "File \u001b[0;32m~/.local/lib/python3.10/site-packages/langchain/chains/llm.py:139\u001b[0m, in \u001b[0;36mLLMChain.generate\u001b[0;34m(self, input_list, run_manager)\u001b[0m\n\u001b[1;32m    137\u001b[0m callbacks \u001b[38;5;241m=\u001b[39m run_manager\u001b[38;5;241m.\u001b[39mget_child() \u001b[38;5;28;01mif\u001b[39;00m run_manager \u001b[38;5;28;01melse\u001b[39;00m \u001b[38;5;28;01mNone\u001b[39;00m\n\u001b[1;32m    138\u001b[0m \u001b[38;5;28;01mif\u001b[39;00m \u001b[38;5;28misinstance\u001b[39m(\u001b[38;5;28mself\u001b[39m\u001b[38;5;241m.\u001b[39mllm, BaseLanguageModel):\n\u001b[0;32m--> 139\u001b[0m     \u001b[38;5;28;01mreturn\u001b[39;00m \u001b[38;5;28;43mself\u001b[39;49m\u001b[38;5;241;43m.\u001b[39;49m\u001b[43mllm\u001b[49m\u001b[38;5;241;43m.\u001b[39;49m\u001b[43mgenerate_prompt\u001b[49m\u001b[43m(\u001b[49m\n\u001b[1;32m    140\u001b[0m \u001b[43m        \u001b[49m\u001b[43mprompts\u001b[49m\u001b[43m,\u001b[49m\n\u001b[1;32m    141\u001b[0m \u001b[43m        \u001b[49m\u001b[43mstop\u001b[49m\u001b[43m,\u001b[49m\n\u001b[1;32m    142\u001b[0m \u001b[43m        \u001b[49m\u001b[43mcallbacks\u001b[49m\u001b[38;5;241;43m=\u001b[39;49m\u001b[43mcallbacks\u001b[49m\u001b[43m,\u001b[49m\n\u001b[1;32m    143\u001b[0m \u001b[43m        \u001b[49m\u001b[38;5;241;43m*\u001b[39;49m\u001b[38;5;241;43m*\u001b[39;49m\u001b[38;5;28;43mself\u001b[39;49m\u001b[38;5;241;43m.\u001b[39;49m\u001b[43mllm_kwargs\u001b[49m\u001b[43m,\u001b[49m\n\u001b[1;32m    144\u001b[0m \u001b[43m    \u001b[49m\u001b[43m)\u001b[49m\n\u001b[1;32m    145\u001b[0m \u001b[38;5;28;01melse\u001b[39;00m:\n\u001b[1;32m    146\u001b[0m     results \u001b[38;5;241m=\u001b[39m \u001b[38;5;28mself\u001b[39m\u001b[38;5;241m.\u001b[39mllm\u001b[38;5;241m.\u001b[39mbind(stop\u001b[38;5;241m=\u001b[39mstop, \u001b[38;5;241m*\u001b[39m\u001b[38;5;241m*\u001b[39m\u001b[38;5;28mself\u001b[39m\u001b[38;5;241m.\u001b[39mllm_kwargs)\u001b[38;5;241m.\u001b[39mbatch(\n\u001b[1;32m    147\u001b[0m         cast(\u001b[38;5;28mlist\u001b[39m, prompts), {\u001b[38;5;124m\"\u001b[39m\u001b[38;5;124mcallbacks\u001b[39m\u001b[38;5;124m\"\u001b[39m: callbacks}\n\u001b[1;32m    148\u001b[0m     )\n",
      "File \u001b[0;32m~/.local/lib/python3.10/site-packages/langchain_core/language_models/llms.py:764\u001b[0m, in \u001b[0;36mBaseLLM.generate_prompt\u001b[0;34m(self, prompts, stop, callbacks, **kwargs)\u001b[0m\n\u001b[1;32m    755\u001b[0m \u001b[38;5;129m@override\u001b[39m\n\u001b[1;32m    756\u001b[0m \u001b[38;5;28;01mdef\u001b[39;00m\u001b[38;5;250m \u001b[39m\u001b[38;5;21mgenerate_prompt\u001b[39m(\n\u001b[1;32m    757\u001b[0m     \u001b[38;5;28mself\u001b[39m,\n\u001b[0;32m   (...)\u001b[0m\n\u001b[1;32m    761\u001b[0m     \u001b[38;5;241m*\u001b[39m\u001b[38;5;241m*\u001b[39mkwargs: Any,\n\u001b[1;32m    762\u001b[0m ) \u001b[38;5;241m-\u001b[39m\u001b[38;5;241m>\u001b[39m LLMResult:\n\u001b[1;32m    763\u001b[0m     prompt_strings \u001b[38;5;241m=\u001b[39m [p\u001b[38;5;241m.\u001b[39mto_string() \u001b[38;5;28;01mfor\u001b[39;00m p \u001b[38;5;129;01min\u001b[39;00m prompts]\n\u001b[0;32m--> 764\u001b[0m     \u001b[38;5;28;01mreturn\u001b[39;00m \u001b[38;5;28;43mself\u001b[39;49m\u001b[38;5;241;43m.\u001b[39;49m\u001b[43mgenerate\u001b[49m\u001b[43m(\u001b[49m\u001b[43mprompt_strings\u001b[49m\u001b[43m,\u001b[49m\u001b[43m \u001b[49m\u001b[43mstop\u001b[49m\u001b[38;5;241;43m=\u001b[39;49m\u001b[43mstop\u001b[49m\u001b[43m,\u001b[49m\u001b[43m \u001b[49m\u001b[43mcallbacks\u001b[49m\u001b[38;5;241;43m=\u001b[39;49m\u001b[43mcallbacks\u001b[49m\u001b[43m,\u001b[49m\u001b[43m \u001b[49m\u001b[38;5;241;43m*\u001b[39;49m\u001b[38;5;241;43m*\u001b[39;49m\u001b[43mkwargs\u001b[49m\u001b[43m)\u001b[49m\n",
      "File \u001b[0;32m~/.local/lib/python3.10/site-packages/langchain_core/language_models/llms.py:971\u001b[0m, in \u001b[0;36mBaseLLM.generate\u001b[0;34m(self, prompts, stop, callbacks, tags, metadata, run_name, run_id, **kwargs)\u001b[0m\n\u001b[1;32m    956\u001b[0m \u001b[38;5;28;01mif\u001b[39;00m (\u001b[38;5;28mself\u001b[39m\u001b[38;5;241m.\u001b[39mcache \u001b[38;5;129;01mis\u001b[39;00m \u001b[38;5;28;01mNone\u001b[39;00m \u001b[38;5;129;01mand\u001b[39;00m get_llm_cache() \u001b[38;5;129;01mis\u001b[39;00m \u001b[38;5;28;01mNone\u001b[39;00m) \u001b[38;5;129;01mor\u001b[39;00m \u001b[38;5;28mself\u001b[39m\u001b[38;5;241m.\u001b[39mcache \u001b[38;5;129;01mis\u001b[39;00m \u001b[38;5;28;01mFalse\u001b[39;00m:\n\u001b[1;32m    957\u001b[0m     run_managers \u001b[38;5;241m=\u001b[39m [\n\u001b[1;32m    958\u001b[0m         callback_manager\u001b[38;5;241m.\u001b[39mon_llm_start(\n\u001b[1;32m    959\u001b[0m             \u001b[38;5;28mself\u001b[39m\u001b[38;5;241m.\u001b[39m_serialized,\n\u001b[0;32m   (...)\u001b[0m\n\u001b[1;32m    969\u001b[0m         )\n\u001b[1;32m    970\u001b[0m     ]\n\u001b[0;32m--> 971\u001b[0m     \u001b[38;5;28;01mreturn\u001b[39;00m \u001b[38;5;28;43mself\u001b[39;49m\u001b[38;5;241;43m.\u001b[39;49m\u001b[43m_generate_helper\u001b[49m\u001b[43m(\u001b[49m\n\u001b[1;32m    972\u001b[0m \u001b[43m        \u001b[49m\u001b[43mprompts\u001b[49m\u001b[43m,\u001b[49m\n\u001b[1;32m    973\u001b[0m \u001b[43m        \u001b[49m\u001b[43mstop\u001b[49m\u001b[43m,\u001b[49m\n\u001b[1;32m    974\u001b[0m \u001b[43m        \u001b[49m\u001b[43mrun_managers\u001b[49m\u001b[43m,\u001b[49m\n\u001b[1;32m    975\u001b[0m \u001b[43m        \u001b[49m\u001b[43mnew_arg_supported\u001b[49m\u001b[38;5;241;43m=\u001b[39;49m\u001b[38;5;28;43mbool\u001b[39;49m\u001b[43m(\u001b[49m\u001b[43mnew_arg_supported\u001b[49m\u001b[43m)\u001b[49m\u001b[43m,\u001b[49m\n\u001b[1;32m    976\u001b[0m \u001b[43m        \u001b[49m\u001b[38;5;241;43m*\u001b[39;49m\u001b[38;5;241;43m*\u001b[39;49m\u001b[43mkwargs\u001b[49m\u001b[43m,\u001b[49m\n\u001b[1;32m    977\u001b[0m \u001b[43m    \u001b[49m\u001b[43m)\u001b[49m\n\u001b[1;32m    978\u001b[0m \u001b[38;5;28;01mif\u001b[39;00m \u001b[38;5;28mlen\u001b[39m(missing_prompts) \u001b[38;5;241m>\u001b[39m \u001b[38;5;241m0\u001b[39m:\n\u001b[1;32m    979\u001b[0m     run_managers \u001b[38;5;241m=\u001b[39m [\n\u001b[1;32m    980\u001b[0m         callback_managers[idx]\u001b[38;5;241m.\u001b[39mon_llm_start(\n\u001b[1;32m    981\u001b[0m             \u001b[38;5;28mself\u001b[39m\u001b[38;5;241m.\u001b[39m_serialized,\n\u001b[0;32m   (...)\u001b[0m\n\u001b[1;32m    988\u001b[0m         \u001b[38;5;28;01mfor\u001b[39;00m idx \u001b[38;5;129;01min\u001b[39;00m missing_prompt_idxs\n\u001b[1;32m    989\u001b[0m     ]\n",
      "File \u001b[0;32m~/.local/lib/python3.10/site-packages/langchain_core/language_models/llms.py:790\u001b[0m, in \u001b[0;36mBaseLLM._generate_helper\u001b[0;34m(self, prompts, stop, run_managers, new_arg_supported, **kwargs)\u001b[0m\n\u001b[1;32m    779\u001b[0m \u001b[38;5;28;01mdef\u001b[39;00m\u001b[38;5;250m \u001b[39m\u001b[38;5;21m_generate_helper\u001b[39m(\n\u001b[1;32m    780\u001b[0m     \u001b[38;5;28mself\u001b[39m,\n\u001b[1;32m    781\u001b[0m     prompts: \u001b[38;5;28mlist\u001b[39m[\u001b[38;5;28mstr\u001b[39m],\n\u001b[0;32m   (...)\u001b[0m\n\u001b[1;32m    786\u001b[0m     \u001b[38;5;241m*\u001b[39m\u001b[38;5;241m*\u001b[39mkwargs: Any,\n\u001b[1;32m    787\u001b[0m ) \u001b[38;5;241m-\u001b[39m\u001b[38;5;241m>\u001b[39m LLMResult:\n\u001b[1;32m    788\u001b[0m     \u001b[38;5;28;01mtry\u001b[39;00m:\n\u001b[1;32m    789\u001b[0m         output \u001b[38;5;241m=\u001b[39m (\n\u001b[0;32m--> 790\u001b[0m             \u001b[38;5;28;43mself\u001b[39;49m\u001b[38;5;241;43m.\u001b[39;49m\u001b[43m_generate\u001b[49m\u001b[43m(\u001b[49m\n\u001b[1;32m    791\u001b[0m \u001b[43m                \u001b[49m\u001b[43mprompts\u001b[49m\u001b[43m,\u001b[49m\n\u001b[1;32m    792\u001b[0m \u001b[43m                \u001b[49m\u001b[43mstop\u001b[49m\u001b[38;5;241;43m=\u001b[39;49m\u001b[43mstop\u001b[49m\u001b[43m,\u001b[49m\n\u001b[1;32m    793\u001b[0m \u001b[43m                \u001b[49m\u001b[38;5;66;43;03m# TODO: support multiple run managers\u001b[39;49;00m\n\u001b[1;32m    794\u001b[0m \u001b[43m                \u001b[49m\u001b[43mrun_manager\u001b[49m\u001b[38;5;241;43m=\u001b[39;49m\u001b[43mrun_managers\u001b[49m\u001b[43m[\u001b[49m\u001b[38;5;241;43m0\u001b[39;49m\u001b[43m]\u001b[49m\u001b[43m \u001b[49m\u001b[38;5;28;43;01mif\u001b[39;49;00m\u001b[43m \u001b[49m\u001b[43mrun_managers\u001b[49m\u001b[43m \u001b[49m\u001b[38;5;28;43;01melse\u001b[39;49;00m\u001b[43m \u001b[49m\u001b[38;5;28;43;01mNone\u001b[39;49;00m\u001b[43m,\u001b[49m\n\u001b[1;32m    795\u001b[0m \u001b[43m                \u001b[49m\u001b[38;5;241;43m*\u001b[39;49m\u001b[38;5;241;43m*\u001b[39;49m\u001b[43mkwargs\u001b[49m\u001b[43m,\u001b[49m\n\u001b[1;32m    796\u001b[0m \u001b[43m            \u001b[49m\u001b[43m)\u001b[49m\n\u001b[1;32m    797\u001b[0m             \u001b[38;5;28;01mif\u001b[39;00m new_arg_supported\n\u001b[1;32m    798\u001b[0m             \u001b[38;5;28;01melse\u001b[39;00m \u001b[38;5;28mself\u001b[39m\u001b[38;5;241m.\u001b[39m_generate(prompts, stop\u001b[38;5;241m=\u001b[39mstop)\n\u001b[1;32m    799\u001b[0m         )\n\u001b[1;32m    800\u001b[0m     \u001b[38;5;28;01mexcept\u001b[39;00m \u001b[38;5;167;01mBaseException\u001b[39;00m \u001b[38;5;28;01mas\u001b[39;00m e:\n\u001b[1;32m    801\u001b[0m         \u001b[38;5;28;01mfor\u001b[39;00m run_manager \u001b[38;5;129;01min\u001b[39;00m run_managers:\n",
      "File \u001b[0;32m~/.local/lib/python3.10/site-packages/langchain_community/llms/huggingface_pipeline.py:285\u001b[0m, in \u001b[0;36mHuggingFacePipeline._generate\u001b[0;34m(self, prompts, stop, run_manager, **kwargs)\u001b[0m\n\u001b[1;32m    282\u001b[0m batch_prompts \u001b[38;5;241m=\u001b[39m prompts[i : i \u001b[38;5;241m+\u001b[39m \u001b[38;5;28mself\u001b[39m\u001b[38;5;241m.\u001b[39mbatch_size]\n\u001b[1;32m    284\u001b[0m \u001b[38;5;66;03m# Process batch of prompts\u001b[39;00m\n\u001b[0;32m--> 285\u001b[0m responses \u001b[38;5;241m=\u001b[39m \u001b[38;5;28;43mself\u001b[39;49m\u001b[38;5;241;43m.\u001b[39;49m\u001b[43mpipeline\u001b[49m\u001b[43m(\u001b[49m\n\u001b[1;32m    286\u001b[0m \u001b[43m    \u001b[49m\u001b[43mbatch_prompts\u001b[49m\u001b[43m,\u001b[49m\n\u001b[1;32m    287\u001b[0m \u001b[43m    \u001b[49m\u001b[38;5;241;43m*\u001b[39;49m\u001b[38;5;241;43m*\u001b[39;49m\u001b[43mpipeline_kwargs\u001b[49m\u001b[43m,\u001b[49m\n\u001b[1;32m    288\u001b[0m \u001b[43m\u001b[49m\u001b[43m)\u001b[49m\n\u001b[1;32m    290\u001b[0m \u001b[38;5;66;03m# Process each response in the batch\u001b[39;00m\n\u001b[1;32m    291\u001b[0m \u001b[38;5;28;01mfor\u001b[39;00m j, response \u001b[38;5;129;01min\u001b[39;00m \u001b[38;5;28menumerate\u001b[39m(responses):\n",
      "File \u001b[0;32m~/.local/lib/python3.10/site-packages/transformers/pipelines/text_generation.py:287\u001b[0m, in \u001b[0;36mTextGenerationPipeline.__call__\u001b[0;34m(self, text_inputs, **kwargs)\u001b[0m\n\u001b[1;32m    285\u001b[0m             \u001b[38;5;28;01melse\u001b[39;00m:\n\u001b[1;32m    286\u001b[0m                 \u001b[38;5;28;01mreturn\u001b[39;00m \u001b[38;5;28msuper\u001b[39m()\u001b[38;5;241m.\u001b[39m\u001b[38;5;21m__call__\u001b[39m(\u001b[38;5;28mlist\u001b[39m(chats), \u001b[38;5;241m*\u001b[39m\u001b[38;5;241m*\u001b[39mkwargs)\n\u001b[0;32m--> 287\u001b[0m \u001b[38;5;28;01mreturn\u001b[39;00m \u001b[38;5;28;43msuper\u001b[39;49m\u001b[43m(\u001b[49m\u001b[43m)\u001b[49m\u001b[38;5;241;43m.\u001b[39;49m\u001b[38;5;21;43m__call__\u001b[39;49m\u001b[43m(\u001b[49m\u001b[43mtext_inputs\u001b[49m\u001b[43m,\u001b[49m\u001b[43m \u001b[49m\u001b[38;5;241;43m*\u001b[39;49m\u001b[38;5;241;43m*\u001b[39;49m\u001b[43mkwargs\u001b[49m\u001b[43m)\u001b[49m\n",
      "File \u001b[0;32m~/.local/lib/python3.10/site-packages/transformers/pipelines/base.py:1360\u001b[0m, in \u001b[0;36mPipeline.__call__\u001b[0;34m(self, inputs, num_workers, batch_size, *args, **kwargs)\u001b[0m\n\u001b[1;32m   1356\u001b[0m \u001b[38;5;28;01mif\u001b[39;00m can_use_iterator:\n\u001b[1;32m   1357\u001b[0m     final_iterator \u001b[38;5;241m=\u001b[39m \u001b[38;5;28mself\u001b[39m\u001b[38;5;241m.\u001b[39mget_iterator(\n\u001b[1;32m   1358\u001b[0m         inputs, num_workers, batch_size, preprocess_params, forward_params, postprocess_params\n\u001b[1;32m   1359\u001b[0m     )\n\u001b[0;32m-> 1360\u001b[0m     outputs \u001b[38;5;241m=\u001b[39m \u001b[38;5;28;43mlist\u001b[39;49m\u001b[43m(\u001b[49m\u001b[43mfinal_iterator\u001b[49m\u001b[43m)\u001b[49m\n\u001b[1;32m   1361\u001b[0m     \u001b[38;5;28;01mreturn\u001b[39;00m outputs\n\u001b[1;32m   1362\u001b[0m \u001b[38;5;28;01melse\u001b[39;00m:\n",
      "File \u001b[0;32m~/.local/lib/python3.10/site-packages/transformers/pipelines/pt_utils.py:124\u001b[0m, in \u001b[0;36mPipelineIterator.__next__\u001b[0;34m(self)\u001b[0m\n\u001b[1;32m    121\u001b[0m     \u001b[38;5;28;01mreturn\u001b[39;00m \u001b[38;5;28mself\u001b[39m\u001b[38;5;241m.\u001b[39mloader_batch_item()\n\u001b[1;32m    123\u001b[0m \u001b[38;5;66;03m# We're out of items within a batch\u001b[39;00m\n\u001b[0;32m--> 124\u001b[0m item \u001b[38;5;241m=\u001b[39m \u001b[38;5;28;43mnext\u001b[39;49m\u001b[43m(\u001b[49m\u001b[38;5;28;43mself\u001b[39;49m\u001b[38;5;241;43m.\u001b[39;49m\u001b[43miterator\u001b[49m\u001b[43m)\u001b[49m\n\u001b[1;32m    125\u001b[0m processed \u001b[38;5;241m=\u001b[39m \u001b[38;5;28mself\u001b[39m\u001b[38;5;241m.\u001b[39minfer(item, \u001b[38;5;241m*\u001b[39m\u001b[38;5;241m*\u001b[39m\u001b[38;5;28mself\u001b[39m\u001b[38;5;241m.\u001b[39mparams)\n\u001b[1;32m    126\u001b[0m \u001b[38;5;66;03m# We now have a batch of \"inferred things\".\u001b[39;00m\n",
      "File \u001b[0;32m~/.local/lib/python3.10/site-packages/transformers/pipelines/pt_utils.py:125\u001b[0m, in \u001b[0;36mPipelineIterator.__next__\u001b[0;34m(self)\u001b[0m\n\u001b[1;32m    123\u001b[0m \u001b[38;5;66;03m# We're out of items within a batch\u001b[39;00m\n\u001b[1;32m    124\u001b[0m item \u001b[38;5;241m=\u001b[39m \u001b[38;5;28mnext\u001b[39m(\u001b[38;5;28mself\u001b[39m\u001b[38;5;241m.\u001b[39miterator)\n\u001b[0;32m--> 125\u001b[0m processed \u001b[38;5;241m=\u001b[39m \u001b[38;5;28;43mself\u001b[39;49m\u001b[38;5;241;43m.\u001b[39;49m\u001b[43minfer\u001b[49m\u001b[43m(\u001b[49m\u001b[43mitem\u001b[49m\u001b[43m,\u001b[49m\u001b[43m \u001b[49m\u001b[38;5;241;43m*\u001b[39;49m\u001b[38;5;241;43m*\u001b[39;49m\u001b[38;5;28;43mself\u001b[39;49m\u001b[38;5;241;43m.\u001b[39;49m\u001b[43mparams\u001b[49m\u001b[43m)\u001b[49m\n\u001b[1;32m    126\u001b[0m \u001b[38;5;66;03m# We now have a batch of \"inferred things\".\u001b[39;00m\n\u001b[1;32m    127\u001b[0m \u001b[38;5;28;01mif\u001b[39;00m \u001b[38;5;28mself\u001b[39m\u001b[38;5;241m.\u001b[39mloader_batch_size \u001b[38;5;129;01mis\u001b[39;00m \u001b[38;5;129;01mnot\u001b[39;00m \u001b[38;5;28;01mNone\u001b[39;00m:\n\u001b[1;32m    128\u001b[0m     \u001b[38;5;66;03m# Try to infer the size of the batch\u001b[39;00m\n",
      "File \u001b[0;32m~/.local/lib/python3.10/site-packages/transformers/pipelines/base.py:1286\u001b[0m, in \u001b[0;36mPipeline.forward\u001b[0;34m(self, model_inputs, **forward_params)\u001b[0m\n\u001b[1;32m   1284\u001b[0m     \u001b[38;5;28;01mwith\u001b[39;00m inference_context():\n\u001b[1;32m   1285\u001b[0m         model_inputs \u001b[38;5;241m=\u001b[39m \u001b[38;5;28mself\u001b[39m\u001b[38;5;241m.\u001b[39m_ensure_tensor_on_device(model_inputs, device\u001b[38;5;241m=\u001b[39m\u001b[38;5;28mself\u001b[39m\u001b[38;5;241m.\u001b[39mdevice)\n\u001b[0;32m-> 1286\u001b[0m         model_outputs \u001b[38;5;241m=\u001b[39m \u001b[38;5;28;43mself\u001b[39;49m\u001b[38;5;241;43m.\u001b[39;49m\u001b[43m_forward\u001b[49m\u001b[43m(\u001b[49m\u001b[43mmodel_inputs\u001b[49m\u001b[43m,\u001b[49m\u001b[43m \u001b[49m\u001b[38;5;241;43m*\u001b[39;49m\u001b[38;5;241;43m*\u001b[39;49m\u001b[43mforward_params\u001b[49m\u001b[43m)\u001b[49m\n\u001b[1;32m   1287\u001b[0m         model_outputs \u001b[38;5;241m=\u001b[39m \u001b[38;5;28mself\u001b[39m\u001b[38;5;241m.\u001b[39m_ensure_tensor_on_device(model_outputs, device\u001b[38;5;241m=\u001b[39mtorch\u001b[38;5;241m.\u001b[39mdevice(\u001b[38;5;124m\"\u001b[39m\u001b[38;5;124mcpu\u001b[39m\u001b[38;5;124m\"\u001b[39m))\n\u001b[1;32m   1288\u001b[0m \u001b[38;5;28;01melse\u001b[39;00m:\n",
      "File \u001b[0;32m~/.local/lib/python3.10/site-packages/transformers/pipelines/text_generation.py:385\u001b[0m, in \u001b[0;36mTextGenerationPipeline._forward\u001b[0;34m(self, model_inputs, **generate_kwargs)\u001b[0m\n\u001b[1;32m    382\u001b[0m \u001b[38;5;28;01mif\u001b[39;00m \u001b[38;5;124m\"\u001b[39m\u001b[38;5;124mgeneration_config\u001b[39m\u001b[38;5;124m\"\u001b[39m \u001b[38;5;129;01mnot\u001b[39;00m \u001b[38;5;129;01min\u001b[39;00m generate_kwargs:\n\u001b[1;32m    383\u001b[0m     generate_kwargs[\u001b[38;5;124m\"\u001b[39m\u001b[38;5;124mgeneration_config\u001b[39m\u001b[38;5;124m\"\u001b[39m] \u001b[38;5;241m=\u001b[39m \u001b[38;5;28mself\u001b[39m\u001b[38;5;241m.\u001b[39mgeneration_config\n\u001b[0;32m--> 385\u001b[0m output \u001b[38;5;241m=\u001b[39m \u001b[38;5;28;43mself\u001b[39;49m\u001b[38;5;241;43m.\u001b[39;49m\u001b[43mmodel\u001b[49m\u001b[38;5;241;43m.\u001b[39;49m\u001b[43mgenerate\u001b[49m\u001b[43m(\u001b[49m\u001b[43minput_ids\u001b[49m\u001b[38;5;241;43m=\u001b[39;49m\u001b[43minput_ids\u001b[49m\u001b[43m,\u001b[49m\u001b[43m \u001b[49m\u001b[43mattention_mask\u001b[49m\u001b[38;5;241;43m=\u001b[39;49m\u001b[43mattention_mask\u001b[49m\u001b[43m,\u001b[49m\u001b[43m \u001b[49m\u001b[38;5;241;43m*\u001b[39;49m\u001b[38;5;241;43m*\u001b[39;49m\u001b[43mgenerate_kwargs\u001b[49m\u001b[43m)\u001b[49m\n\u001b[1;32m    387\u001b[0m \u001b[38;5;28;01mif\u001b[39;00m \u001b[38;5;28misinstance\u001b[39m(output, ModelOutput):\n\u001b[1;32m    388\u001b[0m     generated_sequence \u001b[38;5;241m=\u001b[39m output\u001b[38;5;241m.\u001b[39msequences\n",
      "File \u001b[0;32m~/.local/lib/python3.10/site-packages/torch/utils/_contextlib.py:116\u001b[0m, in \u001b[0;36mcontext_decorator.<locals>.decorate_context\u001b[0;34m(*args, **kwargs)\u001b[0m\n\u001b[1;32m    113\u001b[0m \u001b[38;5;129m@functools\u001b[39m\u001b[38;5;241m.\u001b[39mwraps(func)\n\u001b[1;32m    114\u001b[0m \u001b[38;5;28;01mdef\u001b[39;00m\u001b[38;5;250m \u001b[39m\u001b[38;5;21mdecorate_context\u001b[39m(\u001b[38;5;241m*\u001b[39margs, \u001b[38;5;241m*\u001b[39m\u001b[38;5;241m*\u001b[39mkwargs):\n\u001b[1;32m    115\u001b[0m     \u001b[38;5;28;01mwith\u001b[39;00m ctx_factory():\n\u001b[0;32m--> 116\u001b[0m         \u001b[38;5;28;01mreturn\u001b[39;00m \u001b[43mfunc\u001b[49m\u001b[43m(\u001b[49m\u001b[38;5;241;43m*\u001b[39;49m\u001b[43margs\u001b[49m\u001b[43m,\u001b[49m\u001b[43m \u001b[49m\u001b[38;5;241;43m*\u001b[39;49m\u001b[38;5;241;43m*\u001b[39;49m\u001b[43mkwargs\u001b[49m\u001b[43m)\u001b[49m\n",
      "File \u001b[0;32m~/.local/lib/python3.10/site-packages/transformers/generation/utils.py:2465\u001b[0m, in \u001b[0;36mGenerationMixin.generate\u001b[0;34m(self, inputs, generation_config, logits_processor, stopping_criteria, prefix_allowed_tokens_fn, synced_gpus, assistant_model, streamer, negative_prompt_ids, negative_prompt_attention_mask, use_model_defaults, **kwargs)\u001b[0m\n\u001b[1;32m   2457\u001b[0m     input_ids, model_kwargs \u001b[38;5;241m=\u001b[39m \u001b[38;5;28mself\u001b[39m\u001b[38;5;241m.\u001b[39m_expand_inputs_for_generation(\n\u001b[1;32m   2458\u001b[0m         input_ids\u001b[38;5;241m=\u001b[39minput_ids,\n\u001b[1;32m   2459\u001b[0m         expand_size\u001b[38;5;241m=\u001b[39mgeneration_config\u001b[38;5;241m.\u001b[39mnum_return_sequences,\n\u001b[1;32m   2460\u001b[0m         is_encoder_decoder\u001b[38;5;241m=\u001b[39m\u001b[38;5;28mself\u001b[39m\u001b[38;5;241m.\u001b[39mconfig\u001b[38;5;241m.\u001b[39mis_encoder_decoder,\n\u001b[1;32m   2461\u001b[0m         \u001b[38;5;241m*\u001b[39m\u001b[38;5;241m*\u001b[39mmodel_kwargs,\n\u001b[1;32m   2462\u001b[0m     )\n\u001b[1;32m   2464\u001b[0m     \u001b[38;5;66;03m# 12. run sample (it degenerates to greedy search when `generation_config.do_sample=False`)\u001b[39;00m\n\u001b[0;32m-> 2465\u001b[0m     result \u001b[38;5;241m=\u001b[39m \u001b[38;5;28;43mself\u001b[39;49m\u001b[38;5;241;43m.\u001b[39;49m\u001b[43m_sample\u001b[49m\u001b[43m(\u001b[49m\n\u001b[1;32m   2466\u001b[0m \u001b[43m        \u001b[49m\u001b[43minput_ids\u001b[49m\u001b[43m,\u001b[49m\n\u001b[1;32m   2467\u001b[0m \u001b[43m        \u001b[49m\u001b[43mlogits_processor\u001b[49m\u001b[38;5;241;43m=\u001b[39;49m\u001b[43mprepared_logits_processor\u001b[49m\u001b[43m,\u001b[49m\n\u001b[1;32m   2468\u001b[0m \u001b[43m        \u001b[49m\u001b[43mstopping_criteria\u001b[49m\u001b[38;5;241;43m=\u001b[39;49m\u001b[43mprepared_stopping_criteria\u001b[49m\u001b[43m,\u001b[49m\n\u001b[1;32m   2469\u001b[0m \u001b[43m        \u001b[49m\u001b[43mgeneration_config\u001b[49m\u001b[38;5;241;43m=\u001b[39;49m\u001b[43mgeneration_config\u001b[49m\u001b[43m,\u001b[49m\n\u001b[1;32m   2470\u001b[0m \u001b[43m        \u001b[49m\u001b[43msynced_gpus\u001b[49m\u001b[38;5;241;43m=\u001b[39;49m\u001b[43msynced_gpus\u001b[49m\u001b[43m,\u001b[49m\n\u001b[1;32m   2471\u001b[0m \u001b[43m        \u001b[49m\u001b[43mstreamer\u001b[49m\u001b[38;5;241;43m=\u001b[39;49m\u001b[43mstreamer\u001b[49m\u001b[43m,\u001b[49m\n\u001b[1;32m   2472\u001b[0m \u001b[43m        \u001b[49m\u001b[38;5;241;43m*\u001b[39;49m\u001b[38;5;241;43m*\u001b[39;49m\u001b[43mmodel_kwargs\u001b[49m\u001b[43m,\u001b[49m\n\u001b[1;32m   2473\u001b[0m \u001b[43m    \u001b[49m\u001b[43m)\u001b[49m\n\u001b[1;32m   2475\u001b[0m \u001b[38;5;28;01melif\u001b[39;00m generation_mode \u001b[38;5;129;01min\u001b[39;00m (GenerationMode\u001b[38;5;241m.\u001b[39mBEAM_SAMPLE, GenerationMode\u001b[38;5;241m.\u001b[39mBEAM_SEARCH):\n\u001b[1;32m   2476\u001b[0m     \u001b[38;5;66;03m# 11. interleave input_ids with `num_beams` additional sequences per batch\u001b[39;00m\n\u001b[1;32m   2477\u001b[0m     input_ids, model_kwargs \u001b[38;5;241m=\u001b[39m \u001b[38;5;28mself\u001b[39m\u001b[38;5;241m.\u001b[39m_expand_inputs_for_generation(\n\u001b[1;32m   2478\u001b[0m         input_ids\u001b[38;5;241m=\u001b[39minput_ids,\n\u001b[1;32m   2479\u001b[0m         expand_size\u001b[38;5;241m=\u001b[39mgeneration_config\u001b[38;5;241m.\u001b[39mnum_beams,\n\u001b[1;32m   2480\u001b[0m         is_encoder_decoder\u001b[38;5;241m=\u001b[39m\u001b[38;5;28mself\u001b[39m\u001b[38;5;241m.\u001b[39mconfig\u001b[38;5;241m.\u001b[39mis_encoder_decoder,\n\u001b[1;32m   2481\u001b[0m         \u001b[38;5;241m*\u001b[39m\u001b[38;5;241m*\u001b[39mmodel_kwargs,\n\u001b[1;32m   2482\u001b[0m     )\n",
      "File \u001b[0;32m~/.local/lib/python3.10/site-packages/transformers/generation/utils.py:3434\u001b[0m, in \u001b[0;36mGenerationMixin._sample\u001b[0;34m(self, input_ids, logits_processor, stopping_criteria, generation_config, synced_gpus, streamer, **model_kwargs)\u001b[0m\n\u001b[1;32m   3432\u001b[0m     is_prefill \u001b[38;5;241m=\u001b[39m \u001b[38;5;28;01mFalse\u001b[39;00m\n\u001b[1;32m   3433\u001b[0m \u001b[38;5;28;01melse\u001b[39;00m:\n\u001b[0;32m-> 3434\u001b[0m     outputs \u001b[38;5;241m=\u001b[39m \u001b[43mmodel_forward\u001b[49m\u001b[43m(\u001b[49m\u001b[38;5;241;43m*\u001b[39;49m\u001b[38;5;241;43m*\u001b[39;49m\u001b[43mmodel_inputs\u001b[49m\u001b[43m,\u001b[49m\u001b[43m \u001b[49m\u001b[43mreturn_dict\u001b[49m\u001b[38;5;241;43m=\u001b[39;49m\u001b[38;5;28;43;01mTrue\u001b[39;49;00m\u001b[43m)\u001b[49m\n\u001b[1;32m   3436\u001b[0m \u001b[38;5;66;03m# synced_gpus: don't waste resources running the code we don't need; kwargs must be updated before skipping\u001b[39;00m\n\u001b[1;32m   3437\u001b[0m model_kwargs \u001b[38;5;241m=\u001b[39m \u001b[38;5;28mself\u001b[39m\u001b[38;5;241m.\u001b[39m_update_model_kwargs_for_generation(\n\u001b[1;32m   3438\u001b[0m     outputs,\n\u001b[1;32m   3439\u001b[0m     model_kwargs,\n\u001b[1;32m   3440\u001b[0m     is_encoder_decoder\u001b[38;5;241m=\u001b[39m\u001b[38;5;28mself\u001b[39m\u001b[38;5;241m.\u001b[39mconfig\u001b[38;5;241m.\u001b[39mis_encoder_decoder,\n\u001b[1;32m   3441\u001b[0m )\n",
      "File \u001b[0;32m~/.local/lib/python3.10/site-packages/torch/nn/modules/module.py:1736\u001b[0m, in \u001b[0;36mModule._wrapped_call_impl\u001b[0;34m(self, *args, **kwargs)\u001b[0m\n\u001b[1;32m   1734\u001b[0m     \u001b[38;5;28;01mreturn\u001b[39;00m \u001b[38;5;28mself\u001b[39m\u001b[38;5;241m.\u001b[39m_compiled_call_impl(\u001b[38;5;241m*\u001b[39margs, \u001b[38;5;241m*\u001b[39m\u001b[38;5;241m*\u001b[39mkwargs)  \u001b[38;5;66;03m# type: ignore[misc]\u001b[39;00m\n\u001b[1;32m   1735\u001b[0m \u001b[38;5;28;01melse\u001b[39;00m:\n\u001b[0;32m-> 1736\u001b[0m     \u001b[38;5;28;01mreturn\u001b[39;00m \u001b[38;5;28;43mself\u001b[39;49m\u001b[38;5;241;43m.\u001b[39;49m\u001b[43m_call_impl\u001b[49m\u001b[43m(\u001b[49m\u001b[38;5;241;43m*\u001b[39;49m\u001b[43margs\u001b[49m\u001b[43m,\u001b[49m\u001b[43m \u001b[49m\u001b[38;5;241;43m*\u001b[39;49m\u001b[38;5;241;43m*\u001b[39;49m\u001b[43mkwargs\u001b[49m\u001b[43m)\u001b[49m\n",
      "File \u001b[0;32m~/.local/lib/python3.10/site-packages/torch/nn/modules/module.py:1747\u001b[0m, in \u001b[0;36mModule._call_impl\u001b[0;34m(self, *args, **kwargs)\u001b[0m\n\u001b[1;32m   1742\u001b[0m \u001b[38;5;66;03m# If we don't have any hooks, we want to skip the rest of the logic in\u001b[39;00m\n\u001b[1;32m   1743\u001b[0m \u001b[38;5;66;03m# this function, and just call forward.\u001b[39;00m\n\u001b[1;32m   1744\u001b[0m \u001b[38;5;28;01mif\u001b[39;00m \u001b[38;5;129;01mnot\u001b[39;00m (\u001b[38;5;28mself\u001b[39m\u001b[38;5;241m.\u001b[39m_backward_hooks \u001b[38;5;129;01mor\u001b[39;00m \u001b[38;5;28mself\u001b[39m\u001b[38;5;241m.\u001b[39m_backward_pre_hooks \u001b[38;5;129;01mor\u001b[39;00m \u001b[38;5;28mself\u001b[39m\u001b[38;5;241m.\u001b[39m_forward_hooks \u001b[38;5;129;01mor\u001b[39;00m \u001b[38;5;28mself\u001b[39m\u001b[38;5;241m.\u001b[39m_forward_pre_hooks\n\u001b[1;32m   1745\u001b[0m         \u001b[38;5;129;01mor\u001b[39;00m _global_backward_pre_hooks \u001b[38;5;129;01mor\u001b[39;00m _global_backward_hooks\n\u001b[1;32m   1746\u001b[0m         \u001b[38;5;129;01mor\u001b[39;00m _global_forward_hooks \u001b[38;5;129;01mor\u001b[39;00m _global_forward_pre_hooks):\n\u001b[0;32m-> 1747\u001b[0m     \u001b[38;5;28;01mreturn\u001b[39;00m \u001b[43mforward_call\u001b[49m\u001b[43m(\u001b[49m\u001b[38;5;241;43m*\u001b[39;49m\u001b[43margs\u001b[49m\u001b[43m,\u001b[49m\u001b[43m \u001b[49m\u001b[38;5;241;43m*\u001b[39;49m\u001b[38;5;241;43m*\u001b[39;49m\u001b[43mkwargs\u001b[49m\u001b[43m)\u001b[49m\n\u001b[1;32m   1749\u001b[0m result \u001b[38;5;241m=\u001b[39m \u001b[38;5;28;01mNone\u001b[39;00m\n\u001b[1;32m   1750\u001b[0m called_always_called_hooks \u001b[38;5;241m=\u001b[39m \u001b[38;5;28mset\u001b[39m()\n",
      "File \u001b[0;32m~/.local/lib/python3.10/site-packages/transformers/models/gpt2/modeling_gpt2.py:1062\u001b[0m, in \u001b[0;36mGPT2LMHeadModel.forward\u001b[0;34m(self, input_ids, past_key_values, attention_mask, token_type_ids, position_ids, head_mask, inputs_embeds, encoder_hidden_states, encoder_attention_mask, labels, use_cache, output_attentions, output_hidden_states, return_dict, **kwargs)\u001b[0m\n\u001b[1;32m   1054\u001b[0m \u001b[38;5;250m\u001b[39m\u001b[38;5;124mr\u001b[39m\u001b[38;5;124;03m\"\"\"\u001b[39;00m\n\u001b[1;32m   1055\u001b[0m \u001b[38;5;124;03mlabels (`torch.LongTensor` of shape `(batch_size, sequence_length)`, *optional*):\u001b[39;00m\n\u001b[1;32m   1056\u001b[0m \u001b[38;5;124;03m    Labels for language modeling. Note that the labels **are shifted** inside the model, i.e. you can set\u001b[39;00m\n\u001b[1;32m   1057\u001b[0m \u001b[38;5;124;03m    `labels = input_ids` Indices are selected in `[-100, 0, ..., config.vocab_size]` All labels set to `-100`\u001b[39;00m\n\u001b[1;32m   1058\u001b[0m \u001b[38;5;124;03m    are ignored (masked), the loss is only computed for labels in `[0, ..., config.vocab_size]`\u001b[39;00m\n\u001b[1;32m   1059\u001b[0m \u001b[38;5;124;03m\"\"\"\u001b[39;00m\n\u001b[1;32m   1060\u001b[0m return_dict \u001b[38;5;241m=\u001b[39m return_dict \u001b[38;5;28;01mif\u001b[39;00m return_dict \u001b[38;5;129;01mis\u001b[39;00m \u001b[38;5;129;01mnot\u001b[39;00m \u001b[38;5;28;01mNone\u001b[39;00m \u001b[38;5;28;01melse\u001b[39;00m \u001b[38;5;28mself\u001b[39m\u001b[38;5;241m.\u001b[39mconfig\u001b[38;5;241m.\u001b[39muse_return_dict\n\u001b[0;32m-> 1062\u001b[0m transformer_outputs \u001b[38;5;241m=\u001b[39m \u001b[38;5;28;43mself\u001b[39;49m\u001b[38;5;241;43m.\u001b[39;49m\u001b[43mtransformer\u001b[49m\u001b[43m(\u001b[49m\n\u001b[1;32m   1063\u001b[0m \u001b[43m    \u001b[49m\u001b[43minput_ids\u001b[49m\u001b[43m,\u001b[49m\n\u001b[1;32m   1064\u001b[0m \u001b[43m    \u001b[49m\u001b[43mpast_key_values\u001b[49m\u001b[38;5;241;43m=\u001b[39;49m\u001b[43mpast_key_values\u001b[49m\u001b[43m,\u001b[49m\n\u001b[1;32m   1065\u001b[0m \u001b[43m    \u001b[49m\u001b[43mattention_mask\u001b[49m\u001b[38;5;241;43m=\u001b[39;49m\u001b[43mattention_mask\u001b[49m\u001b[43m,\u001b[49m\n\u001b[1;32m   1066\u001b[0m \u001b[43m    \u001b[49m\u001b[43mtoken_type_ids\u001b[49m\u001b[38;5;241;43m=\u001b[39;49m\u001b[43mtoken_type_ids\u001b[49m\u001b[43m,\u001b[49m\n\u001b[1;32m   1067\u001b[0m \u001b[43m    \u001b[49m\u001b[43mposition_ids\u001b[49m\u001b[38;5;241;43m=\u001b[39;49m\u001b[43mposition_ids\u001b[49m\u001b[43m,\u001b[49m\n\u001b[1;32m   1068\u001b[0m \u001b[43m    \u001b[49m\u001b[43mhead_mask\u001b[49m\u001b[38;5;241;43m=\u001b[39;49m\u001b[43mhead_mask\u001b[49m\u001b[43m,\u001b[49m\n\u001b[1;32m   1069\u001b[0m \u001b[43m    \u001b[49m\u001b[43minputs_embeds\u001b[49m\u001b[38;5;241;43m=\u001b[39;49m\u001b[43minputs_embeds\u001b[49m\u001b[43m,\u001b[49m\n\u001b[1;32m   1070\u001b[0m \u001b[43m    \u001b[49m\u001b[43mencoder_hidden_states\u001b[49m\u001b[38;5;241;43m=\u001b[39;49m\u001b[43mencoder_hidden_states\u001b[49m\u001b[43m,\u001b[49m\n\u001b[1;32m   1071\u001b[0m \u001b[43m    \u001b[49m\u001b[43mencoder_attention_mask\u001b[49m\u001b[38;5;241;43m=\u001b[39;49m\u001b[43mencoder_attention_mask\u001b[49m\u001b[43m,\u001b[49m\n\u001b[1;32m   1072\u001b[0m \u001b[43m    \u001b[49m\u001b[43muse_cache\u001b[49m\u001b[38;5;241;43m=\u001b[39;49m\u001b[43muse_cache\u001b[49m\u001b[43m,\u001b[49m\n\u001b[1;32m   1073\u001b[0m \u001b[43m    \u001b[49m\u001b[43moutput_attentions\u001b[49m\u001b[38;5;241;43m=\u001b[39;49m\u001b[43moutput_attentions\u001b[49m\u001b[43m,\u001b[49m\n\u001b[1;32m   1074\u001b[0m \u001b[43m    \u001b[49m\u001b[43moutput_hidden_states\u001b[49m\u001b[38;5;241;43m=\u001b[39;49m\u001b[43moutput_hidden_states\u001b[49m\u001b[43m,\u001b[49m\n\u001b[1;32m   1075\u001b[0m \u001b[43m    \u001b[49m\u001b[43mreturn_dict\u001b[49m\u001b[38;5;241;43m=\u001b[39;49m\u001b[43mreturn_dict\u001b[49m\u001b[43m,\u001b[49m\n\u001b[1;32m   1076\u001b[0m \u001b[43m\u001b[49m\u001b[43m)\u001b[49m\n\u001b[1;32m   1077\u001b[0m hidden_states \u001b[38;5;241m=\u001b[39m transformer_outputs[\u001b[38;5;241m0\u001b[39m]\n\u001b[1;32m   1079\u001b[0m \u001b[38;5;66;03m# Set device for model parallelism\u001b[39;00m\n",
      "File \u001b[0;32m~/.local/lib/python3.10/site-packages/torch/nn/modules/module.py:1736\u001b[0m, in \u001b[0;36mModule._wrapped_call_impl\u001b[0;34m(self, *args, **kwargs)\u001b[0m\n\u001b[1;32m   1734\u001b[0m     \u001b[38;5;28;01mreturn\u001b[39;00m \u001b[38;5;28mself\u001b[39m\u001b[38;5;241m.\u001b[39m_compiled_call_impl(\u001b[38;5;241m*\u001b[39margs, \u001b[38;5;241m*\u001b[39m\u001b[38;5;241m*\u001b[39mkwargs)  \u001b[38;5;66;03m# type: ignore[misc]\u001b[39;00m\n\u001b[1;32m   1735\u001b[0m \u001b[38;5;28;01melse\u001b[39;00m:\n\u001b[0;32m-> 1736\u001b[0m     \u001b[38;5;28;01mreturn\u001b[39;00m \u001b[38;5;28;43mself\u001b[39;49m\u001b[38;5;241;43m.\u001b[39;49m\u001b[43m_call_impl\u001b[49m\u001b[43m(\u001b[49m\u001b[38;5;241;43m*\u001b[39;49m\u001b[43margs\u001b[49m\u001b[43m,\u001b[49m\u001b[43m \u001b[49m\u001b[38;5;241;43m*\u001b[39;49m\u001b[38;5;241;43m*\u001b[39;49m\u001b[43mkwargs\u001b[49m\u001b[43m)\u001b[49m\n",
      "File \u001b[0;32m~/.local/lib/python3.10/site-packages/torch/nn/modules/module.py:1747\u001b[0m, in \u001b[0;36mModule._call_impl\u001b[0;34m(self, *args, **kwargs)\u001b[0m\n\u001b[1;32m   1742\u001b[0m \u001b[38;5;66;03m# If we don't have any hooks, we want to skip the rest of the logic in\u001b[39;00m\n\u001b[1;32m   1743\u001b[0m \u001b[38;5;66;03m# this function, and just call forward.\u001b[39;00m\n\u001b[1;32m   1744\u001b[0m \u001b[38;5;28;01mif\u001b[39;00m \u001b[38;5;129;01mnot\u001b[39;00m (\u001b[38;5;28mself\u001b[39m\u001b[38;5;241m.\u001b[39m_backward_hooks \u001b[38;5;129;01mor\u001b[39;00m \u001b[38;5;28mself\u001b[39m\u001b[38;5;241m.\u001b[39m_backward_pre_hooks \u001b[38;5;129;01mor\u001b[39;00m \u001b[38;5;28mself\u001b[39m\u001b[38;5;241m.\u001b[39m_forward_hooks \u001b[38;5;129;01mor\u001b[39;00m \u001b[38;5;28mself\u001b[39m\u001b[38;5;241m.\u001b[39m_forward_pre_hooks\n\u001b[1;32m   1745\u001b[0m         \u001b[38;5;129;01mor\u001b[39;00m _global_backward_pre_hooks \u001b[38;5;129;01mor\u001b[39;00m _global_backward_hooks\n\u001b[1;32m   1746\u001b[0m         \u001b[38;5;129;01mor\u001b[39;00m _global_forward_hooks \u001b[38;5;129;01mor\u001b[39;00m _global_forward_pre_hooks):\n\u001b[0;32m-> 1747\u001b[0m     \u001b[38;5;28;01mreturn\u001b[39;00m \u001b[43mforward_call\u001b[49m\u001b[43m(\u001b[49m\u001b[38;5;241;43m*\u001b[39;49m\u001b[43margs\u001b[49m\u001b[43m,\u001b[49m\u001b[43m \u001b[49m\u001b[38;5;241;43m*\u001b[39;49m\u001b[38;5;241;43m*\u001b[39;49m\u001b[43mkwargs\u001b[49m\u001b[43m)\u001b[49m\n\u001b[1;32m   1749\u001b[0m result \u001b[38;5;241m=\u001b[39m \u001b[38;5;28;01mNone\u001b[39;00m\n\u001b[1;32m   1750\u001b[0m called_always_called_hooks \u001b[38;5;241m=\u001b[39m \u001b[38;5;28mset\u001b[39m()\n",
      "File \u001b[0;32m~/.local/lib/python3.10/site-packages/transformers/models/gpt2/modeling_gpt2.py:820\u001b[0m, in \u001b[0;36mGPT2Model.forward\u001b[0;34m(self, input_ids, past_key_values, attention_mask, token_type_ids, position_ids, head_mask, inputs_embeds, encoder_hidden_states, encoder_attention_mask, use_cache, output_attentions, output_hidden_states, return_dict)\u001b[0m\n\u001b[1;32m    818\u001b[0m \u001b[38;5;28;01mif\u001b[39;00m inputs_embeds \u001b[38;5;129;01mis\u001b[39;00m \u001b[38;5;28;01mNone\u001b[39;00m:\n\u001b[1;32m    819\u001b[0m     inputs_embeds \u001b[38;5;241m=\u001b[39m \u001b[38;5;28mself\u001b[39m\u001b[38;5;241m.\u001b[39mwte(input_ids)\n\u001b[0;32m--> 820\u001b[0m position_embeds \u001b[38;5;241m=\u001b[39m \u001b[38;5;28;43mself\u001b[39;49m\u001b[38;5;241;43m.\u001b[39;49m\u001b[43mwpe\u001b[49m\u001b[43m(\u001b[49m\u001b[43mposition_ids\u001b[49m\u001b[43m)\u001b[49m\n\u001b[1;32m    821\u001b[0m hidden_states \u001b[38;5;241m=\u001b[39m inputs_embeds \u001b[38;5;241m+\u001b[39m position_embeds\u001b[38;5;241m.\u001b[39mto(inputs_embeds\u001b[38;5;241m.\u001b[39mdevice)\n\u001b[1;32m    823\u001b[0m \u001b[38;5;66;03m# Attention mask.\u001b[39;00m\n",
      "File \u001b[0;32m~/.local/lib/python3.10/site-packages/torch/nn/modules/module.py:1736\u001b[0m, in \u001b[0;36mModule._wrapped_call_impl\u001b[0;34m(self, *args, **kwargs)\u001b[0m\n\u001b[1;32m   1734\u001b[0m     \u001b[38;5;28;01mreturn\u001b[39;00m \u001b[38;5;28mself\u001b[39m\u001b[38;5;241m.\u001b[39m_compiled_call_impl(\u001b[38;5;241m*\u001b[39margs, \u001b[38;5;241m*\u001b[39m\u001b[38;5;241m*\u001b[39mkwargs)  \u001b[38;5;66;03m# type: ignore[misc]\u001b[39;00m\n\u001b[1;32m   1735\u001b[0m \u001b[38;5;28;01melse\u001b[39;00m:\n\u001b[0;32m-> 1736\u001b[0m     \u001b[38;5;28;01mreturn\u001b[39;00m \u001b[38;5;28;43mself\u001b[39;49m\u001b[38;5;241;43m.\u001b[39;49m\u001b[43m_call_impl\u001b[49m\u001b[43m(\u001b[49m\u001b[38;5;241;43m*\u001b[39;49m\u001b[43margs\u001b[49m\u001b[43m,\u001b[49m\u001b[43m \u001b[49m\u001b[38;5;241;43m*\u001b[39;49m\u001b[38;5;241;43m*\u001b[39;49m\u001b[43mkwargs\u001b[49m\u001b[43m)\u001b[49m\n",
      "File \u001b[0;32m~/.local/lib/python3.10/site-packages/torch/nn/modules/module.py:1747\u001b[0m, in \u001b[0;36mModule._call_impl\u001b[0;34m(self, *args, **kwargs)\u001b[0m\n\u001b[1;32m   1742\u001b[0m \u001b[38;5;66;03m# If we don't have any hooks, we want to skip the rest of the logic in\u001b[39;00m\n\u001b[1;32m   1743\u001b[0m \u001b[38;5;66;03m# this function, and just call forward.\u001b[39;00m\n\u001b[1;32m   1744\u001b[0m \u001b[38;5;28;01mif\u001b[39;00m \u001b[38;5;129;01mnot\u001b[39;00m (\u001b[38;5;28mself\u001b[39m\u001b[38;5;241m.\u001b[39m_backward_hooks \u001b[38;5;129;01mor\u001b[39;00m \u001b[38;5;28mself\u001b[39m\u001b[38;5;241m.\u001b[39m_backward_pre_hooks \u001b[38;5;129;01mor\u001b[39;00m \u001b[38;5;28mself\u001b[39m\u001b[38;5;241m.\u001b[39m_forward_hooks \u001b[38;5;129;01mor\u001b[39;00m \u001b[38;5;28mself\u001b[39m\u001b[38;5;241m.\u001b[39m_forward_pre_hooks\n\u001b[1;32m   1745\u001b[0m         \u001b[38;5;129;01mor\u001b[39;00m _global_backward_pre_hooks \u001b[38;5;129;01mor\u001b[39;00m _global_backward_hooks\n\u001b[1;32m   1746\u001b[0m         \u001b[38;5;129;01mor\u001b[39;00m _global_forward_hooks \u001b[38;5;129;01mor\u001b[39;00m _global_forward_pre_hooks):\n\u001b[0;32m-> 1747\u001b[0m     \u001b[38;5;28;01mreturn\u001b[39;00m \u001b[43mforward_call\u001b[49m\u001b[43m(\u001b[49m\u001b[38;5;241;43m*\u001b[39;49m\u001b[43margs\u001b[49m\u001b[43m,\u001b[49m\u001b[43m \u001b[49m\u001b[38;5;241;43m*\u001b[39;49m\u001b[38;5;241;43m*\u001b[39;49m\u001b[43mkwargs\u001b[49m\u001b[43m)\u001b[49m\n\u001b[1;32m   1749\u001b[0m result \u001b[38;5;241m=\u001b[39m \u001b[38;5;28;01mNone\u001b[39;00m\n\u001b[1;32m   1750\u001b[0m called_always_called_hooks \u001b[38;5;241m=\u001b[39m \u001b[38;5;28mset\u001b[39m()\n",
      "File \u001b[0;32m~/.local/lib/python3.10/site-packages/torch/nn/modules/sparse.py:190\u001b[0m, in \u001b[0;36mEmbedding.forward\u001b[0;34m(self, input)\u001b[0m\n\u001b[1;32m    189\u001b[0m \u001b[38;5;28;01mdef\u001b[39;00m\u001b[38;5;250m \u001b[39m\u001b[38;5;21mforward\u001b[39m(\u001b[38;5;28mself\u001b[39m, \u001b[38;5;28minput\u001b[39m: Tensor) \u001b[38;5;241m-\u001b[39m\u001b[38;5;241m>\u001b[39m Tensor:\n\u001b[0;32m--> 190\u001b[0m     \u001b[38;5;28;01mreturn\u001b[39;00m \u001b[43mF\u001b[49m\u001b[38;5;241;43m.\u001b[39;49m\u001b[43membedding\u001b[49m\u001b[43m(\u001b[49m\n\u001b[1;32m    191\u001b[0m \u001b[43m        \u001b[49m\u001b[38;5;28;43minput\u001b[39;49m\u001b[43m,\u001b[49m\n\u001b[1;32m    192\u001b[0m \u001b[43m        \u001b[49m\u001b[38;5;28;43mself\u001b[39;49m\u001b[38;5;241;43m.\u001b[39;49m\u001b[43mweight\u001b[49m\u001b[43m,\u001b[49m\n\u001b[1;32m    193\u001b[0m \u001b[43m        \u001b[49m\u001b[38;5;28;43mself\u001b[39;49m\u001b[38;5;241;43m.\u001b[39;49m\u001b[43mpadding_idx\u001b[49m\u001b[43m,\u001b[49m\n\u001b[1;32m    194\u001b[0m \u001b[43m        \u001b[49m\u001b[38;5;28;43mself\u001b[39;49m\u001b[38;5;241;43m.\u001b[39;49m\u001b[43mmax_norm\u001b[49m\u001b[43m,\u001b[49m\n\u001b[1;32m    195\u001b[0m \u001b[43m        \u001b[49m\u001b[38;5;28;43mself\u001b[39;49m\u001b[38;5;241;43m.\u001b[39;49m\u001b[43mnorm_type\u001b[49m\u001b[43m,\u001b[49m\n\u001b[1;32m    196\u001b[0m \u001b[43m        \u001b[49m\u001b[38;5;28;43mself\u001b[39;49m\u001b[38;5;241;43m.\u001b[39;49m\u001b[43mscale_grad_by_freq\u001b[49m\u001b[43m,\u001b[49m\n\u001b[1;32m    197\u001b[0m \u001b[43m        \u001b[49m\u001b[38;5;28;43mself\u001b[39;49m\u001b[38;5;241;43m.\u001b[39;49m\u001b[43msparse\u001b[49m\u001b[43m,\u001b[49m\n\u001b[1;32m    198\u001b[0m \u001b[43m    \u001b[49m\u001b[43m)\u001b[49m\n",
      "File \u001b[0;32m~/.local/lib/python3.10/site-packages/torch/nn/functional.py:2551\u001b[0m, in \u001b[0;36membedding\u001b[0;34m(input, weight, padding_idx, max_norm, norm_type, scale_grad_by_freq, sparse)\u001b[0m\n\u001b[1;32m   2545\u001b[0m     \u001b[38;5;66;03m# Note [embedding_renorm set_grad_enabled]\u001b[39;00m\n\u001b[1;32m   2546\u001b[0m     \u001b[38;5;66;03m# XXX: equivalent to\u001b[39;00m\n\u001b[1;32m   2547\u001b[0m     \u001b[38;5;66;03m# with torch.no_grad():\u001b[39;00m\n\u001b[1;32m   2548\u001b[0m     \u001b[38;5;66;03m#   torch.embedding_renorm_\u001b[39;00m\n\u001b[1;32m   2549\u001b[0m     \u001b[38;5;66;03m# remove once script supports set_grad_enabled\u001b[39;00m\n\u001b[1;32m   2550\u001b[0m     _no_grad_embedding_renorm_(weight, \u001b[38;5;28minput\u001b[39m, max_norm, norm_type)\n\u001b[0;32m-> 2551\u001b[0m \u001b[38;5;28;01mreturn\u001b[39;00m \u001b[43mtorch\u001b[49m\u001b[38;5;241;43m.\u001b[39;49m\u001b[43membedding\u001b[49m\u001b[43m(\u001b[49m\u001b[43mweight\u001b[49m\u001b[43m,\u001b[49m\u001b[43m \u001b[49m\u001b[38;5;28;43minput\u001b[39;49m\u001b[43m,\u001b[49m\u001b[43m \u001b[49m\u001b[43mpadding_idx\u001b[49m\u001b[43m,\u001b[49m\u001b[43m \u001b[49m\u001b[43mscale_grad_by_freq\u001b[49m\u001b[43m,\u001b[49m\u001b[43m \u001b[49m\u001b[43msparse\u001b[49m\u001b[43m)\u001b[49m\n",
      "\u001b[0;31mIndexError\u001b[0m: index out of range in self"
     ]
    }
   ],
   "source": [
    "results = [evaluate_answer(row) for _, row in df.loc[:3].iterrows()]\n",
    "results_df = pd.DataFrame(results)\n",
    "results_df"
   ]
  },
  {
   "cell_type": "code",
   "execution_count": null,
   "id": "26167e5b",
   "metadata": {},
   "outputs": [],
   "source": []
  }
 ],
 "metadata": {
  "kernelspec": {
   "display_name": "Python 3",
   "language": "python",
   "name": "python3"
  },
  "language_info": {
   "codemirror_mode": {
    "name": "ipython",
    "version": 3
   },
   "file_extension": ".py",
   "mimetype": "text/x-python",
   "name": "python",
   "nbconvert_exporter": "python",
   "pygments_lexer": "ipython3",
   "version": "3.10.12"
  }
 },
 "nbformat": 4,
 "nbformat_minor": 5
}
